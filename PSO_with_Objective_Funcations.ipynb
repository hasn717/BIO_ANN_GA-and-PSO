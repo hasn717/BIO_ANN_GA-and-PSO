{
  "nbformat": 4,
  "nbformat_minor": 0,
  "metadata": {
    "colab": {
      "provenance": [],
      "collapsed_sections": [
        "nmPyxyntM84Y",
        "Mf4O9CkiM4VZ"
      ]
    },
    "kernelspec": {
      "name": "python3",
      "display_name": "Python 3"
    },
    "language_info": {
      "name": "python"
    }
  },
  "cells": [
    {
      "cell_type": "code",
      "source": [
        "!pip install optproblems"
      ],
      "metadata": {
        "colab": {
          "base_uri": "https://localhost:8080/"
        },
        "id": "rJhUCeK_v3UG",
        "outputId": "e7cda478-3e2f-438a-ba6e-64a69ef9264f"
      },
      "execution_count": 1,
      "outputs": [
        {
          "output_type": "stream",
          "name": "stdout",
          "text": [
            "Looking in indexes: https://pypi.org/simple, https://us-python.pkg.dev/colab-wheels/public/simple/\n",
            "Requirement already satisfied: optproblems in /usr/local/lib/python3.7/dist-packages (1.3)\n"
          ]
        }
      ]
    },
    {
      "cell_type": "code",
      "source": [
        "import random\n",
        "import math\n",
        "import matplotlib.pyplot as plt\n",
        "import numpy as np\n",
        "from math import sin, sqrt\n",
        "from  optproblems import cec2005\n",
        "from  optproblems import Individual\n",
        "import statistics\n",
        "from datetime import datetime"
      ],
      "metadata": {
        "id": "QKaCpsdvtpL7"
      },
      "execution_count": 2,
      "outputs": []
    },
    {
      "cell_type": "code",
      "source": [
        "class Problem:\n",
        "  def __init__(self,f):\n",
        "    self.f = f\n",
        "  \n",
        "  def evaluate(self,sol):\n",
        "      func =  self.f(len(sol))\n",
        "      solution=Individual(sol)\n",
        "      func.evaluate(solution)\n",
        "      return solution.objective_values\n",
        "\n",
        "  def optimal(self,length):\n",
        "    func = self.f(length)\n",
        "    solutions = func.get_optimal_solutions()\n",
        "    for sol in solutions:\n",
        "      func.evaluate(sol) # return single solution\n",
        "      return sol.objective_values\n",
        "    return 0"
      ],
      "metadata": {
        "id": "MciINy9q4eMW"
      },
      "execution_count": 3,
      "outputs": []
    },
    {
      "cell_type": "code",
      "source": [
        "class Particle:\n",
        "    \"\"\"A particle consists of two parts:\n",
        "          The particle’s location in space, ~x = hx1, x2, ...i. This is the equivalent, in evolutionary algorithms, of the individual’s genotype.\n",
        "          The particle’s velocity, ~v = hv1, v2, ...i. This is the speed and direction at which the particle is traveling each timestep\"\"\"\n",
        "    def __init__(self, bounds,w,c1,c2,num_variables):\n",
        "        self.particle_velocity = []                     \n",
        "        self.particle_position = []                     \n",
        "        self.best_position = [] # particle best position        \n",
        "        self.best_pos_fitness = float(\"inf\") # initialize best position fitness \n",
        "        self.particle_pos_fitness = float(\"inf\")\n",
        "        self.num_variables = num_variables                 \n",
        "        self.w=w\n",
        "        self.c1=c1\n",
        "        self.c2=c2\n",
        "\n",
        "       \n",
        "        for i in range(self.num_variables):\n",
        "        #define random initial position and velocity\n",
        "            self.particle_position.append(random.uniform(bounds[0],bounds[1]))\n",
        "            self.particle_velocity.append(random.uniform(-1, 1))\n",
        "    #Evalaute using Objective Funcations \n",
        "    def evaluate(self, objective_fun):\n",
        "        self.particle_pos_fitness = objective_fun.evaluate(\n",
        "            self.particle_position)\n",
        "        \n",
        "        if self.particle_pos_fitness < self.best_pos_fitness:\n",
        "          #update best position and fitness\n",
        "          self.best_position = self.particle_position\n",
        "          self.best_pos_fitness = self.particle_pos_fitness\n",
        "\n",
        "    def update_position(self, bounds):\n",
        "        for i in range(self.num_variables):\n",
        "            self.particle_position[i] = self.particle_position[i] + \\\n",
        "                self.particle_velocity[i]\n",
        "\n",
        "            # checking with the upper bounds\n",
        "            if self.particle_position[i] > bounds[1]:\n",
        "                self.particle_position[i] = bounds[1]\n",
        "            # checking with the lower bounds\n",
        "            if self.particle_position[i] < bounds[0]:\n",
        "                self.particle_position[i] = bounds[0]\n",
        "\n",
        "    # update particles by cheinging their positions and velocity depending on information of best position and global best position\n",
        "    \"\"\"Velocity update\n",
        "        At each iteration, velocity of a particle is changed according to four criteria\n",
        "        1-\t Own best position so far (cognitive component): a coefficient (𝛽) is used to\n",
        "             weight this component, usually called the cognitive weight\n",
        "        2-\tInformants’ best position (social component): a coefficient (𝛾) is used to\n",
        "            weight this component, called the social weight\n",
        "        3-\tGlobal best position (part of social component): weighted by a coefficient (𝛿)\n",
        "            called the global weight\n",
        "        4-\tAn inertia principle by which we consider the previous velocity, using an\n",
        "            inertia weight (𝛼)\"\"\"  \n",
        "    def update_velocity(self, global_best_pos, fittest_informant):\n",
        "        self.fittest_informant=fittest_informant\n",
        "        for i in range(self.num_variables):\n",
        "            r1 = random.random()\n",
        "            r2 = random.random()\n",
        "\n",
        "            cognitive_velocity = self.c1*r1 * \\\n",
        "                (self.best_position[i] -\n",
        "                 self.particle_position[i])\n",
        "            #update social velocity by informant fittest\n",
        "            social_velocity = self.c2*r2 * \\\n",
        "                (fittest_informant.particle_position[i] - self.particle_position[i])\n",
        "            globalVelocity=self.c2*r2 * \\\n",
        "                (global_best_pos[i] - self.particle_position[i])    \n",
        "            self.particle_velocity[i] = self.w*self.particle_velocity[i] + \\\n",
        "                cognitive_velocity + social_velocity+globalVelocity"
      ],
      "metadata": {
        "id": "iZiU5txEuOza"
      },
      "execution_count": 4,
      "outputs": []
    },
    {
      "cell_type": "code",
      "source": [
        "#Evaluate swarm and return the fittest particle based on previous position\n",
        "def get_current_best(swarm, objective_fun):\n",
        "    fitnesses = [assess_fitness(x.particle_position, objective_fun) for x in swarm]\n",
        "    best_value = min(fitnesses)\n",
        "    best_index = fitnesses.index(best_value)\n",
        "    return swarm[best_index]\n",
        "\n",
        "def assess_fitness(individual, objective_fun):\n",
        "    \"Determines the fitness of an individual using the given problem\"\n",
        "    return objective_fun.evaluate(individual)\n"
      ],
      "metadata": {
        "id": "JL9VbyX4TAfl"
      },
      "execution_count": 5,
      "outputs": []
    },
    {
      "cell_type": "code",
      "source": [
        "class PSO():\n",
        "    def __init__(self, objective_fun, bounds, num_particles, iterations,num_informants,w,c1,c2,num_variables):\n",
        "        self.num_informants = num_informants #informants: set of particles with which a particle shares information\n",
        "        self.global_best_fitness = float(\"inf\")\n",
        "        self.global_best_pos = []\n",
        "        global_best_positions=[]\n",
        "        swarm_particle = []\n",
        "        self.history = []\n",
        "        for i in range(num_particles):# Particle size= number of particles\n",
        "            swarm_particle.append(Particle(bounds,w,c1,c2,num_variables))\n",
        "\n",
        "        for i in range(iterations):\n",
        "            for j in range(num_particles):\n",
        "                swarm_particle[j].evaluate(objective_fun)\n",
        "                \n",
        "                if swarm_particle[j].particle_pos_fitness < self.global_best_fitness:\n",
        "                  self.global_best_pos = list(swarm_particle[j].particle_position)\n",
        "                  self.global_best_fitness = float(swarm_particle[j].particle_pos_fitness)\n",
        "            self.history.append(self.global_best_fitness)\n",
        "\n",
        "            ## iterate to assign particle informants and update the position and velocity for particle with gbest and ibest\n",
        "            for j in range(num_particles):\n",
        "                #informants find fittest\n",
        "                informants = np.random.choice(swarm_particle, self.num_informants)\n",
        "                if swarm_particle[j] not in informants:\n",
        "                  np.append(informants, swarm_particle[j])\n",
        "                  #find the best in swarm by informants    \n",
        "                fittest_informant = get_current_best(informants, objective_fun)\n",
        "\n",
        "                swarm_particle[j].update_velocity(self.global_best_pos, fittest_informant)\n",
        "                swarm_particle[j].update_position(bounds)       \n",
        "        \n",
        "    def get_fittest_global_Pos(self):\n",
        "      return self.global_best_pos\n",
        "    def get_global_best_fitness(self):\n",
        "      return self.global_best_fitness"
      ],
      "metadata": {
        "id": "WlN7BchrK5ib"
      },
      "execution_count": 6,
      "outputs": []
    },
    {
      "cell_type": "markdown",
      "source": [
        "# Evaluation & Experiments"
      ],
      "metadata": {
        "id": "NAg7igwodKFK"
      }
    },
    {
      "cell_type": "code",
      "source": [
        "f1 = Problem(cec2005.F1)\n",
        "f2 = Problem(cec2005.F2)\n",
        "f3 = Problem(cec2005.F3)\n",
        "f4 = Problem(cec2005.F4)\n",
        "f5 = Problem(cec2005.F5)\n",
        "f6 = Problem(cec2005.F6)\n",
        "f8 = Problem(cec2005.F8)"
      ],
      "metadata": {
        "id": "deEQRgR24h4N"
      },
      "execution_count": 7,
      "outputs": []
    },
    {
      "cell_type": "code",
      "source": [
        "def run_experiment(OBJECTIVE_FUNC,VECTOR_LENGTH,BOUNDS, NUM_PARTICLES, ITERATIONS, NUM_INFORMANTS,W,C1,C2,runs=50):\n",
        "  ## Evaluation \n",
        "  evaluation = {\n",
        "      'accuracies': [],\n",
        "      'timedRuns': [],\n",
        "      'runs': [],\n",
        "  }\n",
        "  for run in range(runs):\n",
        "    print('RUN ',run+1)\n",
        "    start_time = datetime.now()\n",
        "    pso = PSO(OBJECTIVE_FUNC, BOUNDS, NUM_PARTICLES, ITERATIONS, NUM_INFORMANTS,W,C1,C2,VECTOR_LENGTH)\n",
        "    score,solution=pso.get_global_best_fitness(), pso.get_fittest_global_Pos()\n",
        "    delta_time = datetime.now() - start_time \n",
        "    timeTaken = delta_time.total_seconds() * 1000\n",
        "    accuracy = (score / OBJECTIVE_FUNC.optimal(VECTOR_LENGTH)) * 100\n",
        "\n",
        "    evaluation['timedRuns'].append(timeTaken)\n",
        "    evaluation['accuracies'].append(accuracy)\n",
        "    evaluation['runs'].append(pso.history)\n",
        "\n",
        "    print('Time taken->',timeTaken, 'ms')\n",
        "    print('Fittest individual->',solution)\n",
        "    print('Accuracy ->',accuracy,'%')\n",
        "    print('#####################################')\n",
        "  return evaluation"
      ],
      "metadata": {
        "id": "RQqBMVLjUwc8"
      },
      "execution_count": 8,
      "outputs": []
    },
    {
      "cell_type": "code",
      "source": [
        "## Experiments parameetrs \n",
        "experiment_runs = 25"
      ],
      "metadata": {
        "id": "Bd0RWaLuYY9G"
      },
      "execution_count": 9,
      "outputs": []
    },
    {
      "cell_type": "markdown",
      "source": [
        "## Experiment 1"
      ],
      "metadata": {
        "id": "eQgf_I7lgwug"
      }
    },
    {
      "cell_type": "markdown",
      "source": [
        "### F1"
      ],
      "metadata": {
        "id": "SF5b88c_M09o"
      }
    },
    {
      "cell_type": "code",
      "source": [
        "## Running Experiment 1 for F1\n",
        "## Hyperparameters\n",
        "print('F1')\n",
        "OBJECTIVE_FUNC=f1\n",
        "VECTOR_LENGTH = 10\n",
        "BOUNDS= (-100,100)\n",
        "NUM_PARTICLES =50\n",
        "ITERATIONS=30\n",
        "NUM_INFORMANTS=2\n",
        "W = 0.1  # inertia constant\n",
        "C1 = 0.1   # cognative constant\n",
        "C2 = 1    # social constant\n",
        "exp_f1 = run_experiment(OBJECTIVE_FUNC,VECTOR_LENGTH,BOUNDS,NUM_PARTICLES,ITERATIONS,NUM_INFORMANTS,W,C1,C2,experiment_runs)"
      ],
      "metadata": {
        "colab": {
          "base_uri": "https://localhost:8080/"
        },
        "id": "upc4bFj9gxpY",
        "outputId": "d51b48d4-146c-4ea2-f750-7f55a76cac3d"
      },
      "execution_count": 10,
      "outputs": [
        {
          "output_type": "stream",
          "name": "stdout",
          "text": [
            "F1\n",
            "RUN  1\n",
            "Time taken-> 372.697 ms\n",
            "Fittest individual-> [-39.263555463142694, 58.93300970037971, -46.37390952983018, -74.54914893044926, -16.820278702032688, -80.60297562912059, -10.64562703511144, 24.953445620865022, 89.84470564153906, 9.095177650414058]\n",
            "Accuracy -> 99.99472368658215 %\n",
            "#####################################\n",
            "RUN  2\n",
            "Time taken-> 419.293 ms\n",
            "Fittest individual-> [-39.413145299803794, 58.837021197775854, -46.37087769895834, -74.59659556753054, -16.90577724314611, -81.45600773950173, -10.491499667941962, 24.992112153851956, 89.85333715972612, 9.11638013628568]\n",
            "Accuracy -> 99.80587552324143 %\n",
            "#####################################\n",
            "RUN  3\n",
            "Time taken-> 525.7180000000001 ms\n",
            "Fittest individual-> [-38.77796180091883, 58.95691326095799, -46.24433679050134, -74.76741687560023, -16.999995207259904, -80.43291691182235, -10.566586119781372, 24.91749685045181, 89.86202277102373, 8.949664420183419]\n",
            "Accuracy -> 99.91318940871379 %\n",
            "#####################################\n",
            "RUN  4\n",
            "Time taken-> 364.29200000000003 ms\n",
            "Fittest individual-> [-39.252240407994236, 58.8877260028271, -46.28674894219123, -74.60279704538208, -16.80768218906154, -80.54898805307343, -10.603205993891319, 24.984842564664387, 89.84151630782975, 9.17529519901317]\n",
            "Accuracy -> 99.99737791133441 %\n",
            "#####################################\n",
            "RUN  5\n",
            "Time taken-> 384.685 ms\n",
            "Fittest individual-> [-39.3235539709519, 58.8857350042043, -46.35501784581814, -74.68554914233354, -16.82778978346201, -80.55772212994894, -10.63173852140862, 24.980452527904173, 89.83159368603772, 9.15483863308302]\n",
            "Accuracy -> 99.998442505894 %\n",
            "#####################################\n",
            "RUN  6\n",
            "Time taken-> 384.14799999999997 ms\n",
            "Fittest individual-> [-39.17224717790305, 59.16798821694253, -46.18083269533447, -74.66710897574873, -16.77977932110628, -80.47610378926689, -10.616055117477316, 24.94558055107502, 89.91720371387234, 9.138604118924947]\n",
            "Accuracy -> 99.97229362276931 %\n",
            "#####################################\n",
            "RUN  7\n",
            "Time taken-> 379.767 ms\n",
            "Fittest individual-> [-39.36160106745943, 58.703957285833916, -47.665400924920334, -74.73948092583987, -16.653801320816147, -81.09675800655394, -10.237540777504929, 25.13334087032306, 90.21759385472933, 8.411604786062474]\n",
            "Accuracy -> 99.34072041978766 %\n",
            "#####################################\n",
            "RUN  8\n",
            "Time taken-> 538.3480000000001 ms\n",
            "Fittest individual-> [-39.2772567203989, 58.90900885529855, -46.40098375039419, -74.639459622094, -16.854871310745153, -80.69643429922222, -10.52373964474454, 25.031599294917566, 89.84768011687372, 9.180711204114461]\n",
            "Accuracy -> 99.98946456029427 %\n",
            "#####################################\n",
            "RUN  9\n",
            "Time taken-> 357.966 ms\n",
            "Fittest individual-> [-39.187609803884314, 58.428264645822026, -46.53914569613349, -74.84964398484854, -16.766747861849886, -80.33791899840529, -10.541490950512602, 25.124068757088658, 89.68675163702908, 9.275258752677036]\n",
            "Accuracy -> 99.90132559594927 %\n",
            "#####################################\n",
            "RUN  10\n",
            "Time taken-> 386.56 ms\n",
            "Fittest individual-> [-39.27203965988533, 58.93789576960412, -46.25866473613644, -74.55069329435945, -16.9803462918765, -80.5988070249743, -10.642826794687231, 24.99100909656369, 89.7475513289158, 9.166293236985483]\n",
            "Accuracy -> 99.98511225926 %\n",
            "#####################################\n",
            "RUN  11\n",
            "Time taken-> 371.102 ms\n",
            "Fittest individual-> [-39.24191995835489, 58.564039794807194, -45.98293946270006, -74.71039516089805, -16.577800674097983, -80.23617673614005, -10.989235237244667, 25.060608333259317, 89.63743163308666, 8.795945325581384]\n",
            "Accuracy -> 99.84764479863917 %\n",
            "#####################################\n",
            "RUN  12\n",
            "Time taken-> 384.618 ms\n",
            "Fittest individual-> [-39.33819952820706, 58.905943869291626, -46.33223319423376, -74.67550142044605, -16.851843229232227, -80.58422697089922, -10.602056946762291, 24.904828293217435, 89.81626534489915, 9.136371953937289]\n",
            "Accuracy -> 99.99754186895085 %\n",
            "#####################################\n",
            "RUN  13\n",
            "Time taken-> 392.658 ms\n",
            "Fittest individual-> [-39.43092433591935, 58.93270430577719, -46.42705603801448, -74.48151367577502, -17.37044318494174, -80.5682099341903, -10.408584678195796, 24.909136524212236, 89.97815246314096, 8.67511656324304]\n",
            "Accuracy -> 99.86009864263329 %\n",
            "#####################################\n",
            "RUN  14\n",
            "Time taken-> 385.04 ms\n",
            "Fittest individual-> [-39.31006950134996, 58.884125251643106, -46.318364630303854, -74.64750091402391, -16.788609715872784, -80.5382077344123, -10.63193014576821, 24.932529401572076, 89.83937931958569, 9.098733759194687]\n",
            "Accuracy -> 99.99923270897777 %\n",
            "#####################################\n",
            "RUN  15\n",
            "Time taken-> 402.708 ms\n",
            "Fittest individual-> [-39.52920739483641, 59.075402857414524, -46.35135651786139, -74.87358531936344, -16.513604924996486, -80.70010621362296, -10.594242942184357, 24.564193273311602, 89.78544954824108, 8.899043569774738]\n",
            "Accuracy -> 99.90073842000194 %\n",
            "#####################################\n",
            "RUN  16\n",
            "Time taken-> 379.72499999999997 ms\n",
            "Fittest individual-> [-39.337143336652396, 58.885810729590695, -46.322834727155914, -74.63808626135926, -16.831555715451223, -80.54919719789685, -10.561381804626125, 24.98613711538352, 99.99997314978852, 9.121964190964324]\n",
            "Accuracy -> 77.05310255668009 %\n",
            "#####################################\n",
            "RUN  17\n",
            "Time taken-> 378.214 ms\n",
            "Fittest individual-> [-39.558426743297474, 59.039576348321894, -47.0936238981034, -74.86029584449416, -16.878350105615226, -81.35569147779167, -10.472679375787063, 25.31077273426602, 89.86270475756223, 8.90483939581912]\n",
            "Accuracy -> 99.65374860643512 %\n",
            "#####################################\n",
            "RUN  18\n",
            "Time taken-> 534.303 ms\n",
            "Fittest individual-> [-39.20045816565245, 58.886047278627, -46.39422680091745, -74.54798993192291, -16.89161946015124, -80.42574951405012, -10.565240713785334, 24.92269458921605, 89.72514247606772, 9.202326293282868]\n",
            "Accuracy -> 99.98335004612609 %\n",
            "#####################################\n",
            "RUN  19\n",
            "Time taken-> 711.061 ms\n",
            "Fittest individual-> [-39.31987911676344, 58.89725514959476, -46.28860280787339, -74.66683577355919, -16.831037502716352, -80.52888071552258, -10.60037017941718, 24.94760743678095, 89.81487143674312, 9.115013542753655]\n",
            "Accuracy -> 99.99916729644553 %\n",
            "#####################################\n",
            "RUN  20\n",
            "Time taken-> 742.186 ms\n",
            "Fittest individual-> [-39.30821856105083, 58.89374225122625, -46.30933214639515, -74.70889605867706, -16.785167166282804, -80.54391501002247, -10.582886013979463, 24.95332742717251, 89.77032239345762, 9.088588602355037]\n",
            "Accuracy -> 99.99793849983142 %\n",
            "#####################################\n",
            "RUN  21\n",
            "Time taken-> 788.906 ms\n",
            "Fittest individual-> [-39.33207195719989, 59.099613693183116, -46.49212635098445, -74.72488429237055, -16.87198826904805, -80.43126725831705, -10.58154361996863, 25.055123712766424, 90.29600193484207, 9.18647492346247]\n",
            "Accuracy -> 99.9300235473201 %\n",
            "#####################################\n",
            "RUN  22\n",
            "Time taken-> 774.6469999999999 ms\n",
            "Fittest individual-> [-39.24282470346248, 58.744760721278496, -46.29109813582054, -74.64196621853837, -16.73084197114825, -80.50927016978318, -10.642805242182394, 25.02234209233714, 89.81278838580494, 9.042784989092674]\n",
            "Accuracy -> 99.98965965580967 %\n",
            "#####################################\n",
            "RUN  23\n",
            "Time taken-> 708.711 ms\n",
            "Fittest individual-> [-39.302739625048396, 58.91469767288335, -46.311962742118354, -74.68795811468426, -16.807175544980876, -80.56849240086686, -10.571220108761608, 24.966741579252087, 99.9756669245001, 9.187058973127153]\n",
            "Accuracy -> 77.16161668497263 %\n",
            "#####################################\n",
            "RUN  24\n",
            "Time taken-> 803.177 ms\n",
            "Fittest individual-> [-39.765246284639645, 59.053751449587224, -46.43144653952287, -74.4875430751368, -16.533873124483417, -80.62177689639965, -9.842143545671352, 25.11274173938465, 89.90591582255205, 8.971870672378971]\n",
            "Accuracy -> 99.78801916757547 %\n",
            "#####################################\n",
            "RUN  25\n",
            "Time taken-> 687.075 ms\n",
            "Fittest individual-> [-39.3084378110318, 60.11039679109206, -46.077116074736615, -74.47028919040201, -16.608203837039643, -80.57149013826191, -10.660820660335771, 25.05332468074069, 99.99484382489251, 8.877160836590958]\n",
            "Accuracy -> 76.70760753422495 %\n",
            "#####################################\n"
          ]
        }
      ]
    },
    {
      "cell_type": "markdown",
      "source": [
        "### F4"
      ],
      "metadata": {
        "id": "nmPyxyntM84Y"
      }
    },
    {
      "cell_type": "code",
      "source": [
        "## Running Experiment 1 for F4\n",
        "## Hyperparameters\n",
        "print('F4')\n",
        "OBJECTIVE_FUNC=f4\n",
        "VECTOR_LENGTH = 10\n",
        "BOUNDS= (-100,100)\n",
        "NUM_PARTICLES =150\n",
        "ITERATIONS=50\n",
        "NUM_INFORMANTS=10\n",
        "W = 0.1  # inertia constant\n",
        "C1 = 0.1   # cognative constant\n",
        "C2 = 1    # social constant\n",
        "exp_f4 = run_experiment(OBJECTIVE_FUNC,VECTOR_LENGTH,BOUNDS,NUM_PARTICLES,ITERATIONS,NUM_INFORMANTS,W,C1,C2,experiment_runs)"
      ],
      "metadata": {
        "colab": {
          "base_uri": "https://localhost:8080/"
        },
        "id": "MboXc7Iyg-GP",
        "outputId": "579402bf-db7a-4c76-bf07-d1708c8ce091"
      },
      "execution_count": 11,
      "outputs": [
        {
          "output_type": "stream",
          "name": "stdout",
          "text": [
            "F4\n",
            "RUN  1\n",
            "Time taken-> 5128.829 ms\n",
            "Fittest individual-> [34.22857007774971, -80.83796333787643, -8.555037984774962, -95.96823555234947, 99.93507782020825, 37.44910763739126, -84.14030712032108, -30.012222651732714, 74.76837859449635, -38.01648321063693]\n",
            "Accuracy -> 62.37908886903774 %\n",
            "#####################################\n",
            "RUN  2\n",
            "Time taken-> 11268.337000000001 ms\n",
            "Fittest individual-> [35.71397275728241, -82.26866836003919, -12.615996033963993, -81.35291558890623, 81.6168409340773, 47.09419792269931, -87.25382950260891, -26.01428531500083, 69.80946722654161, -36.24290381781624]\n",
            "Accuracy -> 94.04686044294172 %\n",
            "#####################################\n",
            "RUN  3\n",
            "Time taken-> 9970.7 ms\n",
            "Fittest individual-> [43.15441456645774, -96.83970081437191, 1.1182118800819496, -94.73572086556936, 92.52177705047056, 41.43390231477702, -85.36860477343332, -30.798302112571882, 79.89934613029473, -42.089303906300024]\n",
            "Accuracy -> 58.00677097867803 %\n",
            "#####################################\n",
            "RUN  4\n",
            "Time taken-> 4376.442 ms\n",
            "Fittest individual-> [35.49988967399265, -82.74691942403761, -10.668527848382855, -83.61082618050476, 83.23033736479468, 46.92425550144901, -89.31774369999991, -27.476245069590938, 76.10211457152973, -39.01617797160044]\n",
            "Accuracy -> 99.9931621130439 %\n",
            "#####################################\n",
            "RUN  5\n",
            "Time taken-> 4319.3679999999995 ms\n",
            "Fittest individual-> [38.89025969476013, -89.30370365258366, -5.962673107941345, -85.4770020648554, 84.1152779471905, 45.70759679718892, -89.17167047493243, -26.553204329444743, 75.50960225481418, -38.70017117499321]\n",
            "Accuracy -> 94.59659041094184 %\n",
            "#####################################\n",
            "RUN  6\n",
            "Time taken-> 4356.434 ms\n",
            "Fittest individual-> [36.2811025071489, -83.50440346570639, -11.493091984997815, -82.45482234460594, 81.54578173292353, 52.71939933059798, -96.97803335347037, -24.84468767190573, 76.38446327182211, -38.41681444478056]\n",
            "Accuracy -> 92.76611049259084 %\n",
            "#####################################\n",
            "RUN  7\n",
            "Time taken-> 4464.000999999999 ms\n",
            "Fittest individual-> [21.459325380498257, -54.95177989425135, -30.096307083475903, -73.81966480420834, 76.73325702298433, 54.76937447864197, -99.97917312360585, -17.16850184202065, 69.34700876153522, -34.841404105921015]\n",
            "Accuracy -> -19.18031141145083 %\n",
            "#####################################\n",
            "RUN  8\n",
            "Time taken-> 4430.905 ms\n",
            "Fittest individual-> [36.3632194754438, -84.02437461304788, -12.29031850918499, -79.49599562134088, 81.66366323841024, 46.458597192997736, -89.23777186499004, -39.749650055287496, 99.50888289574017, -49.47903067061566]\n",
            "Accuracy -> 37.00270505436117 %\n",
            "#####################################\n",
            "RUN  9\n",
            "Time taken-> 4345.798000000001 ms\n",
            "Fittest individual-> [36.81185990883118, -87.82986847801912, -5.805268853318227, -85.37034212775542, 85.7946237463203, 43.98338250845382, -87.33552224842438, -26.736475614395065, 72.7931406336587, -36.76742996236]\n",
            "Accuracy -> 93.53083796886666 %\n",
            "#####################################\n",
            "RUN  10\n",
            "Time taken-> 4284.707 ms\n",
            "Fittest individual-> [26.26284371212092, -64.11297848808152, -26.505043665170895, -60.663352692694005, 55.42509224067908, 46.492639565014, -76.58109659816988, -30.734066192059274, 95.78675880706746, -59.77604886819519]\n",
            "Accuracy -> -138.9064781195663 %\n",
            "#####################################\n",
            "RUN  11\n",
            "Time taken-> 4364.074 ms\n",
            "Fittest individual-> [33.06029695484926, -80.8886196137382, -7.549745602262925, -85.89207099743544, 81.40252033857573, 49.73235069077825, -90.21987337504461, -28.212653186429197, 76.851691093335, -39.34792658891725]\n",
            "Accuracy -> 96.09993795037552 %\n",
            "#####################################\n",
            "RUN  12\n",
            "Time taken-> 4338.8099999999995 ms\n",
            "Fittest individual-> [34.78481200435554, -83.7466788071809, -6.429251350296665, -87.12975501226458, 87.44771070292009, 41.945623222388335, -88.2406977679657, -25.78943639928075, 73.37188893281989, -36.86874590580062]\n",
            "Accuracy -> 93.38481858047855 %\n",
            "#####################################\n",
            "RUN  13\n",
            "Time taken-> 6651.903 ms\n",
            "Fittest individual-> [33.22713456743806, -78.71625174998753, -13.342417794010723, -79.75966403810398, 76.59498106367559, 57.36848781438685, -98.42830006998278, -27.989286921675102, 80.13449481642304, -40.668698804712655]\n",
            "Accuracy -> 79.67282114096346 %\n",
            "#####################################\n",
            "RUN  14\n",
            "Time taken-> 4310.514999999999 ms\n",
            "Fittest individual-> [33.93862835610586, -62.04166005515013, -59.722815077124956, -44.16170812895922, 86.32963849074277, 21.516051519668842, -66.6126191517981, -40.1656493737553, 59.96476233887514, -2.882411519032689]\n",
            "Accuracy -> -443.49406273689755 %\n",
            "#####################################\n",
            "RUN  15\n",
            "Time taken-> 4366.345 ms\n",
            "Fittest individual-> [35.22784562635402, -76.94965801440684, -21.494564934963492, -76.40328199328293, 81.81103502239702, 44.86498711455117, -86.5757278805976, -29.548568508981045, 77.07795545082487, -39.239138892545036]\n",
            "Accuracy -> 84.81563124395565 %\n",
            "#####################################\n",
            "RUN  16\n",
            "Time taken-> 4186.8550000000005 ms\n",
            "Fittest individual-> [33.55402903022083, -79.79457906852672, -9.754754186365547, -86.73560362548912, 82.86333306293274, 48.671007592627284, -89.15950214826813, -28.23030099499382, 76.61613089812482, -38.87035462735324]\n",
            "Accuracy -> 97.04281999470375 %\n",
            "#####################################\n",
            "RUN  17\n",
            "Time taken-> 4307.157 ms\n",
            "Fittest individual-> [34.45528306438592, -78.87812688576017, -14.728410836221858, -81.89545261544846, 84.39722276294911, 46.34984768081956, -93.4580657748716, -21.214035361160374, 70.37238413671017, -36.397558841795124]\n",
            "Accuracy -> 90.85001369173041 %\n",
            "#####################################\n",
            "RUN  18\n",
            "Time taken-> 4433.242 ms\n",
            "Fittest individual-> [35.63396029411296, -82.86747435298714, -10.851132726400348, -83.25782633119013, 83.14330406397947, 46.72790512810258, -89.21364440306337, -27.556097941851245, 76.30070500285349, -39.160571969723684]\n",
            "Accuracy -> 99.97277240755358 %\n",
            "#####################################\n",
            "RUN  19\n",
            "Time taken-> 4395.975 ms\n",
            "Fittest individual-> [36.44647768817777, -82.5042862294838, -16.74651775485734, -73.62864066780006, 74.4078716824153, 54.13963385183589, -93.40660559687582, -29.634912353341363, 79.64294607024033, -40.42345045526004]\n",
            "Accuracy -> 80.89745984588066 %\n",
            "#####################################\n",
            "RUN  20\n",
            "Time taken-> 4385.102 ms\n",
            "Fittest individual-> [26.072574836373843, -62.20837597243947, -22.515115096495617, -81.80184459273208, 83.32844522625797, 35.352530522529875, -74.96295961427911, -35.10353866785266, 80.58655280947659, -37.84120402041735]\n",
            "Accuracy -> 19.257405983327732 %\n",
            "#####################################\n",
            "RUN  21\n",
            "Time taken-> 4364.187 ms\n",
            "Fittest individual-> [38.9365959294077, -97.54480608544128, 10.284664806404056, -99.97996677834816, 85.97254643776752, 58.545084141892154, -99.99999979811211, -20.53893745013353, 69.01989382665285, -35.71491207880819]\n",
            "Accuracy -> 14.48174456998077 %\n",
            "#####################################\n",
            "RUN  22\n",
            "Time taken-> 4517.8330000000005 ms\n",
            "Fittest individual-> [31.429527118816544, -78.8469755824437, -10.400615331649112, -83.76994136815146, 83.16007209455783, 48.65794312332561, -92.11000738795654, -27.172554749155417, 78.78784260287476, -41.88927874495861]\n",
            "Accuracy -> 94.14330153442066 %\n",
            "#####################################\n",
            "RUN  23\n",
            "Time taken-> 4377.968 ms\n",
            "Fittest individual-> [34.80829500571328, -80.11226307956338, -6.736247570458424, -97.02667793597115, 92.2731261731025, 44.20895312469308, -87.6005577076614, -27.69503128881207, 75.17302405242084, -37.94779383589356]\n",
            "Accuracy -> 77.4414685893227 %\n",
            "#####################################\n",
            "RUN  24\n",
            "Time taken-> 4975.8240000000005 ms\n",
            "Fittest individual-> [35.237882800854464, -82.50586118274305, -11.005863160855888, -83.11590882904007, 83.72675291555049, 45.628460806750354, -87.3956009645776, -29.103630081798638, 76.55165943858422, -39.40344284896002]\n",
            "Accuracy -> 99.2732682642725 %\n",
            "#####################################\n",
            "RUN  25\n",
            "Time taken-> 5397.849 ms\n",
            "Fittest individual-> [45.44625164138235, -99.99762328970294, -8.272043827244575, -77.5066889596562, 82.59554681100349, 47.6134141932333, -92.7664378551512, -24.126815710020978, 75.02054956978816, -38.46432531808833]\n",
            "Accuracy -> 59.39587769548616 %\n",
            "#####################################\n"
          ]
        }
      ]
    },
    {
      "cell_type": "markdown",
      "source": [
        "### F8"
      ],
      "metadata": {
        "id": "Mf4O9CkiM4VZ"
      }
    },
    {
      "cell_type": "code",
      "source": [
        "## Running Experiment 1 for F8\n",
        "## Hyperparameters\n",
        "print('F8')\n",
        "OBJECTIVE_FUNC=f8\n",
        "VECTOR_LENGTH = 10\n",
        "BOUNDS= (-32,32)\n",
        "NUM_PARTICLES =10\n",
        "ITERATIONS=10\n",
        "NUM_INFORMANTS=2\n",
        "W = 0.2  # inertia constant\n",
        "C1 = 0.1   # cognative constant\n",
        "C2 = 0.2    # social constant\n",
        "exp_f8 = run_experiment(OBJECTIVE_FUNC,VECTOR_LENGTH,BOUNDS,NUM_PARTICLES,ITERATIONS,NUM_INFORMANTS,W,C1,C2,experiment_runs)"
      ],
      "metadata": {
        "colab": {
          "base_uri": "https://localhost:8080/"
        },
        "id": "UgYKGaCHhHvI",
        "outputId": "9aa1c5cb-55f4-4852-8d5a-62c45b9956cd"
      },
      "execution_count": 12,
      "outputs": [
        {
          "output_type": "stream",
          "name": "stdout",
          "text": [
            "F8\n",
            "RUN  1\n",
            "Time taken-> 39.752 ms\n",
            "Fittest individual-> [0.7414636932160037, -0.16513397465615354, 0.5779066921732352, -22.85475705831077, 6.7450897913251175, 11.59921678286445, -16.165582829975275, 19.787691581732258, -7.448105072088645, 13.742709662895777]\n",
            "Accuracy -> 84.9748291842952 %\n",
            "#####################################\n",
            "RUN  2\n",
            "Time taken-> 35.95099999999999 ms\n",
            "Fittest individual-> [5.015749657261434, -5.678310695713338, -5.228317222727565, 10.199963569970741, -18.2496364104499, -18.434008524433374, -22.066779923143454, -3.4922592685934393, -0.28434453937054577, -11.145340545479375]\n",
            "Accuracy -> 85.17985250761737 %\n",
            "#####################################\n",
            "RUN  3\n",
            "Time taken-> 35.11 ms\n",
            "Fittest individual-> [-0.11560859060899897, 8.3462775666442, -7.81257665024719, 6.524441849431142, 4.524234476708953, -14.505939680311233, 1.622603916765966, 3.1952476718057277, -0.5917545980710062, 6.560974169056458]\n",
            "Accuracy -> 84.98467303031228 %\n",
            "#####################################\n",
            "RUN  4\n",
            "Time taken-> 45.078 ms\n",
            "Fittest individual-> [3.221874706895906, -6.569727974551868, 2.690485996470907, -1.9112782378548474, 25.085032069780663, 10.485987559112733, 2.9848923191806205, -3.1544699713553555, 4.079256598452879, -5.7391321146463605]\n",
            "Accuracy -> 84.91600375759144 %\n",
            "#####################################\n",
            "RUN  5\n",
            "Time taken-> 32.872 ms\n",
            "Fittest individual-> [-13.652533137353535, 9.283641971013221, -0.044710448518388346, -6.970772835005451, 11.332723763168795, -0.31492567165561014, 27.992986867033416, -0.9133727795605293, -0.6839015184147159, 24.40958232914801]\n",
            "Accuracy -> 84.91874900367337 %\n",
            "#####################################\n",
            "RUN  6\n",
            "Time taken-> 37.995000000000005 ms\n",
            "Fittest individual-> [-2.1124559693313674, -14.079995839767637, -13.644611442850445, 11.338696752585477, 20.361262518219426, -20.09992980593167, 0.6889456599725721, 21.079848830155147, -7.205201565474287, 15.652723614466979]\n",
            "Accuracy -> 85.15620042708379 %\n",
            "#####################################\n",
            "RUN  7\n",
            "Time taken-> 34.618 ms\n",
            "Fittest individual-> [13.859148243528217, -2.7775274251937487, -24.453698387003058, 2.6869987654902285, 3.0953616573521323, 11.87991195065337, 2.992077535574934, 25.65806796128627, -24.07115850182157, 26.497027718861908]\n",
            "Accuracy -> 84.93059577815289 %\n",
            "#####################################\n",
            "RUN  8\n",
            "Time taken-> 33.704 ms\n",
            "Fittest individual-> [2.5813253748932956, 0.6223608232469037, -2.603362636512344, 3.991869822018144, -2.4426830743211583, -2.327416055772071, 14.561139362625076, -11.085925689549809, 8.457911945502675, 2.4441387514974293]\n",
            "Accuracy -> 85.17607298058059 %\n",
            "#####################################\n",
            "RUN  9\n",
            "Time taken-> 31.291 ms\n",
            "Fittest individual-> [10.361164245392844, -7.321970256684411, -4.58143723174906, 8.784117767906883, 9.751326996137994, 7.55076155289696, -8.60869453338408, 10.570387312814734, -9.323806079697967, 13.169995667689587]\n",
            "Accuracy -> 84.84422377467303 %\n",
            "#####################################\n",
            "RUN  10\n",
            "Time taken-> 38.791 ms\n",
            "Fittest individual-> [-1.0386546424183716, 16.5707305350245, 3.6030362253212513, -4.871672131585116, 1.6774435510917294, 0.11711756087848252, -13.397048427868745, 20.321849019717252, 5.749922446673772, 1.0073360860490679]\n",
            "Accuracy -> 84.9258381270615 %\n",
            "#####################################\n",
            "RUN  11\n",
            "Time taken-> 39.275999999999996 ms\n",
            "Fittest individual-> [4.168603297334375, -8.965217925620188, 1.0972476432481857, 4.6922050582537285, 8.589002254779537, 2.4730834321317263, 21.80703904203261, 3.395959247988428, -19.23657821616965, 10.03303695385414]\n",
            "Accuracy -> 85.19250046885993 %\n",
            "#####################################\n",
            "RUN  12\n",
            "Time taken-> 33.477 ms\n",
            "Fittest individual-> [19.689574528894074, 12.762160832592606, 21.57495025407201, 22.45682974955272, -27.680966943635795, -11.34346535574922, -14.108606338341144, -21.263023707111333, -12.775392865994695, 20.990532325269374]\n",
            "Accuracy -> 84.98026273495664 %\n",
            "#####################################\n",
            "RUN  13\n",
            "Time taken-> 45.531 ms\n",
            "Fittest individual-> [8.789365580624276, -14.992257264691263, -22.795845657635446, 11.204048044258798, 13.917397229206276, -2.5961527497503276, 9.96609118765647, 13.008509637547807, -12.770195973927994, -26.193166415764516]\n",
            "Accuracy -> 85.09359818678992 %\n",
            "#####################################\n",
            "RUN  14\n",
            "Time taken-> 34.33 ms\n",
            "Fittest individual-> [2.131015700645132, -13.919150639574697, 0.6711545178141561, 0.28716104238939644, -8.331302758102693, -5.734857832117925, 11.30420006024572, -11.996593796193205, 2.3502197430715412, -2.574514651833634]\n",
            "Accuracy -> 84.98242029782288 %\n",
            "#####################################\n",
            "RUN  15\n",
            "Time taken-> 36.447 ms\n",
            "Fittest individual-> [23.789994905586205, -1.5720348115938236, -20.884529458191416, 21.09362327217648, -15.339164810639673, -17.039973278891885, 29.86994805579262, -16.392565954896874, -23.620816686904334, -17.303800695881314]\n",
            "Accuracy -> 84.97938099854431 %\n",
            "#####################################\n",
            "RUN  16\n",
            "Time taken-> 37.14 ms\n",
            "Fittest individual-> [11.316471446727737, -27.334464346130357, 11.689057833625776, -7.314837418859648, -9.897283622458174, -9.787506086247115, 4.800496372310583, 3.2007605047092365, -1.1235151177280098, -11.356091709040268]\n",
            "Accuracy -> 84.89736348376245 %\n",
            "#####################################\n",
            "RUN  17\n",
            "Time taken-> 65.666 ms\n",
            "Fittest individual-> [-6.979423272196563, 4.660019831424372, 4.998496524793265, -9.696360803324353, 6.5572996245750845, -11.816957523752382, -5.954223530817944, -7.546359268308936, -2.9073427523720983, 19.30674846819342]\n",
            "Accuracy -> 85.01156078182454 %\n",
            "#####################################\n",
            "RUN  18\n",
            "Time taken-> 36.720000000000006 ms\n",
            "Fittest individual-> [1.8831929268629908, -0.09211239481646268, -9.804725541859717, 7.841711634560838, 3.8567301978138673, -6.513077757587203, 14.40091386367246, 3.263462322936496, 4.200156768744004, 1.9457589673949083]\n",
            "Accuracy -> 85.14346100804264 %\n",
            "#####################################\n",
            "RUN  19\n",
            "Time taken-> 36.278 ms\n",
            "Fittest individual-> [6.253795716153489, -9.39959075192132, 0.17381370676097702, -3.910100163201598, -13.791164013279674, 10.801375526681257, -7.7621033288842165, -0.4634239428899287, -5.914016415909555, 12.488916665100346]\n",
            "Accuracy -> 84.83609177296375 %\n",
            "#####################################\n",
            "RUN  20\n",
            "Time taken-> 34.687000000000005 ms\n",
            "Fittest individual-> [-8.970910826175377, -17.47869577905951, 18.003496356696377, -4.056298817744001, -18.308004889481616, 4.78387931084071, -20.086569677543874, 4.994185591928122, 9.647192213570444, -9.213995306607352]\n",
            "Accuracy -> 84.87028838647404 %\n",
            "#####################################\n",
            "RUN  21\n",
            "Time taken-> 35.817 ms\n",
            "Fittest individual-> [7.528113919550649, 0.26776604825678874, 13.059427858078642, 11.676947876041293, -12.365089031787964, -8.42851620137091, -1.3816901851154024, -0.7333340274898976, 3.5057299353012006, 8.8835079803533]\n",
            "Accuracy -> 85.11844135471345 %\n",
            "#####################################\n",
            "RUN  22\n",
            "Time taken-> 32.904999999999994 ms\n",
            "Fittest individual-> [-24.69661391287703, -8.663973497748568, -6.495543993685086, -6.639537147575538, 11.673799366653343, 23.99751869490238, 3.425141169646473, 11.653194964801772, 10.401577430280158, -1.1330435019483596]\n",
            "Accuracy -> 85.03142530964439 %\n",
            "#####################################\n",
            "RUN  23\n",
            "Time taken-> 36.952 ms\n",
            "Fittest individual-> [4.847996916250706, -0.48178677067867703, -6.493073649804708, 10.078833536849627, -6.947852351890743, 13.78358384285739, 6.162755248655165, -0.8830395538676536, -12.7959017626211, -1.9201457774965491]\n",
            "Accuracy -> 85.1620849272436 %\n",
            "#####################################\n",
            "RUN  24\n",
            "Time taken-> 34.745 ms\n",
            "Fittest individual-> [-2.8525067877177492, 7.914539703990458, -15.387867529403081, 5.924937917932481, -1.6416628546082817, -4.50430696196012, -5.50634304169089, 19.817668532806614, -10.260104505732155, -12.889195553910742]\n",
            "Accuracy -> 84.8710118014231 %\n",
            "#####################################\n",
            "RUN  25\n",
            "Time taken-> 28.792 ms\n",
            "Fittest individual-> [14.869556239145354, -26.656236703736973, -1.6572272471998701, -6.055427596909842, -5.996752685163009, 8.69683691780157, -20.125750440548593, -1.6795731561665228, 11.228816394796855, -27.33312025496384]\n",
            "Accuracy -> 84.97524857412981 %\n",
            "#####################################\n"
          ]
        }
      ]
    },
    {
      "cell_type": "markdown",
      "source": [
        "## Analysis"
      ],
      "metadata": {
        "id": "2ocX8ZsRM_5K"
      }
    },
    {
      "cell_type": "code",
      "source": [
        "## Compare F1,F4,F8 Accuracy\n",
        "x_axis = [i for i in range(experiment_runs)]\n",
        "plt.plot(x_axis, exp_f1['accuracies'])\n",
        "plt.plot(x_axis, exp_f4['accuracies'])\n",
        "plt.plot(x_axis, exp_f8['accuracies'])\n",
        "\n",
        "plt.title('Accuracy vs Runs')\n",
        "plt.xlabel('Runs')\n",
        "plt.ylabel('Accuracy(%)')\n",
        "plt.legend(['F1', 'F4','F8'])\n",
        "plt.show()"
      ],
      "metadata": {
        "colab": {
          "base_uri": "https://localhost:8080/",
          "height": 295
        },
        "id": "cbXT4SdwkBJg",
        "outputId": "630085e5-e4b4-4598-d48a-344baa12edf4"
      },
      "execution_count": 13,
      "outputs": [
        {
          "output_type": "display_data",
          "data": {
            "text/plain": [
              "<Figure size 432x288 with 1 Axes>"
            ],
            "image/png": "[encoded data removed]"
          },
          "metadata": {
            "needs_background": "light"
          }
        }
      ]
    },
    {
      "cell_type": "markdown",
      "source": [
        "### F1"
      ],
      "metadata": {
        "id": "_NohGBX2NEBt"
      }
    },
    {
      "cell_type": "code",
      "source": [
        "## F1 Convergence Single Run\n",
        "x_axis = [i for i in range(len(exp_f1['runs'][0]))]\n",
        "plt.plot(x_axis, exp_f1['runs'][0])\n",
        "plt.title('Convergence')\n",
        "plt.xlabel('Number of iterations')\n",
        "plt.ylabel('Fitness')\n",
        "plt.show()"
      ],
      "metadata": {
        "colab": {
          "base_uri": "https://localhost:8080/",
          "height": 295
        },
        "id": "UKuF4DYjjg9m",
        "outputId": "9e30444a-80d3-44c7-adce-3e79e900850e"
      },
      "execution_count": 14,
      "outputs": [
        {
          "output_type": "display_data",
          "data": {
            "text/plain": [
              "<Figure size 432x288 with 1 Axes>"
            ],
            "image/png": "[encoded data removed]"
          },
          "metadata": {
            "needs_background": "light"
          }
        }
      ]
    },
    {
      "cell_type": "markdown",
      "source": [
        "### F4"
      ],
      "metadata": {
        "id": "ifV_SwN-NFnB"
      }
    },
    {
      "cell_type": "code",
      "source": [
        "## F4 Convergence Single Run\n",
        "x_axis = [i for i in range(len(exp_f4['runs'][0]))]\n",
        "plt.plot(x_axis, exp_f4['runs'][0])\n",
        "plt.title('Convergence')\n",
        "plt.xlabel('Number of iterations')\n",
        "plt.ylabel('Fitness')\n",
        "plt.show()"
      ],
      "metadata": {
        "colab": {
          "base_uri": "https://localhost:8080/",
          "height": 295
        },
        "id": "YMqCJn3sj7lT",
        "outputId": "14de9a79-bd68-4273-e535-5bbc4a136e27"
      },
      "execution_count": 15,
      "outputs": [
        {
          "output_type": "display_data",
          "data": {
            "text/plain": [
              "<Figure size 432x288 with 1 Axes>"
            ],
            "image/png": "[encoded data removed]"
          },
          "metadata": {
            "needs_background": "light"
          }
        }
      ]
    },
    {
      "cell_type": "markdown",
      "source": [
        "### F8"
      ],
      "metadata": {
        "id": "jQnYZxAWNG4h"
      }
    },
    {
      "cell_type": "code",
      "source": [
        "## F8 Convergence Single Run\n",
        "x_axis = [i for i in range(len(exp_f8['runs'][0]))]\n",
        "plt.plot(x_axis, exp_f8['runs'][0])\n",
        "plt.title('Convergence')\n",
        "plt.xlabel('Number of iterations')\n",
        "plt.ylabel('Fitness')\n",
        "plt.show()"
      ],
      "metadata": {
        "colab": {
          "base_uri": "https://localhost:8080/",
          "height": 295
        },
        "id": "oM1kFLUGkI6x",
        "outputId": "b2e4cc65-3b1f-49c5-96bd-a2a85a345748"
      },
      "execution_count": 16,
      "outputs": [
        {
          "output_type": "display_data",
          "data": {
            "text/plain": [
              "<Figure size 432x288 with 1 Axes>"
            ],
            "image/png": "[encoded data removed]"
          },
          "metadata": {
            "needs_background": "light"
          }
        }
      ]
    },
    {
      "cell_type": "code",
      "source": [
        "best_exp_f1 = np.max(exp_f1['accuracies'])\n",
        "print('Best F1 Accuracy->',best_exp_f1)\n",
        "best_exp_f4 = np.max(exp_f4['accuracies'])\n",
        "print('Best F4 Accuracy->',best_exp_f4)\n",
        "best_exp_f8 = np.max(exp_f8['accuracies'])\n",
        "print('Best F8 Accuracy->',best_exp_f8)"
      ],
      "metadata": {
        "colab": {
          "base_uri": "https://localhost:8080/"
        },
        "outputId": "0e29ab8e-5188-477c-d361-2b5580610cf1",
        "id": "zsIBbcJHkUKy"
      },
      "execution_count": 17,
      "outputs": [
        {
          "output_type": "stream",
          "name": "stdout",
          "text": [
            "Best F1 Accuracy-> 99.99923270897777\n",
            "Best F4 Accuracy-> 99.9931621130439\n",
            "Best F8 Accuracy-> 85.19250046885993\n"
          ]
        }
      ]
    },
    {
      "cell_type": "code",
      "source": [
        "worst_exp_f1 = np.min(exp_f1['accuracies'])\n",
        "print('Worst F1 Accuracy->',worst_exp_f1)\n",
        "worst_exp_f4 = np.min(exp_f4['accuracies'])\n",
        "print('Worst F4 Accuracy->',worst_exp_f4)\n",
        "worst_exp_f8 = np.min(exp_f8['accuracies'])\n",
        "print('Worst F8 Accuracy->',worst_exp_f8)"
      ],
      "metadata": {
        "colab": {
          "base_uri": "https://localhost:8080/"
        },
        "outputId": "14ac6456-22d9-48d6-fabe-a49feaa08597",
        "id": "UIXfnU1LkUKy"
      },
      "execution_count": 18,
      "outputs": [
        {
          "output_type": "stream",
          "name": "stdout",
          "text": [
            "Worst F1 Accuracy-> 76.70760753422495\n",
            "Worst F4 Accuracy-> -443.49406273689755\n",
            "Worst F8 Accuracy-> 84.83609177296375\n"
          ]
        }
      ]
    },
    {
      "cell_type": "code",
      "source": [
        "median_exp_f1 = np.median(exp_f1['accuracies'])\n",
        "print('median F1 Accuracy->',median_exp_f1)\n",
        "median_exp_f4 = np.median(exp_f4['accuracies'])\n",
        "print('median F4 Accuracy->',median_exp_f4)\n",
        "median_exp_f8 = np.median(exp_f8['accuracies'])\n",
        "print('median F8 Accuracy->',median_exp_f8)"
      ],
      "metadata": {
        "colab": {
          "base_uri": "https://localhost:8080/"
        },
        "outputId": "e335363a-6b71-4b0f-9d2e-cef00f9e8572",
        "id": "G6pQ_dJrkUKy"
      },
      "execution_count": 19,
      "outputs": [
        {
          "output_type": "stream",
          "name": "stdout",
          "text": [
            "median F1 Accuracy-> 99.9300235473201\n",
            "median F4 Accuracy-> 84.81563124395565\n",
            "median F8 Accuracy-> 84.98026273495664\n"
          ]
        }
      ]
    },
    {
      "cell_type": "code",
      "source": [
        "from statistics import mean \n",
        "t1 = mean(exp_f1['timedRuns'])\n",
        "t4 =  mean(exp_f4['timedRuns'])\n",
        "t8 =  mean(exp_f8['timedRuns'])\n",
        "print(t1,t4,t8)"
      ],
      "metadata": {
        "colab": {
          "base_uri": "https://localhost:8080/"
        },
        "id": "wWXbCRdlkwZu",
        "outputId": "6f2104dd-21f9-45b7-9036-4d04cfaad1b2"
      },
      "execution_count": 20,
      "outputs": [
        {
          "output_type": "stream",
          "name": "stdout",
          "text": [
            "502.3042 5052.7664 37.357\n"
          ]
        }
      ]
    },
    {
      "cell_type": "code",
      "source": [
        "reliability_exp_f1 = mean(exp_f1['accuracies'])\n",
        "accuracy_exp_f1 = mean(exp_f1['accuracies'][0:20])\n",
        "efficiency_exp_f1 = mean(exp_f1['timedRuns'])\n",
        "\n",
        "print(\"Reliability\",reliability_exp_f1)\n",
        "print(\"Accuracy\",accuracy_exp_f1)\n",
        "print(\"Efficiency\",efficiency_exp_f1)"
      ],
      "metadata": {
        "id": "mT7ivGV5Nc6c",
        "colab": {
          "base_uri": "https://localhost:8080/"
        },
        "outputId": "1e42289a-87f3-4ade-b831-c372450aba3c"
      },
      "execution_count": 21,
      "outputs": [
        {
          "output_type": "stream",
          "name": "stdout",
          "text": [
            "Reliability 97.15072062113802\n",
            "Accuracy 98.75955444692738\n",
            "Efficiency 502.3042\n"
          ]
        }
      ]
    },
    {
      "cell_type": "code",
      "source": [
        "reliability_exp_f4 = mean(exp_f4['accuracies'])\n",
        "accuracy_exp_f4 = mean(exp_f4['accuracies'][0:20])\n",
        "efficiency_exp_f4 = mean(exp_f4['timedRuns'])\n",
        "\n",
        "print(\"Reliability\",reliability_exp_f4)\n",
        "print(\"Accuracy\",accuracy_exp_f4)\n",
        "print(\"Efficiency\",efficiency_exp_f4)"
      ],
      "metadata": {
        "id": "61XYvS4-NdeK",
        "colab": {
          "base_uri": "https://localhost:8080/"
        },
        "outputId": "e84895d2-ae07-4ba3-cccc-2bce4864f51e"
      },
      "execution_count": 22,
      "outputs": [
        {
          "output_type": "stream",
          "name": "stdout",
          "text": [
            "Reliability 44.69882462219997\n",
            "Accuracy 38.63674774507583\n",
            "Efficiency 5052.7664\n"
          ]
        }
      ]
    },
    {
      "cell_type": "code",
      "source": [
        "reliability_exp_f8 = mean(exp_f8['accuracies'])\n",
        "accuracy_exp_f8 = mean(exp_f8['accuracies'][0:20])\n",
        "efficiency_exp_f8 = mean(exp_f8['timedRuns'])\n",
        "\n",
        "print(\"Reliability\",reliability_exp_f8)\n",
        "print(\"Accuracy\",accuracy_exp_f8)\n",
        "print(\"Efficiency\",efficiency_exp_f8)"
      ],
      "metadata": {
        "id": "2euGxBTpNdvw",
        "colab": {
          "base_uri": "https://localhost:8080/"
        },
        "outputId": "a59e1f4a-c187-41fc-db09-439731a728a4"
      },
      "execution_count": 23,
      "outputs": [
        {
          "output_type": "stream",
          "name": "stdout",
          "text": [
            "Reliability 85.00608714632948\n",
            "Accuracy 84.99969833455413\n",
            "Efficiency 37.357\n"
          ]
        }
      ]
    },
    {
      "cell_type": "markdown",
      "source": [
        "## Experiment 2"
      ],
      "metadata": {
        "id": "wNlYkVSbguml"
      }
    },
    {
      "cell_type": "markdown",
      "source": [
        "### F1"
      ],
      "metadata": {
        "id": "LdQ5JuKNOMlX"
      }
    },
    {
      "cell_type": "code",
      "source": [
        "## Running Experiment F1\n",
        "## Hyperparameters\n",
        "print('F1')\n",
        "OBJECTIVE_FUNC=f1\n",
        "VECTOR_LENGTH = 10\n",
        "BOUNDS= (-100,100)\n",
        "NUM_PARTICLES =100\n",
        "ITERATIONS=50\n",
        "NUM_INFORMANTS=2\n",
        "W = 0.1  # inertia constant\n",
        "C1 = 0.1   # cognative constant\n",
        "C2 = 1    # social constant\n",
        "exp_f1 = run_experiment(OBJECTIVE_FUNC,VECTOR_LENGTH,BOUNDS,NUM_PARTICLES,ITERATIONS,NUM_INFORMANTS,W,C1,C2,experiment_runs)"
      ],
      "metadata": {
        "colab": {
          "base_uri": "https://localhost:8080/"
        },
        "id": "BG1XA_GiXTYm",
        "outputId": "ee7c8e6d-ec45-4a4c-f7da-7e9956ee882f"
      },
      "execution_count": 24,
      "outputs": [
        {
          "output_type": "stream",
          "name": "stdout",
          "text": [
            "F1\n",
            "RUN  1\n",
            "Time taken-> 1592.4270000000001 ms\n",
            "Fittest individual-> [-39.31168686651435, 58.899776295256565, -46.32252599315081, -74.65189640897033, -16.79948574457866, -80.54424339792071, -10.593104171619295, 24.968974667346796, 89.83858485627843, 9.112043287267074]\n",
            "Accuracy -> 99.99999984611055 %\n",
            "#####################################\n",
            "RUN  2\n",
            "Time taken-> 1607.116 ms\n",
            "Fittest individual-> [-39.31190708363487, 58.899906246435876, -46.322365465623115, -74.65151813668284, -16.79973181302789, -80.5440948186807, -10.593485234281344, 24.969412990832215, 89.83839254859782, 9.111903469398984]\n",
            "Accuracy -> 99.9999999993102 %\n",
            "#####################################\n",
            "RUN  3\n",
            "Time taken-> 1596.06 ms\n",
            "Fittest individual-> [-39.3118946527735, 58.899926111925396, -46.32238688082779, -74.65149962352282, -16.799788484834856, -80.5441134598417, -10.593450637098151, 24.969463371629136, 89.83837635348674, 9.11181413997136]\n",
            "Accuracy -> 99.9999999948273 %\n",
            "#####################################\n",
            "RUN  4\n",
            "Time taken-> 1583.817 ms\n",
            "Fittest individual-> [-39.31205055987303, 58.89982129483433, -46.32247858632017, -74.65149184306229, -16.799855344455278, -80.54401404369293, -10.593372343305036, 24.969340336318254, 89.83845365295298, 9.111962789472434]\n",
            "Accuracy -> 99.99999997926608 %\n",
            "#####################################\n",
            "RUN  5\n",
            "Time taken-> 1547.509 ms\n",
            "Fittest individual-> [-39.31198911965811, 58.8998371099744, -46.322404796177224, -74.65148502173166, -16.799746952568558, -80.54405547960454, -10.593507991513189, 24.969482415807107, 89.83830895613403, 9.11188770939149]\n",
            "Accuracy -> 99.99999999297162 %\n",
            "#####################################\n",
            "RUN  6\n",
            "Time taken-> 1525.243 ms\n",
            "Fittest individual-> [-39.3119006309777, 58.89992499122198, -46.32231323587397, -74.65150295152448, -16.799619911078135, -80.5441611226246, -10.593581924900107, 24.969346802308223, 89.83842454556633, 9.111872230287732]\n",
            "Accuracy -> 99.99999999350506 %\n",
            "#####################################\n",
            "RUN  7\n",
            "Time taken-> 1626.539 ms\n",
            "Fittest individual-> [-39.31187012387829, 58.899916830714446, -46.32236089493509, -74.65154206729187, -16.799665697809676, -80.54414083671877, -10.593550694418408, 24.96944884607404, 89.83835841916601, 9.111882901603101]\n",
            "Accuracy -> 99.99999999682308 %\n",
            "#####################################\n",
            "RUN  8\n",
            "Time taken-> 1582.104 ms\n",
            "Fittest individual-> [-39.3119077298697, 58.89991559357955, -46.32261895966317, -74.65138286461965, -16.799772449492686, -80.54399969751769, -10.593478858872546, 24.969514126330363, 89.83833930875434, 9.111862028302095]\n",
            "Accuracy -> 99.99999997869479 %\n",
            "#####################################\n",
            "RUN  9\n",
            "Time taken-> 1591.2869999999998 ms\n",
            "Fittest individual-> [-39.31189712756097, 58.90003841194789, -46.32249247680662, -74.65159280803634, -16.799800336412225, -80.54419449940838, -10.59357765650613, 24.969456847695547, 89.83849677550643, 9.111817065447994]\n",
            "Accuracy -> 99.99999998203673 %\n",
            "#####################################\n",
            "RUN  10\n",
            "Time taken-> 1542.673 ms\n",
            "Fittest individual-> [-39.31180130212941, 58.89986053014699, -46.32245374372873, -74.65152435964535, -16.799684386415624, -80.5440273002308, -10.593447981309698, 24.969404059445637, 89.83840401576543, 9.111864805828214]\n",
            "Accuracy -> 99.99999999460286 %\n",
            "#####################################\n",
            "RUN  11\n",
            "Time taken-> 1541.411 ms\n",
            "Fittest individual-> [-39.311889541191476, 58.89992361163967, -46.322445349141645, -74.65153496245652, -16.799689282454477, -80.54414247283218, -10.593526682824097, 24.96924903371876, 89.83849339399498, 9.111775289834686]\n",
            "Accuracy -> 99.99999998807945 %\n",
            "#####################################\n",
            "RUN  12\n",
            "Time taken-> 1564.117 ms\n",
            "Fittest individual-> [-39.311858547167816, 58.89990311934286, -46.322437848802466, -74.65154855076022, -16.799642002674666, -80.54399433110304, -10.593475838974904, 24.96943839206765, 89.83837525677119, 9.111922401660445]\n",
            "Accuracy -> 99.99999999484018 %\n",
            "#####################################\n",
            "RUN  13\n",
            "Time taken-> 1551.2189999999998 ms\n",
            "Fittest individual-> [-39.311876245711616, 58.899955830525975, -46.322414746750034, -74.65133260850664, -16.799856233539337, -80.54417212363994, -10.593542347706729, 24.969542202774207, 89.8383891976666, 9.112040685072596]\n",
            "Accuracy -> 99.99999997701036 %\n",
            "#####################################\n",
            "RUN  14\n",
            "Time taken-> 1532.797 ms\n",
            "Fittest individual-> [-39.31189810400228, 58.899806076847256, -46.32219797420782, -74.65143758913256, -16.799474992189392, -80.54396184950879, -10.593571250289187, 24.96930637870874, 89.83829724283049, 9.111945727426484]\n",
            "Accuracy -> 99.99999996672437 %\n",
            "#####################################\n",
            "RUN  15\n",
            "Time taken-> 1548.1799999999998 ms\n",
            "Fittest individual-> [-39.31187725415081, 58.899886452538325, -46.322408555925634, -74.65154792352887, -16.799710278146794, -80.54409412974637, -10.593452981076465, 24.96936114933006, 89.8384599537692, 9.111963488393965]\n",
            "Accuracy -> 99.99999999676528 %\n",
            "#####################################\n",
            "RUN  16\n",
            "Time taken-> 1567.0059999999999 ms\n",
            "Fittest individual-> [-39.31189184432856, 58.899942038850284, -46.322344653240094, -74.65148813628264, -16.79975849538082, -80.54414501106872, -10.593563763372687, 24.969402703030426, 89.83841062431644, 9.111889391375778]\n",
            "Accuracy -> 99.99999999671466 %\n",
            "#####################################\n",
            "RUN  17\n",
            "Time taken-> 1475.012 ms\n",
            "Fittest individual-> [-39.31187860540322, 58.89995832706964, -46.32255241146837, -74.65156806484413, -16.799669738855155, -80.54406634896941, -10.593448891357273, 24.9694152628383, 89.8383586169426, 9.11184692970964]\n",
            "Accuracy -> 99.99999999085688 %\n",
            "#####################################\n",
            "RUN  18\n",
            "Time taken-> 1582.074 ms\n",
            "Fittest individual-> [-39.31181208769169, 58.89993989420554, -46.322389435279895, -74.65138770027332, -16.79967811552007, -80.5439588926156, -10.593290607496794, 24.969329971072156, 89.83837825788821, 9.112036015247988]\n",
            "Accuracy -> 99.99999997552104 %\n",
            "#####################################\n",
            "RUN  19\n",
            "Time taken-> 1511.096 ms\n",
            "Fittest individual-> [-39.31132659244345, 58.900071817556935, -46.32235019004762, -74.65145221143638, -16.799206291773164, -80.54394527377147, -10.59308088411579, 24.969443108131316, 89.83885100887055, 9.1123448954877]\n",
            "Accuracy -> 99.99999973119384 %\n",
            "#####################################\n",
            "RUN  20\n",
            "Time taken-> 1573.65 ms\n",
            "Fittest individual-> [-39.31196057223883, 58.899949093377934, -46.3223778184106, -74.65140139836414, -16.79961130197139, -80.54413047364189, -10.593534191484638, 24.969432268570053, 89.83836628393516, 9.11180950032964]\n",
            "Accuracy -> 99.99999999186073 %\n",
            "#####################################\n",
            "RUN  21\n",
            "Time taken-> 1564.796 ms\n",
            "Fittest individual-> [-39.3118848057787, 58.89988192289103, -46.32238032951046, -74.65148727783613, -16.799632825163613, -80.54419974474771, -10.593488144869912, 24.96941640226022, 89.83842487700099, 9.11196085338317]\n",
            "Accuracy -> 99.999999995489 %\n",
            "#####################################\n",
            "RUN  22\n",
            "Time taken-> 1589.0 ms\n",
            "Fittest individual-> [-39.31187086468544, 58.899897727009524, -46.32239142873512, -74.65147896605286, -16.799654516291564, -80.54410323047996, -10.593475964496657, 24.969421151212, 89.83838489694956, 9.11185970254638]\n",
            "Accuracy -> 99.99999999859416 %\n",
            "#####################################\n",
            "RUN  23\n",
            "Time taken-> 1584.276 ms\n",
            "Fittest individual-> [-39.3119478808278, 58.89994339316989, -46.32236835811734, -74.65146779193059, -16.79968470840025, -80.54406540967268, -10.593575445575313, 24.9693448937582, 89.83837072456063, 9.111908717274353]\n",
            "Accuracy -> 99.99999999615417 %\n",
            "#####################################\n",
            "RUN  24\n",
            "Time taken-> 1510.971 ms\n",
            "Fittest individual-> [-39.31162989003229, 58.899785122733334, -46.32228864577896, -74.65179506381091, -16.7995921371219, -80.54408958447854, -10.593611651467212, 24.96905408825163, 89.83853752150537, 9.112125273749518]\n",
            "Accuracy -> 99.99999991130159 %\n",
            "#####################################\n",
            "RUN  25\n",
            "Time taken-> 1543.774 ms\n",
            "Fittest individual-> [-39.31190750760605, 58.89983647329237, -46.32241771106551, -74.65153725758366, -16.799694936028924, -80.54408500706134, -10.593515538830234, 24.969419866356585, 89.83841171746408, 9.111941172816977]\n",
            "Accuracy -> 99.99999999810825 %\n",
            "#####################################\n"
          ]
        }
      ]
    },
    {
      "cell_type": "markdown",
      "source": [
        "### F4"
      ],
      "metadata": {
        "id": "9QyZhRuKOOjF"
      }
    },
    {
      "cell_type": "code",
      "source": [
        "## Running Experiment F4\n",
        "## Hyperparameters\n",
        "print('F4')\n",
        "OBJECTIVE_FUNC=f4\n",
        "VECTOR_LENGTH = 10\n",
        "BOUNDS= (-100,100)\n",
        "NUM_PARTICLES =400\n",
        "ITERATIONS=30\n",
        "NUM_INFORMANTS=20\n",
        "W = 0.1  # inertia constant\n",
        "C1 = 0.1   # cognative constant\n",
        "C2 = 1    # social constant\n",
        "exp_f4 = run_experiment(OBJECTIVE_FUNC,VECTOR_LENGTH,BOUNDS,NUM_PARTICLES,ITERATIONS,NUM_INFORMANTS,W,C1,C2,experiment_runs)"
      ],
      "metadata": {
        "colab": {
          "base_uri": "https://localhost:8080/"
        },
        "id": "a3MOqgy9X0bY",
        "outputId": "bd92501f-f56b-4db6-e21f-b86933899a9e"
      },
      "execution_count": 25,
      "outputs": [
        {
          "output_type": "stream",
          "name": "stdout",
          "text": [
            "F4\n",
            "RUN  1\n",
            "Time taken-> 13787.626 ms\n",
            "Fittest individual-> [35.8521463412404, -83.40280770929608, -10.285746273351867, -83.84617581039672, 83.45024900559876, 46.863479946699464, -89.3129424581939, -27.54478140183817, 76.16818005474668, -39.05508347484456]\n",
            "Accuracy -> 99.95744632217921 %\n",
            "#####################################\n",
            "RUN  2\n",
            "Time taken-> 13639.366 ms\n",
            "Fittest individual-> [35.604664278196985, -82.87973493214264, -10.641836166308032, -83.606780897697, 83.32076768823597, 46.76255431122189, -89.29801425425067, -27.5132883656051, 76.2498432608139, -39.168953339081405]\n",
            "Accuracy -> 99.98696409375822 %\n",
            "#####################################\n",
            "RUN  3\n",
            "Time taken-> 13743.771999999999 ms\n",
            "Fittest individual-> [35.65683121343811, -82.87290344271068, -10.725960015277044, -83.56609462784063, 83.13777803693878, 47.04331491214133, -89.39211236641965, -27.396714883368332, 76.10051464613689, -39.06300344011717]\n",
            "Accuracy -> 99.99782445019339 %\n",
            "#####################################\n",
            "RUN  4\n",
            "Time taken-> 14262.795 ms\n",
            "Fittest individual-> [35.64935804655061, -82.9406803413143, -10.640143066128056, -83.56911107494074, 83.12426316181069, 47.07564958397283, -89.43820461325406, -27.420386742835568, 76.17256082442184, -39.089469436608255]\n",
            "Accuracy -> 99.9994897819715 %\n",
            "#####################################\n",
            "RUN  5\n",
            "Time taken-> 13677.099999999999 ms\n",
            "Fittest individual-> [37.356277234171095, -85.40348884437128, -4.631709693071366, -99.97901680904472, 99.99914706792546, 40.79395124036956, -87.98629141294461, -28.25944005698239, 75.6787243772019, -38.42181524460296]\n",
            "Accuracy -> 57.959166547439146 %\n",
            "#####################################\n",
            "RUN  6\n",
            "Time taken-> 13714.643 ms\n",
            "Fittest individual-> [35.42861876459925, -82.47853262307234, -10.923090181451421, -83.57089899390874, 83.30655663338477, 47.06955471567878, -89.68432696240791, -27.31223974039616, 76.16043016508713, -39.126023153610504]\n",
            "Accuracy -> 99.96530202138683 %\n",
            "#####################################\n",
            "RUN  7\n",
            "Time taken-> 13684.784 ms\n",
            "Fittest individual-> [35.928213602844146, -83.4503723659298, -10.284817921878897, -83.5977372889958, 83.07448301897922, 47.11115943806858, -89.53059631800751, -27.571536448182915, 76.50172185635775, -39.29735786930256]\n",
            "Accuracy -> 99.9397588007765 %\n",
            "#####################################\n",
            "RUN  8\n",
            "Time taken-> 13599.994999999999 ms\n",
            "Fittest individual-> [35.62620682705968, -82.9298999040124, -10.625733387429166, -83.57897116931517, 83.14695573653596, 47.04607132179362, -89.43140152046385, -27.382716704858215, 76.11652699899902, -39.07148254457248]\n",
            "Accuracy -> 99.99958040414738 %\n",
            "#####################################\n",
            "RUN  9\n",
            "Time taken-> 13647.584 ms\n",
            "Fittest individual-> [35.34756288711707, -82.56488613341784, -10.414869099822132, -84.52560549776194, 83.84044381857234, 46.48576791180797, -88.71829840874709, -27.928216239893484, 76.75674030650613, -39.641387211376426]\n",
            "Accuracy -> 99.72446774817757 %\n",
            "#####################################\n",
            "RUN  10\n",
            "Time taken-> 13678.268 ms\n",
            "Fittest individual-> [35.59932442908981, -82.86802046853478, -10.629751384451197, -83.63295532034918, 83.16847095191315, 47.061600520598994, -89.41232888032032, -27.476545917613432, 76.18841464171472, -39.07948101781873]\n",
            "Accuracy -> 99.99903229234437 %\n",
            "#####################################\n",
            "RUN  11\n",
            "Time taken-> 13652.98 ms\n",
            "Fittest individual-> [35.271944023320955, -82.20836347870447, -11.608402238522398, -82.65097437245055, 82.46180416664336, 47.380745020576356, -89.4979190919808, -27.380754481048097, 76.22578525169965, -38.95525770168879]\n",
            "Accuracy -> 99.79357495117642 %\n",
            "#####################################\n",
            "RUN  12\n",
            "Time taken-> 13659.122 ms\n",
            "Fittest individual-> [36.030951251652404, -83.49666487736364, -11.894082490745616, -80.85116464801254, 81.42556526957246, 52.97177122179476, -99.96177029171372, -23.626225665310645, 78.22302879636332, -40.10928690754289]\n",
            "Accuracy -> 86.24062670879668 %\n",
            "#####################################\n",
            "RUN  13\n",
            "Time taken-> 13740.458999999999 ms\n",
            "Fittest individual-> [35.61890540578902, -82.86734788296751, -10.70516806817027, -83.54395442932628, 83.15664864037431, 47.02541204664287, -89.43097568780605, -27.424334441824055, 76.12227606261959, -39.030983126066666]\n",
            "Accuracy -> 99.99920144065152 %\n",
            "#####################################\n",
            "RUN  14\n",
            "Time taken-> 13605.581 ms\n",
            "Fittest individual-> [35.62791783686646, -82.91809946767304, -10.644792556026186, -83.57502499833782, 83.15714539655943, 47.04384208478091, -89.43128034219365, -27.422755377464707, 76.14449330640232, -39.06516673957237]\n",
            "Accuracy -> 99.99997162613562 %\n",
            "#####################################\n",
            "RUN  15\n",
            "Time taken-> 13654.785 ms\n",
            "Fittest individual-> [35.28765386160777, -82.59963608781007, -10.355244293195101, -83.5206397242763, 81.79282375573449, 53.94902015884144, -99.99990596542436, -23.92567344384118, 77.86584783434418, -39.60028029993595]\n",
            "Accuracy -> 86.75941574871999 %\n",
            "#####################################\n",
            "RUN  16\n",
            "Time taken-> 13633.793000000001 ms\n",
            "Fittest individual-> [35.62595468517389, -82.91433985800052, -10.635875934040287, -83.59793072908192, 83.16810833935904, 47.04758986441319, -89.43945003861822, -27.421339896899163, 76.15822766167327, -39.06753287069704]\n",
            "Accuracy -> 99.99991369169594 %\n",
            "#####################################\n",
            "RUN  17\n",
            "Time taken-> 13760.135999999999 ms\n",
            "Fittest individual-> [35.68799839860021, -83.00577290872651, -10.517077312438472, -83.68168421402217, 83.1773060740403, 47.053791937652846, -89.43508303179019, -27.50293878832303, 76.22190196324745, -39.045483078733334]\n",
            "Accuracy -> 99.99563498170978 %\n",
            "#####################################\n",
            "RUN  18\n",
            "Time taken-> 13715.673999999999 ms\n",
            "Fittest individual-> [35.468890119253714, -83.13943067591805, -10.119879376361666, -83.44918620849568, 82.16210837027668, 53.137552514135095, -99.41819412818298, -23.092298961682403, 76.27630606629151, -38.230576400435815]\n",
            "Accuracy -> 88.54682860858236 %\n",
            "#####################################\n",
            "RUN  19\n",
            "Time taken-> 13705.299 ms\n",
            "Fittest individual-> [35.57577576247322, -82.81266470315161, -10.713995305864659, -83.5622160434712, 83.15385518815906, 47.038630158576694, -89.41495031057859, -27.427196722201792, 76.14267364109635, -39.048604479351056]\n",
            "Accuracy -> 99.99859190678978 %\n",
            "#####################################\n",
            "RUN  20\n",
            "Time taken-> 13929.853 ms\n",
            "Fittest individual-> [35.564739852758834, -82.81638648354615, -10.744116102395123, -83.47731853797633, 83.15229991810772, 47.006231144874036, -89.39281130992691, -27.446551653515797, 76.16477964222638, -39.11272398243208]\n",
            "Accuracy -> 99.99515457059188 %\n",
            "#####################################\n",
            "RUN  21\n",
            "Time taken-> 16433.98 ms\n",
            "Fittest individual-> [35.639214448386205, -82.94067211380207, -10.616144845338578, -83.57935346353618, 83.14110857704912, 47.056599105711435, -89.43589366518404, -27.423330718595544, 76.1345497144134, -39.063928359869045]\n",
            "Accuracy -> 99.99972178146174 %\n",
            "#####################################\n",
            "RUN  22\n",
            "Time taken-> 13743.114 ms\n",
            "Fittest individual-> [36.06944121528647, -83.57303239808311, -10.371928139324192, -83.64209008799502, 83.14840866063119, 47.19843278999878, -89.65952261880653, -27.474523859727512, 76.56560363275835, -39.4330949534332]\n",
            "Accuracy -> 99.91551938002227 %\n",
            "#####################################\n",
            "RUN  23\n",
            "Time taken-> 13676.113000000001 ms\n",
            "Fittest individual-> [37.336334027964696, -87.42862497586219, -6.118692356992926, -88.4308027910302, 88.99962243145161, 43.920535073890186, -87.80204638996993, -40.98108127989629, 99.51889546631222, -49.685390104220666]\n",
            "Accuracy -> 31.802629287423457 %\n",
            "#####################################\n",
            "RUN  24\n",
            "Time taken-> 13692.331 ms\n",
            "Fittest individual-> [34.63578115529162, -80.16419862977122, -5.180879618123176, -99.99681584604875, 93.95225177750716, 44.45234884259935, -88.4961860250302, -27.27735914484984, 75.63700939029364, -38.67900952840995]\n",
            "Accuracy -> 67.87977660857372 %\n",
            "#####################################\n",
            "RUN  25\n",
            "Time taken-> 13804.837 ms\n",
            "Fittest individual-> [35.0239580337588, -80.64665529610606, -5.231625306799707, -99.93752590276725, 94.60618026717592, 44.286969474517356, -89.84908701428695, -25.52469709636616, 75.39255399541199, -39.60403979250224]\n",
            "Accuracy -> 67.44011250198855 %\n",
            "#####################################\n"
          ]
        }
      ]
    },
    {
      "cell_type": "markdown",
      "source": [
        "### F8"
      ],
      "metadata": {
        "id": "vkBnPP23OQ1P"
      }
    },
    {
      "cell_type": "code",
      "source": [
        "## Running Experiment F8\n",
        "## Hyperparameters\n",
        "print('F8')\n",
        "OBJECTIVE_FUNC=f8\n",
        "VECTOR_LENGTH = 10\n",
        "BOUNDS= (-32,32)\n",
        "NUM_PARTICLES =20\n",
        "ITERATIONS=10\n",
        "NUM_INFORMANTS=2\n",
        "W = 0.1  # inertia constant\n",
        "C1 = 0.1   # cognative constant\n",
        "C2 = 1    # social constant\n",
        "exp_f8 = run_experiment(OBJECTIVE_FUNC,VECTOR_LENGTH,BOUNDS,NUM_PARTICLES,ITERATIONS,NUM_INFORMANTS,W,C1,C2,experiment_runs)"
      ],
      "metadata": {
        "colab": {
          "base_uri": "https://localhost:8080/"
        },
        "id": "Kn1sARtiY_Is",
        "outputId": "99cc409b-5c5d-41d9-8824-b6337025bb24"
      },
      "execution_count": 26,
      "outputs": [
        {
          "output_type": "stream",
          "name": "stdout",
          "text": [
            "F8\n",
            "RUN  1\n",
            "Time taken-> 54.137 ms\n",
            "Fittest individual-> [3.7008622919967067, 16.835265342382556, -30.41646390663736, -26.214455214877596, 22.423556160583253, 27.69543781897093, 17.245557108363073, -25.36345673740351, -6.098897041008129, -11.849796212679173]\n",
            "Accuracy -> 84.96540871243033 %\n",
            "#####################################\n",
            "RUN  2\n",
            "Time taken-> 54.019 ms\n",
            "Fittest individual-> [24.475021533937195, 7.645319539914247, -13.960634354498236, 7.4195066872248585, -1.3118764248243906, -24.727549404668395, 7.720137764541729, 23.810241110057582, -20.66859624583244, 11.968743132224027]\n",
            "Accuracy -> 85.11960257738875 %\n",
            "#####################################\n",
            "RUN  3\n",
            "Time taken-> 74.764 ms\n",
            "Fittest individual-> [3.7627900065124154, -8.373118513340746, 27.96844716338668, 15.581542340510472, -21.399322143765293, 2.2573494524931172, -10.508455975807383, -15.982648442827722, 8.590791619050956, -9.450336317835728]\n",
            "Accuracy -> 85.05183317483566 %\n",
            "#####################################\n",
            "RUN  4\n",
            "Time taken-> 57.276 ms\n",
            "Fittest individual-> [13.820683610171425, 30.215982934531283, 0.3157099626220713, -29.75917299731661, -24.684370917798784, 26.555355780498743, 5.362711566127633, 4.210206465107122, -17.415268060559367, 28.24199635874143]\n",
            "Accuracy -> 85.1313058715654 %\n",
            "#####################################\n",
            "RUN  5\n",
            "Time taken-> 56.008 ms\n",
            "Fittest individual-> [31.801961059120302, 12.564445313477052, 16.176927602361587, -20.150831497385052, -8.842540530056178, -24.38225642881354, -6.67193634846975, 22.62837271509865, 31.814924586229253, 4.7473754575249]\n",
            "Accuracy -> 85.07990730360949 %\n",
            "#####################################\n",
            "RUN  6\n",
            "Time taken-> 74.162 ms\n",
            "Fittest individual-> [-13.273340874405434, -20.86092652751231, 8.505163453895896, 19.02583170630601, 23.599774624835497, -30.004398004376036, -23.041616588706905, -7.950002311539001, -28.28585701685554, -14.423852077112421]\n",
            "Accuracy -> 85.07178248079364 %\n",
            "#####################################\n",
            "RUN  7\n",
            "Time taken-> 85.768 ms\n",
            "Fittest individual-> [1.7013681516626384, -23.32924975192439, -5.359897322401846, 16.435762434282935, 4.309105803902765, -13.050744094326495, 14.680782698429127, -10.180659442374875, -9.784014666046625, 13.861916840094352]\n",
            "Accuracy -> 84.97255843234781 %\n",
            "#####################################\n",
            "RUN  8\n",
            "Time taken-> 57.167 ms\n",
            "Fittest individual-> [-11.956285655720416, 11.094062878147398, 12.83940087044367, 14.213739982358852, 2.1631014976335226, 4.483701927040656, 5.176169782039463, -5.528020125007799, 3.37622710959144, -7.359204102107826]\n",
            "Accuracy -> 85.05823879493738 %\n",
            "#####################################\n",
            "RUN  9\n",
            "Time taken-> 80.603 ms\n",
            "Fittest individual-> [29.379296665320155, 3.9047231152300554, 14.971208455175574, 16.562955947390897, -1.8188459083945223, 6.839667447965017, -9.013316244812156, 17.885986390879577, -20.48207196163731, 15.508997820759847]\n",
            "Accuracy -> 84.9814895379593 %\n",
            "#####################################\n",
            "RUN  10\n",
            "Time taken-> 98.155 ms\n",
            "Fittest individual-> [7.6017759178195945, -8.308861102034696, -8.639817409119118, 1.5286050175279016, -32, -0.43518816672942773, 12.219476097830679, -9.28985444256779, 28.434762703449984, 4.930624434805679]\n",
            "Accuracy -> 85.03792792556008 %\n",
            "#####################################\n",
            "RUN  11\n",
            "Time taken-> 51.35 ms\n",
            "Fittest individual-> [-4.290392699289363, -11.378500015072643, -8.075145138855321, -3.30602753494286, -8.723538176844524, 7.149368565992198, -18.508016805855576, -6.341037565922669, 0.3274093784192935, 14.10404967334291]\n",
            "Accuracy -> 85.01766876401162 %\n",
            "#####################################\n",
            "RUN  12\n",
            "Time taken-> 53.591 ms\n",
            "Fittest individual-> [-21.689614484214854, 16.560019282036926, 22.738802781893476, -27.917391483069448, -18.738080682034923, 24.274359850588038, -12.90454529772789, -8.254855057362471, -9.292007333282498, 2.84343356299363]\n",
            "Accuracy -> 84.94754148372475 %\n",
            "#####################################\n",
            "RUN  13\n",
            "Time taken-> 73.491 ms\n",
            "Fittest individual-> [-30.19777774272904, -21.801353155844293, -5.020285959924128, -16.683116945290465, -32, -25.243302434860922, 10.380791155203049, 25.157546641610114, 11.185772612052432, -21.715210303997985]\n",
            "Accuracy -> 85.06633925242805 %\n",
            "#####################################\n",
            "RUN  14\n",
            "Time taken-> 66.319 ms\n",
            "Fittest individual-> [-32, -29.746456381164364, -20.07492829844516, -7.420101989933953, -3.7359440688251935, 0.9783977233759287, -20.450631291983367, -32, 8.331807571678212, -23.206115509618556]\n",
            "Accuracy -> 85.16618581779257 %\n",
            "#####################################\n",
            "RUN  15\n",
            "Time taken-> 62.66 ms\n",
            "Fittest individual-> [-3.9315204546627562, -1.1761883000590627, 32, 16.042638240868847, 3.997130736491943, 16.143728809316613, 9.970025690855191, -6.8264104874530105, -32, 3.4374095304113452]\n",
            "Accuracy -> 85.08441227140385 %\n",
            "#####################################\n",
            "RUN  16\n",
            "Time taken-> 80.619 ms\n",
            "Fittest individual-> [2.357267859410586, 1.9761807762832946, 1.6754035352915428, 4.082788990987764, 10.322407613483055, 22.63638886296403, 32, 14.590157690396378, -32, -28.49195754170152]\n",
            "Accuracy -> 85.16102529998355 %\n",
            "#####################################\n",
            "RUN  17\n",
            "Time taken-> 75.81400000000001 ms\n",
            "Fittest individual-> [31.67833742611239, 24.926392998673236, 13.07207934103794, 27.051758786666767, -29.84632109492057, 13.247277962637645, -31.630068378804854, 2.4725047924771895, 22.14832968772325, -8.241800202961954]\n",
            "Accuracy -> 85.10651385354758 %\n",
            "#####################################\n",
            "RUN  18\n",
            "Time taken-> 75.729 ms\n",
            "Fittest individual-> [-0.5584685685971154, -32, -30.098317214254845, 18.66957051437025, -13.917588732037883, 22.620426916946094, 18.168474571601323, -5.034984125501976, -13.460181791702057, 32]\n",
            "Accuracy -> 85.07112555202197 %\n",
            "#####################################\n",
            "RUN  19\n",
            "Time taken-> 85.226 ms\n",
            "Fittest individual-> [20.730236836088846, -6.113527737108435, 20.105752922869, 3.767489176182761, 7.875015128037087, 20.436083205818083, -1.34265181233881, 8.795139517485012, 5.547458232530513, -9.028002950694255]\n",
            "Accuracy -> 85.16456081958201 %\n",
            "#####################################\n",
            "RUN  20\n",
            "Time taken-> 75.898 ms\n",
            "Fittest individual-> [-1.456781628290999, -8.1983215377187, -4.904106280762295, -14.644106372781433, 5.417506072986852, 12.450146323273138, -32, 22.40947975324193, -32, -14.960887882947365]\n",
            "Accuracy -> 85.07100221920028 %\n",
            "#####################################\n",
            "RUN  21\n",
            "Time taken-> 82.094 ms\n",
            "Fittest individual-> [-0.7145067898530533, 9.222951917405938, 22.316810471750507, 10.935394881721395, 2.4269037836905607, 15.147677851482992, -4.718924669868359, -2.418700844914477, -9.099295345336103, 31.649595560607523]\n",
            "Accuracy -> 85.03610507759142 %\n",
            "#####################################\n",
            "RUN  22\n",
            "Time taken-> 85.919 ms\n",
            "Fittest individual-> [23.567816879891645, 3.38108058943521, 32, 14.961036796901157, -27.058030490003063, -23.389951524993844, -4.704150878567795, -17.954587549561417, -14.679608498363695, -23.32249778273702]\n",
            "Accuracy -> 85.01903461287432 %\n",
            "#####################################\n",
            "RUN  23\n",
            "Time taken-> 51.947 ms\n",
            "Fittest individual-> [23.83874745931359, 6.68856406333539, -6.522194529558753, 10.221700088252817, 32, -25.117081161391425, -5.328944441726824, 13.736254066065989, 18.436456029895925, 18.859824397867364]\n",
            "Accuracy -> 84.93369676503717 %\n",
            "#####################################\n",
            "RUN  24\n",
            "Time taken-> 74.333 ms\n",
            "Fittest individual-> [-15.160064957556218, -8.263820928056573, 24.358860852054708, -24.62142100573523, -2.296025690228766, -30.739596108293206, -24.255873929434507, 1.0778047285943146, 14.75414438862186, 24.78232898862851]\n",
            "Accuracy -> 84.91602464363443 %\n",
            "#####################################\n",
            "RUN  25\n",
            "Time taken-> 65.933 ms\n",
            "Fittest individual-> [13.552802542767722, 18.61274405238856, -1.683986380003346, 21.238132242147362, -15.357201745089847, 23.219722402919093, 24.243150358146764, -0.8204861315653237, -31.256861750366493, -27.60211853870212]\n",
            "Accuracy -> 85.08853669589041 %\n",
            "#####################################\n"
          ]
        }
      ]
    },
    {
      "cell_type": "code",
      "source": [
        "## Compare F1,F4,F8 Accuracy\n",
        "\n",
        "x_axis = [i for i in range(experiment_runs)]\n",
        "plt.plot(x_axis, exp_f1['accuracies'])\n",
        "plt.plot(x_axis, exp_f4['accuracies'])\n",
        "plt.plot(x_axis, exp_f8['accuracies'])\n",
        "\n",
        "plt.title('Accuracy vs Runs')\n",
        "plt.xlabel('Runs')\n",
        "plt.ylabel('Accuracy(%)')\n",
        "plt.legend(['F1', 'F4','F8'])\n",
        "plt.show()"
      ],
      "metadata": {
        "colab": {
          "base_uri": "https://localhost:8080/",
          "height": 295
        },
        "id": "rJ-akTEWZgk_",
        "outputId": "69b1617c-18a5-4f82-944d-ea631f8838c4"
      },
      "execution_count": 27,
      "outputs": [
        {
          "output_type": "display_data",
          "data": {
            "text/plain": [
              "<Figure size 432x288 with 1 Axes>"
            ],
            "image/png": "[encoded data removed]"
          },
          "metadata": {
            "needs_background": "light"
          }
        }
      ]
    },
    {
      "cell_type": "markdown",
      "source": [
        "## Analysis"
      ],
      "metadata": {
        "id": "t-rcfpSrOTFF"
      }
    },
    {
      "cell_type": "markdown",
      "source": [
        "### F1"
      ],
      "metadata": {
        "id": "gAPFcCYeOV0p"
      }
    },
    {
      "cell_type": "code",
      "source": [
        "## F1 Convergence Single Run\n",
        "x_axis = [i for i in range(len(exp_f1['runs'][0]))]\n",
        "plt.plot(x_axis, exp_f1['runs'][0])\n",
        "plt.title('Convergence')\n",
        "plt.xlabel('Number of iterations')\n",
        "plt.ylabel('Fitness')\n",
        "plt.show()"
      ],
      "metadata": {
        "colab": {
          "base_uri": "https://localhost:8080/",
          "height": 295
        },
        "id": "aXS7NnuDdP6D",
        "outputId": "1bacaf52-52e5-4b8e-d6f5-48da5fc57cef"
      },
      "execution_count": 28,
      "outputs": [
        {
          "output_type": "display_data",
          "data": {
            "text/plain": [
              "<Figure size 432x288 with 1 Axes>"
            ],
            "image/png": "[encoded data removed]"
          },
          "metadata": {
            "needs_background": "light"
          }
        }
      ]
    },
    {
      "cell_type": "markdown",
      "source": [
        "### F4"
      ],
      "metadata": {
        "id": "OsuXI1UsOXHw"
      }
    },
    {
      "cell_type": "code",
      "source": [
        "## F4 Convergence Single Run\n",
        "x_axis = [i for i in range(len(exp_f4['runs'][0]))]\n",
        "plt.plot(x_axis, exp_f4['runs'][0])\n",
        "plt.title('Convergence')\n",
        "plt.xlabel('Number of iterations')\n",
        "plt.ylabel('Fitness')\n",
        "plt.show()"
      ],
      "metadata": {
        "colab": {
          "base_uri": "https://localhost:8080/",
          "height": 295
        },
        "id": "EBBdrKH5f3l8",
        "outputId": "bf87789d-a6fd-4405-ad23-8bba0380e9b8"
      },
      "execution_count": 29,
      "outputs": [
        {
          "output_type": "display_data",
          "data": {
            "text/plain": [
              "<Figure size 432x288 with 1 Axes>"
            ],
            "image/png": "[encoded data removed]"
          },
          "metadata": {
            "needs_background": "light"
          }
        }
      ]
    },
    {
      "cell_type": "markdown",
      "source": [
        "### F8"
      ],
      "metadata": {
        "id": "s05yTw6NOYaM"
      }
    },
    {
      "cell_type": "code",
      "source": [
        "## F8 Convergence Single Run\n",
        "x_axis = [i for i in range(len(exp_f8['runs'][0]))]\n",
        "plt.plot(x_axis, exp_f8['runs'][0])\n",
        "plt.title('Convergence')\n",
        "plt.xlabel('Number of iterations')\n",
        "plt.ylabel('Fitness')\n",
        "plt.show()"
      ],
      "metadata": {
        "colab": {
          "base_uri": "https://localhost:8080/",
          "height": 295
        },
        "id": "0XB92-tWf8Jx",
        "outputId": "86cff1d1-274e-4352-9972-a9a5e95b47b6"
      },
      "execution_count": 30,
      "outputs": [
        {
          "output_type": "display_data",
          "data": {
            "text/plain": [
              "<Figure size 432x288 with 1 Axes>"
            ],
            "image/png": "[encoded data removed]"
          },
          "metadata": {
            "needs_background": "light"
          }
        }
      ]
    },
    {
      "cell_type": "code",
      "source": [
        "best_exp_f1 = np.max(exp_f1['accuracies'])\n",
        "print('Best F1 Accuracy->',best_exp_f1)\n",
        "best_exp_f4 = np.max(exp_f4['accuracies'])\n",
        "print('Best F4 Accuracy->',best_exp_f4)\n",
        "best_exp_f8 = np.max(exp_f8['accuracies'])\n",
        "print('Best F8 Accuracy->',best_exp_f8)"
      ],
      "metadata": {
        "colab": {
          "base_uri": "https://localhost:8080/"
        },
        "id": "QrW1xbOMb2tA",
        "outputId": "ac148265-ff46-4b66-e9e1-0f20ec0f4e6b"
      },
      "execution_count": 31,
      "outputs": [
        {
          "output_type": "stream",
          "name": "stdout",
          "text": [
            "Best F1 Accuracy-> 99.9999999993102\n",
            "Best F4 Accuracy-> 99.99997162613562\n",
            "Best F8 Accuracy-> 85.16618581779257\n"
          ]
        }
      ]
    },
    {
      "cell_type": "code",
      "source": [
        "worst_exp_f1 = np.min(exp_f1['accuracies'])\n",
        "print('Worst F1 Accuracy->',worst_exp_f1)\n",
        "worst_exp_f4 = np.min(exp_f4['accuracies'])\n",
        "print('Worst F4 Accuracy->',worst_exp_f4)\n",
        "worst_exp_f8 = np.min(exp_f8['accuracies'])\n",
        "print('Worst F8 Accuracy->',worst_exp_f8)"
      ],
      "metadata": {
        "colab": {
          "base_uri": "https://localhost:8080/"
        },
        "id": "hE5c1aB3cP46",
        "outputId": "0dc1b4d2-981f-49a8-b371-32e82205b72e"
      },
      "execution_count": 32,
      "outputs": [
        {
          "output_type": "stream",
          "name": "stdout",
          "text": [
            "Worst F1 Accuracy-> 99.99999973119384\n",
            "Worst F4 Accuracy-> 31.802629287423457\n",
            "Worst F8 Accuracy-> 84.91602464363443\n"
          ]
        }
      ]
    },
    {
      "cell_type": "code",
      "source": [
        "median_exp_f1 = np.median(exp_f1['accuracies'])\n",
        "print('median F1 Accuracy->',median_exp_f1)\n",
        "median_exp_f4 = np.median(exp_f4['accuracies'])\n",
        "print('median F4 Accuracy->',median_exp_f4)\n",
        "median_exp_f8 = np.median(exp_f8['accuracies'])\n",
        "print('median F8 Accuracy->',median_exp_f8)"
      ],
      "metadata": {
        "colab": {
          "base_uri": "https://localhost:8080/"
        },
        "id": "bYW5rFz4cdvH",
        "outputId": "d239964e-179e-4ad4-9184-0df52a11ea10"
      },
      "execution_count": 33,
      "outputs": [
        {
          "output_type": "stream",
          "name": "stdout",
          "text": [
            "median F1 Accuracy-> 99.99999999297162\n",
            "median F4 Accuracy-> 99.96530202138683\n",
            "median F8 Accuracy-> 85.06633925242805\n"
          ]
        }
      ]
    },
    {
      "cell_type": "code",
      "source": [
        "from statistics import mean \n",
        "\n",
        "t1 = mean(exp_f1['timedRuns'])\n",
        "t4 =  mean(exp_f4['timedRuns'])\n",
        "t8 =  mean(exp_f8['timedRuns'])\n",
        "\n",
        "print(t1,t4,t8)"
      ],
      "metadata": {
        "colab": {
          "base_uri": "https://localhost:8080/"
        },
        "id": "VZzajuG6lGDu",
        "outputId": "833bb8c4-f9d2-4327-a8e1-b732bcf0d3a3"
      },
      "execution_count": 34,
      "outputs": [
        {
          "output_type": "stream",
          "name": "stdout",
          "text": [
            "1561.36616 13833.7596 70.11928\n"
          ]
        }
      ]
    },
    {
      "cell_type": "code",
      "source": [
        "reliability_exp2_f1 = mean(exp_f1['accuracies'])\n",
        "accuracy_exp2_f1 = mean(exp_f1['accuracies'][0:20])\n",
        "efficiency_exp2_f1 = mean(exp_f1['timedRuns'])\n",
        "\n",
        "print(\"Reliability\",reliability_exp2_f1)\n",
        "print(\"Accuracy\",accuracy_exp2_f1)\n",
        "print(\"Efficiency\",efficiency_exp2_f1)"
      ],
      "metadata": {
        "id": "WK3uqVGQOaXg",
        "colab": {
          "base_uri": "https://localhost:8080/"
        },
        "outputId": "52a1f1d8-3f2a-4286-89d3-ae5ad8e31fca"
      },
      "execution_count": 35,
      "outputs": [
        {
          "output_type": "stream",
          "name": "stdout",
          "text": [
            "Reliability 99.99999997069449\n",
            "Accuracy 99.99999996838575\n",
            "Efficiency 1561.36616\n"
          ]
        }
      ]
    },
    {
      "cell_type": "code",
      "source": [
        "reliability_exp2_f4 = mean(exp_f4['accuracies'])\n",
        "accuracy_exp2_f4 = mean(exp_f4['accuracies'][0:20])\n",
        "efficiency_exp2_f4 = mean(exp_f4['timedRuns'])\n",
        "\n",
        "print(\"Reliability\",reliability_exp2_f4)\n",
        "print(\"Accuracy\",accuracy_exp2_f4)\n",
        "print(\"Efficiency\",efficiency_exp2_f4)"
      ],
      "metadata": {
        "id": "o4mPTP1vOiKS",
        "colab": {
          "base_uri": "https://localhost:8080/"
        },
        "outputId": "ddbe3741-60ac-499e-fa2b-8b642f392de2"
      },
      "execution_count": 36,
      "outputs": [
        {
          "output_type": "stream",
          "name": "stdout",
          "text": [
            "Reliability 91.43582825026775\n",
            "Accuracy 95.9428973348612\n",
            "Efficiency 13833.7596\n"
          ]
        }
      ]
    },
    {
      "cell_type": "code",
      "source": [
        "reliability_exp2_f8 = mean(exp_f8['accuracies'])\n",
        "accuracy_exp2_f8 = mean(exp_f8['accuracies'][0:20])\n",
        "efficiency_exp2_f8 = mean(exp_f8['timedRuns'])\n",
        "\n",
        "print(\"Reliability\",reliability_exp2_f8)\n",
        "print(\"Accuracy\",accuracy_exp2_f8)\n",
        "print(\"Efficiency\",efficiency_exp2_f8)"
      ],
      "metadata": {
        "id": "JyZA-WmqOjTN",
        "colab": {
          "base_uri": "https://localhost:8080/"
        },
        "outputId": "e78adc69-6d37-44cf-e79c-20c11089b761"
      },
      "execution_count": 37,
      "outputs": [
        {
          "output_type": "stream",
          "name": "stdout",
          "text": [
            "Reliability 85.05279311760607\n",
            "Accuracy 85.0663215072562\n",
            "Efficiency 70.11928\n"
          ]
        }
      ]
    }
  ]
}