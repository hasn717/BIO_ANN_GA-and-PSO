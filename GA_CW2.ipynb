{
  "nbformat": 4,
  "nbformat_minor": 0,
  "metadata": {
    "colab": {
      "provenance": []
    },
    "kernelspec": {
      "name": "python3",
      "display_name": "Python 3"
    },
    "language_info": {
      "name": "python"
    },
    "gpuClass": "standard"
  },
  "cells": [
    {
      "cell_type": "code",
      "source": [
        "!pip install optproblems"
      ],
      "metadata": {
        "colab": {
          "base_uri": "https://localhost:8080/"
        },
        "id": "-qk7-LeTZjC2",
        "outputId": "9456b542-6677-4d02-9a66-34a64c1a70e5"
      },
      "execution_count": null,
      "outputs": [
        {
          "output_type": "stream",
          "name": "stdout",
          "text": [
            "Looking in indexes: https://pypi.org/simple, https://us-python.pkg.dev/colab-wheels/public/simple/\n",
            "Collecting optproblems\n",
            "  Downloading optproblems-1.3.tar.gz (2.0 MB)\n",
            "\u001b[K     |████████████████████████████████| 2.0 MB 4.9 MB/s \n",
            "\u001b[?25hBuilding wheels for collected packages: optproblems\n",
            "  Building wheel for optproblems (setup.py) ... \u001b[?25l\u001b[?25hdone\n",
            "  Created wheel for optproblems: filename=optproblems-1.3-py3-none-any.whl size=2040688 sha256=17c3d046c2f6152a93354236e2f07538e8788dbb79fd774a37a68d89c0ccafae\n",
            "  Stored in directory: /root/.cache/pip/wheels/3a/8d/1b/762402c6cbdfd012cf3622d55b6460440d90dafe59dad0c013\n",
            "Successfully built optproblems\n",
            "Installing collected packages: optproblems\n",
            "Successfully installed optproblems-1.3\n"
          ]
        }
      ]
    },
    {
      "cell_type": "code",
      "source": [
        "import numpy as np\n",
        "import matplotlib.pyplot as plt\n",
        "from optproblems import cec2005\n",
        "from optproblems import Individual\n",
        "from datetime import datetime\n",
        "from statistics import mean "
      ],
      "metadata": {
        "id": "jlu0Kw0Md_Pe"
      },
      "execution_count": null,
      "outputs": []
    },
    {
      "cell_type": "code",
      "source": [
        "class Solution:\n",
        "  def __init__(self,individual,score=0):\n",
        "    self.individual = individual\n",
        "    self.score = score\n",
        "  def __str__(self) -> str:\n",
        "     return 'SCORE ' + str(self.score) +' | INDIVIDUAL'+ str(self.individual)\n"
      ],
      "metadata": {
        "id": "2NsdHayXnuRl"
      },
      "execution_count": null,
      "outputs": []
    },
    {
      "cell_type": "code",
      "source": [
        "class Problem:\n",
        "  def __init__(self,f):\n",
        "    self.f = f\n",
        "  \n",
        "  def evaluate(self,sol):\n",
        "      func =  self.f(len(sol))\n",
        "      solution=Individual(sol)\n",
        "      func.evaluate(solution)\n",
        "      return solution.objective_values\n",
        "\n",
        "  def optimal(self,length):\n",
        "    func = self.f(length)\n",
        "    solutions = func.get_optimal_solutions()\n",
        "    for sol in solutions:\n",
        "      func.evaluate(sol) # return single solution\n",
        "      return sol.objective_values\n",
        "    return 0"
      ],
      "metadata": {
        "id": "Qe-3EFpcEo6m"
      },
      "execution_count": null,
      "outputs": []
    },
    {
      "cell_type": "code",
      "source": [
        "class GA:\n",
        "\n",
        "  @staticmethod\n",
        "  def one_point_crossover(p1, p2): ## cross over parents\n",
        "    a1 = p1.individual[:]\n",
        "    b1 = p2.individual[:]\n",
        "    pick = np.random.randint(0,len(p1.individual)) \n",
        "    crossed1 = np.concatenate((b1[:pick],a1[pick:]))\n",
        "    crossed2 = np.concatenate((a1[:pick],b1[pick:]))\n",
        "    return crossed1,crossed2\n",
        "\n",
        "  @staticmethod\n",
        "  def tournament_selection(population,k=3): ## tournament selection \n",
        "    selected = np.random.randint(len(population))\n",
        "    for index in np.random.randint(0, len(population), k-1):\n",
        "      if population[index].score < population[selected].score:\n",
        "        selected = index\n",
        "    return population[selected]\n",
        "\n",
        "\n",
        "  @staticmethod\n",
        "  def single_gene_random_mutation(vector_length,individual,bounds): ## single gene mutation, picking random gen and giving it a random value\n",
        "    if(len(bounds) != 2):\n",
        "      raise Exception('Input range should be an array/tuple of length 2')\n",
        "    rand_pick_gene = np.random.randint(0,vector_length)\n",
        "    individual.individual[rand_pick_gene] = np.random.uniform(bounds[0],bounds[1])\n",
        "\n",
        "  \n",
        "\n",
        "  @staticmethod\n",
        "  def fitness(objFunc,solution,best_solution): ## simple fitness function, picking the best score (lower is better)\n",
        "    solution.score=objFunc.evaluate(solution.individual) \n",
        "    if solution.score < best_solution.score:\n",
        "        best_solution = solution\n",
        "    return best_solution\n",
        "\n",
        "  \n",
        "  @staticmethod\n",
        "  def termination(objFunc,solution):\n",
        "    if((objFunc.optimal(len(solution.individual)) + 5) > solution.score): ## termination state when optimal solution is reached with an error of 5\n",
        "      return True\n",
        "    return False\n",
        "\n",
        "\n",
        "  '''\n",
        "  GA algorithm that initializes a population, iterating over them while doing a fitness assessment, selection and breeding.\n",
        "  -\tSelection -> Selection function [tournament selection is used following coursework specification]\n",
        "  -\tMutation -> Mutation function [single gene random mutation is used following coursework specification]\n",
        "  -\tCrossover -> Cross over function [one point crossover is used following coursework specification]\n",
        "  -\tFitness -> Fitness function a simple conditional picking the best score (using evaluate method from Problem class) \n",
        "  -\tTermination -> Termination function [Compare optimal solution with the given solution (with a small error added)]\n",
        "  -\tObjective function -> a function from the test problems (f1,f2,f3…)\n",
        "  -\tn_gen -> number of generations\n",
        "  -\tpop_size -> Length of the population \n",
        "  -\tBounds -> bounds of the solution (Capped depending on the test functions spec)\n",
        "  -\tVector size -> The vector size of the solution\n",
        "  -\tElite rate -> How much to keep from the parents \n",
        "\n",
        "  Elitism is used to inject fit parents to next generation (Exploitative Variation)\n",
        "  '''\n",
        "  @staticmethod\n",
        "  def Evolve(objFunc,fitness,selection,termination,crossover,mutation,n_gen,pop_size,bounds,vector_size=10,elite_rate=0.5):\n",
        "    if(len(bounds) != 2):\n",
        "      raise Exception('Input range of bounds should be an array/tuple of length 2')\n",
        "    if(pop_size % 2 != 0):## keep population size divisible by 2\n",
        "      pop_size+=1 \n",
        "    population=  [Solution(individual) for individual in np.random.uniform(low=bounds[0],high=bounds[1],size=(np.abs(pop_size),np.abs(vector_size)))] ## initialize population\n",
        "    np.random.shuffle(population)\n",
        "    best_solution = population[np.random.randint(0,len(population))]\n",
        "    history = []\n",
        "    for gen in range(n_gen):\n",
        "      for solution in population: \n",
        "        best_solution = fitness(objFunc,solution,best_solution)\n",
        "        history.append(best_solution.score)\n",
        "        if termination(objFunc,best_solution):\n",
        "          print('Terminated -> reached termination state')\n",
        "          return best_solution,history\n",
        "      selected_parents = [selection(population) for _ in range(len(population))] ## Selection\n",
        "      children = []\n",
        "      for mate in range(0, len(population), 2):\n",
        "        p1, p2 = selected_parents[mate], selected_parents[mate+1]\n",
        "        reproduce = crossover(p1,p2) # cross over\n",
        "        for gene in reproduce:\n",
        "          child= Solution(gene)\n",
        "          mutation(vector_size,child,bounds) ## mutation\n",
        "          children.append(child)\n",
        "\n",
        "      children.sort(key=lambda individual: individual.score, reverse=False) ## sort fittest children by score\n",
        "      population.sort(key=lambda individual: individual.score, reverse=False) ## sort fittest parents by score\n",
        "      elites_rate = int(len(population)* np.abs(elite_rate))  ## Elitism, keep percentage of top parents for next generation  \n",
        "      population[-elites_rate:] = children[:elites_rate if elites_rate > 0 else len(children)]\n",
        "    return best_solution,history"
      ],
      "metadata": {
        "id": "beMMuPMM_HQ7"
      },
      "execution_count": null,
      "outputs": []
    },
    {
      "cell_type": "markdown",
      "source": [
        "# Evaluation & Experiments"
      ],
      "metadata": {
        "id": "WNu5K5cl2PbM"
      }
    },
    {
      "cell_type": "code",
      "source": [
        "f1 = Problem(cec2005.F1)\n",
        "f2 = Problem(cec2005.F2)\n",
        "f3 = Problem(cec2005.F3)\n",
        "f4 = Problem(cec2005.F4)\n",
        "f5 = Problem(cec2005.F5)\n",
        "f6 = Problem(cec2005.F6)\n",
        "f8 = Problem(cec2005.F8)"
      ],
      "metadata": {
        "id": "ekuTNzqxFQHU"
      },
      "execution_count": null,
      "outputs": []
    },
    {
      "cell_type": "code",
      "source": [
        "def run_experiment(OBJECTIVE_FUNC,VECTOR_LENGTH,GENERATION_ITER,POPULATION_LENGTH,BOUNDS,ELITE_RATE,runs=50):\n",
        "  ## Evaluation \n",
        "  evaluation = {\n",
        "      'accuracies': [],\n",
        "      'timedRuns': [],\n",
        "      'runs': [],\n",
        "      'pop_length': POPULATION_LENGTH,\n",
        "      'n_gen': GENERATION_ITER\n",
        "  }\n",
        "  for run in range(runs):\n",
        "    print('RUN ',run+1)\n",
        "    start_time = datetime.now()\n",
        "    solution,data = GA.Evolve(objFunc=OBJECTIVE_FUNC,\n",
        "                        fitness=GA.fitness,\n",
        "                        selection=GA.tournament_selection,\n",
        "                        crossover=GA.one_point_crossover,\n",
        "                        mutation=GA.single_gene_random_mutation,\n",
        "                        n_gen=GENERATION_ITER,\n",
        "                        pop_size=POPULATION_LENGTH,\n",
        "                        vector_size=VECTOR_LENGTH,\n",
        "                        termination=GA.termination,\n",
        "                        bounds=BOUNDS,\n",
        "                        elite_rate=ELITE_RATE)\n",
        "    delta_time = datetime.now() - start_time \n",
        "    timeTaken = delta_time.total_seconds() * 1000\n",
        "    accuracy = (solution.score / OBJECTIVE_FUNC.optimal(VECTOR_LENGTH)) * 100\n",
        "\n",
        "    evaluation['timedRuns'].append(timeTaken)\n",
        "    evaluation['accuracies'].append(accuracy)\n",
        "    evaluation['runs'].append(data)\n",
        "\n",
        "\n",
        "    print('Time taken->',timeTaken, 'ms')\n",
        "    print('Fittest individual->',solution)\n",
        "    print('Accuracy ->',accuracy,'%')\n",
        "    print('#####################################')\n",
        "  return evaluation\n"
      ],
      "metadata": {
        "id": "vnw7YgA2c1jk"
      },
      "execution_count": null,
      "outputs": []
    },
    {
      "cell_type": "code",
      "source": [
        "## Experiments parameetrs \n",
        "experiment_runs = 25"
      ],
      "metadata": {
        "id": "of0NUDgxDnKf"
      },
      "execution_count": null,
      "outputs": []
    },
    {
      "cell_type": "markdown",
      "source": [
        "## Experiment 1"
      ],
      "metadata": {
        "id": "8wsnFgbH2Tl_"
      }
    },
    {
      "cell_type": "markdown",
      "source": [
        "### F1"
      ],
      "metadata": {
        "id": "CH3SYUYB2Zk4"
      }
    },
    {
      "cell_type": "code",
      "source": [
        "## Running Experiment F1\n",
        "## Hyperparameters\n",
        "VECTOR_LENGTH = 10\n",
        "GENERATION_ITER = 1000\n",
        "POPULATION_LENGTH = 10\n",
        "BOUNDS = [-100,100]\n",
        "ELITE_RATE = 0.5\n",
        "OBJECTIVE_FUNC=f1\n",
        "exp_f1 = run_experiment(OBJECTIVE_FUNC,VECTOR_LENGTH,GENERATION_ITER,POPULATION_LENGTH,BOUNDS,ELITE_RATE,experiment_runs)"
      ],
      "metadata": {
        "colab": {
          "base_uri": "https://localhost:8080/"
        },
        "id": "bGF5FwxICNLC",
        "outputId": "48c03ff1-7b95-4a37-b95b-94ed630fe056"
      },
      "execution_count": null,
      "outputs": [
        {
          "output_type": "stream",
          "name": "stdout",
          "text": [
            "RUN  1\n",
            "Terminated -> reached termination state\n",
            "Time taken-> 1664.45 ms\n",
            "Fittest individual-> SCORE -445.55343119463316 | INDIVIDUAL[-39.61716627  58.34842098 -47.50267532 -74.31851646 -17.65774653\n",
            " -80.53382952 -10.07007929  24.39401809  88.98670399   9.80367694]\n",
            "Accuracy -> 99.01187359880737 %\n",
            "#####################################\n",
            "RUN  2\n",
            "Terminated -> reached termination state\n",
            "Time taken-> 832.898 ms\n",
            "Fittest individual-> SCORE -445.03145913074115 | INDIVIDUAL[-40.39987755  59.43606594 -47.44404656 -74.36123453 -15.88018211\n",
            " -79.69441414 -10.49271473  25.28816296  90.52780844   9.08962718]\n",
            "Accuracy -> 98.89587980683136 %\n",
            "#####################################\n",
            "RUN  3\n",
            "Terminated -> reached termination state\n",
            "Time taken-> 569.431 ms\n",
            "Fittest individual-> SCORE -445.26800279049957 | INDIVIDUAL[-38.87635779  59.70895393 -45.2831921  -73.58617172 -16.30746282\n",
            " -81.08960889 -10.38434865  25.43535936  89.4755334    8.25141028]\n",
            "Accuracy -> 98.94844506455546 %\n",
            "#####################################\n",
            "RUN  4\n",
            "Terminated -> reached termination state\n",
            "Time taken-> 323.668 ms\n",
            "Fittest individual-> SCORE -446.65318247440973 | INDIVIDUAL[-39.94732214  59.56322357 -47.19856077 -75.39897746 -16.8886346\n",
            " -80.02788331 -10.38780454  24.47357735  90.56372217   8.81517484]\n",
            "Accuracy -> 99.25626277209105 %\n",
            "#####################################\n",
            "RUN  5\n",
            "Terminated -> reached termination state\n",
            "Time taken-> 373.293 ms\n",
            "Fittest individual-> SCORE -445.48721076360835 | INDIVIDUAL[-39.66837245  58.05470679 -47.15186519 -74.36947862 -16.27987675\n",
            " -81.06455029 -10.83629305  23.80784899  88.98053535   8.64429888]\n",
            "Accuracy -> 98.99715794746852 %\n",
            "#####################################\n",
            "RUN  6\n",
            "Terminated -> reached termination state\n",
            "Time taken-> 627.6610000000001 ms\n",
            "Fittest individual-> SCORE -445.08401460886626 | INDIVIDUAL[-40.117223    59.12210688 -47.40797576 -74.54640797 -18.30827356\n",
            " -81.03125111 -10.37599372  24.61166052  89.95016298   9.68431369]\n",
            "Accuracy -> 98.90755880197027 %\n",
            "#####################################\n",
            "RUN  7\n",
            "Terminated -> reached termination state\n",
            "Time taken-> 674.909 ms\n",
            "Fittest individual-> SCORE -445.82480068520636 | INDIVIDUAL[-39.64800878  58.54178331 -46.6907123  -74.62209413 -16.73749954\n",
            " -81.59937391 -10.74534539  23.38455471  89.80098495   9.49111044]\n",
            "Accuracy -> 99.07217793004585 %\n",
            "#####################################\n",
            "RUN  8\n",
            "Terminated -> reached termination state\n",
            "Time taken-> 760.651 ms\n",
            "Fittest individual-> SCORE -445.08007936509 | INDIVIDUAL[-38.42146728  59.16177589 -45.63415369 -75.69298165 -16.96879011\n",
            " -80.97740384 -12.07652527  24.73185678  89.8769032    9.27464919]\n",
            "Accuracy -> 98.90668430335333 %\n",
            "#####################################\n",
            "RUN  9\n",
            "Terminated -> reached termination state\n",
            "Time taken-> 1543.498 ms\n",
            "Fittest individual-> SCORE -447.0222152108031 | INDIVIDUAL[-39.54829097  59.25184806 -46.2293682  -73.65527469 -15.9351243\n",
            " -80.34126253  -9.97977858  24.9220757   90.50665675   9.53947694]\n",
            "Accuracy -> 99.33827004684514 %\n",
            "#####################################\n",
            "RUN  10\n",
            "Terminated -> reached termination state\n",
            "Time taken-> 1232.44 ms\n",
            "Fittest individual-> SCORE -445.8961412438531 | INDIVIDUAL[-40.24350138  58.73013265 -46.48851862 -75.09231118 -17.45235484\n",
            " -79.41737219 -10.67463483  23.89642475  89.84086151   9.4750915 ]\n",
            "Accuracy -> 99.08803138752292 %\n",
            "#####################################\n",
            "RUN  11\n",
            "Terminated -> reached termination state\n",
            "Time taken-> 1413.479 ms\n",
            "Fittest individual-> SCORE -446.3923471830451 | INDIVIDUAL[-39.76197834  58.49325486 -46.93707309 -74.38524576 -15.64487164\n",
            " -79.69916598 -11.18485402  24.62281029  89.33753799   8.96097321]\n",
            "Accuracy -> 99.19829937401002 %\n",
            "#####################################\n",
            "RUN  12\n",
            "Terminated -> reached termination state\n",
            "Time taken-> 2142.864 ms\n",
            "Fittest individual-> SCORE -445.11928452055105 | INDIVIDUAL[-39.15350558  59.76234623 -46.37214431 -75.25378307 -15.24834686\n",
            " -80.68841895 -10.0203667   25.18579918  89.21633965   9.8580902 ]\n",
            "Accuracy -> 98.91539656012246 %\n",
            "#####################################\n",
            "RUN  13\n",
            "Terminated -> reached termination state\n",
            "Time taken-> 1314.268 ms\n",
            "Fittest individual-> SCORE -445.172822538111 | INDIVIDUAL[-40.48413751  60.09161864 -45.78291398 -74.87439399 -16.8550178\n",
            " -79.83231024 -10.91958373  25.82057874  90.3880379    8.88947233]\n",
            "Accuracy -> 98.927293897358 %\n",
            "#####################################\n",
            "RUN  14\n",
            "Terminated -> reached termination state\n",
            "Time taken-> 1968.7939999999999 ms\n",
            "Fittest individual-> SCORE -446.2517209609835 | INDIVIDUAL[-39.3354947   58.74683136 -46.16281705 -75.25415099 -16.48896967\n",
            " -80.75020752 -11.48003736  25.87913405  88.82836289   8.36165721]\n",
            "Accuracy -> 99.16704910244077 %\n",
            "#####################################\n",
            "RUN  15\n",
            "Terminated -> reached termination state\n",
            "Time taken-> 1664.3190000000002 ms\n",
            "Fittest individual-> SCORE -445.2305819882699 | INDIVIDUAL[-38.4565101   58.07142218 -45.74948641 -73.55496822 -16.5839827\n",
            " -81.30713938 -10.38391118  25.99085566  89.80508114   8.7900827 ]\n",
            "Accuracy -> 98.94012933072663 %\n",
            "#####################################\n",
            "RUN  16\n",
            "Time taken-> 1782.443 ms\n",
            "Fittest individual-> SCORE -444.9288439393531 | INDIVIDUAL[-39.63831871  58.14707922 -45.04338197 -74.03235206 -16.47914676\n",
            " -79.64937693 -10.75556648  25.14083375  89.5734901    7.95021141]\n",
            "Accuracy -> 98.87307643096736 %\n",
            "#####################################\n",
            "RUN  17\n",
            "Terminated -> reached termination state\n",
            "Time taken-> 749.64 ms\n",
            "Fittest individual-> SCORE -446.97065176340385 | INDIVIDUAL[-37.86502367  58.94844433 -46.74830252 -74.49255365 -16.67191089\n",
            " -79.78995212 -10.67797981  24.64266793  89.67488294   9.07746035]\n",
            "Accuracy -> 99.32681150297863 %\n",
            "#####################################\n",
            "RUN  18\n",
            "Terminated -> reached termination state\n",
            "Time taken-> 654.671 ms\n",
            "Fittest individual-> SCORE -446.6938306250703 | INDIVIDUAL[-39.73959925  59.98441241 -45.95419125 -74.66721743 -16.66758246\n",
            " -79.81215935 -11.5088272   24.58895753  90.27178705   9.40799796]\n",
            "Accuracy -> 99.26529569446006 %\n",
            "#####################################\n",
            "RUN  19\n",
            "Terminated -> reached termination state\n",
            "Time taken-> 426.066 ms\n",
            "Fittest individual-> SCORE -445.07031925406284 | INDIVIDUAL[-39.31058245  59.3554126  -47.78116621 -74.60615996 -17.09921611\n",
            " -79.86502131 -11.9341387   24.72415134  89.86863077   8.68422957]\n",
            "Accuracy -> 98.90451538979175 %\n",
            "#####################################\n",
            "RUN  20\n",
            "Terminated -> reached termination state\n",
            "Time taken-> 705.437 ms\n",
            "Fittest individual-> SCORE -445.878786931067 | INDIVIDUAL[-39.68418121  59.36557039 -46.11327871 -74.86397784 -15.54986301\n",
            " -81.73259099 -10.2947228   24.77056533  89.86625002   9.86867626]\n",
            "Accuracy -> 99.08417487357045 %\n",
            "#####################################\n",
            "RUN  21\n",
            "Terminated -> reached termination state\n",
            "Time taken-> 724.8599999999999 ms\n",
            "Fittest individual-> SCORE -445.70235643012325 | INDIVIDUAL[-38.4335758   59.09187617 -46.63635741 -74.23458054 -17.23152824\n",
            " -79.17998731 -10.65915014  24.07382986  89.25004112   9.24283197]\n",
            "Accuracy -> 99.04496809558295 %\n",
            "#####################################\n",
            "RUN  22\n",
            "Terminated -> reached termination state\n",
            "Time taken-> 457.024 ms\n",
            "Fittest individual-> SCORE -447.543498552462 | INDIVIDUAL[-40.00714441  58.01228167 -45.55437831 -74.52475554 -16.7878368\n",
            " -80.36770235 -10.21288543  24.7761945   89.36220803   9.48491126]\n",
            "Accuracy -> 99.454110789436 %\n",
            "#####################################\n",
            "RUN  23\n",
            "Terminated -> reached termination state\n",
            "Time taken-> 609.637 ms\n",
            "Fittest individual-> SCORE -446.0237111651661 | INDIVIDUAL[-39.42407652  58.67973715 -47.37330076 -74.98957653 -17.52630183\n",
            " -80.97066035 -10.98730041  25.35745178  88.98621771  10.08902019]\n",
            "Accuracy -> 99.1163802589258 %\n",
            "#####################################\n",
            "RUN  24\n",
            "Terminated -> reached termination state\n",
            "Time taken-> 482.13 ms\n",
            "Fittest individual-> SCORE -445.4305052815535 | INDIVIDUAL[-39.90183385  60.14847911 -46.35433508 -73.56135885 -16.67118546\n",
            " -80.18522742 -10.76596449  25.80976264  90.17076059   8.41808954]\n",
            "Accuracy -> 98.98455672923411 %\n",
            "#####################################\n",
            "RUN  25\n",
            "Terminated -> reached termination state\n",
            "Time taken-> 559.469 ms\n",
            "Fittest individual-> SCORE -445.068832018304 | INDIVIDUAL[-39.21055711  58.30826675 -46.12686563 -74.58581222 -17.29472989\n",
            " -79.86266648 -10.24500832  26.76223552  89.15071559   9.01042394]\n",
            "Accuracy -> 98.90418489295645 %\n",
            "#####################################\n"
          ]
        }
      ]
    },
    {
      "cell_type": "markdown",
      "source": [
        "### F4"
      ],
      "metadata": {
        "id": "uhf27CFl2bLv"
      }
    },
    {
      "cell_type": "code",
      "source": [
        "## Running Experiment F4\n",
        "## Hyperparameters\n",
        "VECTOR_LENGTH = 10\n",
        "GENERATION_ITER = 1500\n",
        "POPULATION_LENGTH = 100\n",
        "BOUNDS = [-100,100]\n",
        "ELITE_RATE = 0.5\n",
        "OBJECTIVE_FUNC=f4\n",
        "exp_f4 = run_experiment(OBJECTIVE_FUNC,VECTOR_LENGTH,GENERATION_ITER,POPULATION_LENGTH,BOUNDS,ELITE_RATE,experiment_runs)"
      ],
      "metadata": {
        "colab": {
          "base_uri": "https://localhost:8080/"
        },
        "id": "bn2Qcre9DOma",
        "outputId": "373a9f74-0330-4f8b-d008-b89ff8d28c7b"
      },
      "execution_count": null,
      "outputs": [
        {
          "output_type": "stream",
          "name": "stdout",
          "text": [
            "RUN  1\n",
            "Terminated -> reached termination state\n",
            "Time taken-> 9147.548999999999 ms\n",
            "Fittest individual-> SCORE -445.0198869383215 | INDIVIDUAL[ 34.90526077 -80.94194727 -12.6725404  -82.62994642  84.36581986\n",
            "  45.67114587 -89.32116465 -27.5925573   75.78325796 -39.03854675]\n",
            "Accuracy -> 98.89330820851589 %\n",
            "#####################################\n",
            "RUN  2\n",
            "Time taken-> 17743.718 ms\n",
            "Fittest individual-> SCORE -417.72504250240434 | INDIVIDUAL[ 32.79572365 -76.70818703 -15.91747177 -79.88763009  80.18510365\n",
            "  47.79468949 -89.43158045 -27.40443805  76.10725074 -37.4403713 ]\n",
            "Accuracy -> 92.82778722275651 %\n",
            "#####################################\n",
            "RUN  3\n",
            "Time taken-> 12070.867 ms\n",
            "Fittest individual-> SCORE -439.0952611440473 | INDIVIDUAL[ 34.36003583 -80.31925244 -13.14422938 -80.39096716  80.9873568\n",
            "  48.23165649 -90.75866345 -27.83402635  76.93938025 -39.28717382]\n",
            "Accuracy -> 97.57672469867717 %\n",
            "#####################################\n",
            "RUN  4\n",
            "Terminated -> reached termination state\n",
            "Time taken-> 11297.008 ms\n",
            "Fittest individual-> SCORE -445.1021669217245 | INDIVIDUAL[ 34.31708144 -80.95204609 -10.47063526 -83.84425541  81.91923936\n",
            "  48.12232472 -90.64088868 -26.86085352  76.28084011 -38.59292337]\n",
            "Accuracy -> 98.91159264927212 %\n",
            "#####################################\n",
            "RUN  5\n",
            "Time taken-> 12105.258 ms\n",
            "Fittest individual-> SCORE -443.6488805201712 | INDIVIDUAL[ 37.47760675 -85.00935807 -11.83255597 -81.97932827  83.185594\n",
            "  46.33971265 -88.97939147 -27.64021664  75.94582357 -38.26962562]\n",
            "Accuracy -> 98.58864011559359 %\n",
            "#####################################\n",
            "RUN  6\n",
            "Time taken-> 12036.55 ms\n",
            "Fittest individual-> SCORE -439.8709754391016 | INDIVIDUAL[ 37.42761769 -86.40380217  -9.74093999 -82.17008738  81.83923165\n",
            "  46.90578748 -89.46920694 -27.27363151  76.75947969 -38.5103964 ]\n",
            "Accuracy -> 97.74910565313368 %\n",
            "#####################################\n",
            "RUN  7\n",
            "Terminated -> reached termination state\n",
            "Time taken-> 9852.031 ms\n",
            "Fittest individual-> SCORE -445.05794565253757 | INDIVIDUAL[ 35.57239664 -81.59184139 -12.10831308 -82.64765485  81.74912299\n",
            "  48.65320014 -89.92784703 -28.13413508  76.84104166 -40.03979685]\n",
            "Accuracy -> 98.9017657005639 %\n",
            "#####################################\n",
            "RUN  8\n",
            "Terminated -> reached termination state\n",
            "Time taken-> 4889.663 ms\n",
            "Fittest individual-> SCORE -446.06599824448915 | INDIVIDUAL[ 34.65052949 -82.36726187  -9.48128576 -83.96501744  82.99166966\n",
            "  45.77079568 -87.73653477 -28.09323667  76.16877443 -39.2596365 ]\n",
            "Accuracy -> 99.12577738766426 %\n",
            "#####################################\n",
            "RUN  9\n",
            "Time taken-> 13245.718 ms\n",
            "Fittest individual-> SCORE -435.6450589841915 | INDIVIDUAL[ 33.02009072 -78.38368488 -11.88433179 -84.47029451  84.26866074\n",
            "  46.80095828 -90.41442677 -26.81462784  75.44321511 -39.7736436 ]\n",
            "Accuracy -> 96.81001310759811 %\n",
            "#####################################\n",
            "RUN  10\n",
            "Time taken-> 11928.406 ms\n",
            "Fittest individual-> SCORE -443.1321087142533 | INDIVIDUAL[ 35.6243766  -83.80308025 -10.20580134 -82.76963398  81.87359\n",
            "  49.75323055 -91.20069404 -27.93406557  76.21765281 -39.08997873]\n",
            "Accuracy -> 98.47380193650073 %\n",
            "#####################################\n",
            "RUN  11\n",
            "Terminated -> reached termination state\n",
            "Time taken-> 11382.859 ms\n",
            "Fittest individual-> SCORE -445.04613730871 | INDIVIDUAL[ 36.31775017 -83.88373221 -11.48027921 -81.58639529  81.44785362\n",
            "  47.87292695 -88.43620787 -28.72198965  76.49200402 -38.50872139]\n",
            "Accuracy -> 98.89914162415778 %\n",
            "#####################################\n",
            "RUN  12\n",
            "Time taken-> 11874.565999999999 ms\n",
            "Fittest individual-> SCORE -444.43172075169235 | INDIVIDUAL[ 35.14129916 -83.79649525  -9.27121808 -84.5791488   83.78617144\n",
            "  48.02205383 -90.11434144 -26.2888579   74.55046656 -38.44048305]\n",
            "Accuracy -> 98.76260461148719 %\n",
            "#####################################\n",
            "RUN  13\n",
            "Time taken-> 14819.511999999999 ms\n",
            "Fittest individual-> SCORE -440.76066796016363 | INDIVIDUAL[ 36.14758987 -83.57494935  -8.7170322  -87.2483168   84.13202408\n",
            "  48.54007396 -89.97194293 -26.64968937  75.17205781 -39.21031979]\n",
            "Accuracy -> 97.94681510225858 %\n",
            "#####################################\n",
            "RUN  14\n",
            "Terminated -> reached termination state\n",
            "Time taken-> 6708.235000000001 ms\n",
            "Fittest individual-> SCORE -445.4373888468838 | INDIVIDUAL[ 35.32960818 -82.6725849  -11.95632756 -82.76683553  84.16034881\n",
            "  46.5570315  -89.99530242 -26.50025103  76.81698501 -40.81925   ]\n",
            "Accuracy -> 98.98608641041862 %\n",
            "#####################################\n",
            "RUN  15\n",
            "Terminated -> reached termination state\n",
            "Time taken-> 8939.132000000001 ms\n",
            "Fittest individual-> SCORE -446.41412338377916 | INDIVIDUAL[ 35.3557993  -81.87758056 -11.75717001 -84.03951131  83.79081639\n",
            "  47.04168305 -89.33072376 -26.96506909  76.75950921 -40.41631685]\n",
            "Accuracy -> 99.20313852972869 %\n",
            "#####################################\n",
            "RUN  16\n",
            "Time taken-> 11922.105 ms\n",
            "Fittest individual-> SCORE -431.4954038621203 | INDIVIDUAL[ 33.1491772  -79.03859238 -10.11658134 -84.03801504  82.51628001\n",
            "  45.7462449  -88.01542926 -28.65447426  75.54596517 -39.44012573]\n",
            "Accuracy -> 95.88786752491562 %\n",
            "#####################################\n",
            "RUN  17\n",
            "Terminated -> reached termination state\n",
            "Time taken-> 3441.557 ms\n",
            "Fittest individual-> SCORE -446.32664447620743 | INDIVIDUAL[ 35.10440101 -81.9201454  -11.10207422 -83.38160246  82.54275505\n",
            "  47.15061875 -90.22101012 -26.62739063  75.45558618 -38.77111242]\n",
            "Accuracy -> 99.18369877249053 %\n",
            "#####################################\n",
            "RUN  18\n",
            "Terminated -> reached termination state\n",
            "Time taken-> 9383.411 ms\n",
            "Fittest individual-> SCORE -445.36186977908176 | INDIVIDUAL[ 35.55442456 -82.40571016 -12.75356259 -81.11962017  82.40975151\n",
            "  46.81789368 -89.17917837 -27.38950251  76.3056605  -40.21450218]\n",
            "Accuracy -> 98.9693043953515 %\n",
            "#####################################\n",
            "RUN  19\n",
            "Time taken-> 11905.916 ms\n",
            "Fittest individual-> SCORE -439.54573518223634 | INDIVIDUAL[ 37.68296744 -86.15938221  -9.87929023 -83.65612164  84.23073004\n",
            "  46.35288079 -89.16422314 -26.90482852  74.52635802 -39.06345067]\n",
            "Accuracy -> 97.67683004049697 %\n",
            "#####################################\n",
            "RUN  20\n",
            "Time taken-> 11758.988000000001 ms\n",
            "Fittest individual-> SCORE -440.10134048866325 | INDIVIDUAL[ 34.34622724 -79.80518923 -13.33779078 -82.78312328  83.42677906\n",
            "  47.1927702  -88.73421096 -28.06615062  76.850503   -39.65280631]\n",
            "Accuracy -> 97.80029788636962 %\n",
            "#####################################\n",
            "RUN  21\n",
            "Time taken-> 11936.992999999999 ms\n",
            "Fittest individual-> SCORE -426.66749446679347 | INDIVIDUAL[ 33.39704934 -79.82026462 -12.64957213 -79.22210595  79.40368469\n",
            "  48.27512013 -90.76776366 -25.4048439   74.24907241 -37.02454324]\n",
            "Accuracy -> 94.81499877039855 %\n",
            "#####################################\n",
            "RUN  22\n",
            "Terminated -> reached termination state\n",
            "Time taken-> 11258.113 ms\n",
            "Fittest individual-> SCORE -445.8445513672752 | INDIVIDUAL[ 34.70566353 -82.36623618  -9.53593527 -85.15538086  84.18600842\n",
            "  47.13673044 -90.36326188 -26.31575632  75.79538954 -39.81496026]\n",
            "Accuracy -> 99.0765669705056 %\n",
            "#####################################\n",
            "RUN  23\n",
            "Terminated -> reached termination state\n",
            "Time taken-> 11149.515 ms\n",
            "Fittest individual-> SCORE -445.1066079127411 | INDIVIDUAL[ 35.93603226 -82.79417326 -12.1916244  -81.57920429  81.34526303\n",
            "  48.70430453 -90.70453262 -26.18447906  75.04328311 -38.1724918 ]\n",
            "Accuracy -> 98.91257953616469 %\n",
            "#####################################\n",
            "RUN  24\n",
            "Terminated -> reached termination state\n",
            "Time taken-> 8370.373000000001 ms\n",
            "Fittest individual-> SCORE -445.74221833981625 | INDIVIDUAL[ 33.97118491 -80.97825856 -10.50554009 -83.94488435  82.84618843\n",
            "  46.7751568  -88.50165122 -27.42512492  76.30348207 -39.82190687]\n",
            "Accuracy -> 99.05382629773695 %\n",
            "#####################################\n",
            "RUN  25\n",
            "Terminated -> reached termination state\n",
            "Time taken-> 2272.84 ms\n",
            "Fittest individual-> SCORE -445.5118477948184 | INDIVIDUAL[ 35.31124248 -83.50890423  -8.54806267 -84.41144475  81.92944135\n",
            "  47.50106648 -88.80458159 -28.49148217  76.72005642 -39.08992413]\n",
            "Accuracy -> 99.00263284329297 %\n",
            "#####################################\n"
          ]
        }
      ]
    },
    {
      "cell_type": "markdown",
      "source": [
        "### F8"
      ],
      "metadata": {
        "id": "gD-6O3qT2cyw"
      }
    },
    {
      "cell_type": "code",
      "source": [
        "## Running Experiment F8\n",
        "## Hyperparameters\n",
        "VECTOR_LENGTH = 10\n",
        "GENERATION_ITER = 100\n",
        "POPULATION_LENGTH = 6\n",
        "BOUNDS = [-32,32]\n",
        "ELITE_RATE = 0.5\n",
        "OBJECTIVE_FUNC = f8\n",
        "exp_f8 = run_experiment(OBJECTIVE_FUNC,VECTOR_LENGTH,GENERATION_ITER,POPULATION_LENGTH,BOUNDS,ELITE_RATE,experiment_runs)\n"
      ],
      "metadata": {
        "colab": {
          "base_uri": "https://localhost:8080/"
        },
        "id": "BCM6Tx9MDxmu",
        "outputId": "e915547e-dbe3-4803-ef55-0645d1b81f2d"
      },
      "execution_count": null,
      "outputs": [
        {
          "output_type": "stream",
          "name": "stdout",
          "text": [
            "RUN  1\n",
            "Time taken-> 80.664 ms\n",
            "Fittest individual-> SCORE -119.07618904632132 | INDIVIDUAL[-14.70805877 -11.59638761   5.65969945   4.98974501 -23.27291015\n",
            "  10.14359681  27.13977182  10.21391442   1.59741365 -27.76494251]\n",
            "Accuracy -> 85.05442074737238 %\n",
            "#####################################\n",
            "RUN  2\n",
            "Time taken-> 83.432 ms\n",
            "Fittest individual-> SCORE -118.98315460080254 | INDIVIDUAL[ 31.95076881 -15.89477172  -1.13719126 -25.39685819  -1.52248436\n",
            "  15.27418007  24.07573753  31.88168458 -19.94935505 -17.92267329]\n",
            "Accuracy -> 84.9879675720018 %\n",
            "#####################################\n",
            "RUN  3\n",
            "Time taken-> 89.408 ms\n",
            "Fittest individual-> SCORE -119.17888136057596 | INDIVIDUAL[ -2.51437673 -30.88947613  -9.85710427 -31.28522891  28.95017467\n",
            "  14.75382308  31.71675535   9.51252311  -8.64685123  22.3118035 ]\n",
            "Accuracy -> 85.12777240041139 %\n",
            "#####################################\n",
            "RUN  4\n",
            "Time taken-> 77.526 ms\n",
            "Fittest individual-> SCORE -119.14729374256946 | INDIVIDUAL[  1.36972809  17.50510941 -12.97683583   1.12526635 -15.29075798\n",
            "  21.90525632  -4.2741608  -13.49262912  -2.72486842 -17.75230763]\n",
            "Accuracy -> 85.10520981612105 %\n",
            "#####################################\n",
            "RUN  5\n",
            "Time taken-> 75.721 ms\n",
            "Fittest individual-> SCORE -119.02107130369356 | INDIVIDUAL[ -4.91224245 -30.79115307  31.06918966  27.83357761  18.33689507\n",
            " -27.71093609 -19.41589907 -17.58369998  17.23631738  16.50436255]\n",
            "Accuracy -> 85.01505093120969 %\n",
            "#####################################\n",
            "RUN  6\n",
            "Time taken-> 97.01 ms\n",
            "Fittest individual-> SCORE -119.2852619772459 | INDIVIDUAL[ 10.31582565   8.64632658 -14.50716898 -18.12178167  -2.90499528\n",
            " -18.97132951 -24.02917488  23.28400805  -3.39412453   8.23465622]\n",
            "Accuracy -> 85.20375855517564 %\n",
            "#####################################\n",
            "RUN  7\n",
            "Time taken-> 76.166 ms\n",
            "Fittest individual-> SCORE -118.96751908037825 | INDIVIDUAL[ -1.43663449 -23.12610413 -18.00259639  12.83691978  18.43439693\n",
            " -26.65044416  16.80811802   7.92434281   0.97660693  -1.83212166]\n",
            "Accuracy -> 84.97679934312731 %\n",
            "#####################################\n",
            "RUN  8\n",
            "Time taken-> 77.488 ms\n",
            "Fittest individual-> SCORE -118.99991346516975 | INDIVIDUAL[-23.82912783  19.55521426  -9.56885784 -19.10213288  15.3236386\n",
            " -11.45366886   3.66511449   5.95020949  29.87169466   1.40962778]\n",
            "Accuracy -> 84.99993818940696 %\n",
            "#####################################\n",
            "RUN  9\n",
            "Time taken-> 112.833 ms\n",
            "Fittest individual-> SCORE -119.02917040141415 | INDIVIDUAL[-19.684862    -7.4300848   25.17535255  24.35813278   2.34373719\n",
            " -28.19005556  17.13086925  -1.14120214 -18.34555446   1.83487345]\n",
            "Accuracy -> 85.0208360010101 %\n",
            "#####################################\n",
            "RUN  10\n",
            "Time taken-> 131.209 ms\n",
            "Fittest individual-> SCORE -119.09791382261764 | INDIVIDUAL[  1.97119988  -6.1647505    5.1891863  -20.25231409  30.2547365\n",
            "  14.60881381 -24.31615008  13.69654216   8.7097125   27.80573632]\n",
            "Accuracy -> 85.06993844472689 %\n",
            "#####################################\n",
            "RUN  11\n",
            "Time taken-> 84.182 ms\n",
            "Fittest individual-> SCORE -119.07763236226954 | INDIVIDUAL[ 13.9382804  -18.02321735  -5.0913133   15.53181611 -28.26737835\n",
            " -20.04679491  27.89729132  -7.64513717 -21.19276044 -28.38018126]\n",
            "Accuracy -> 85.05545168733538 %\n",
            "#####################################\n",
            "RUN  12\n",
            "Time taken-> 73.20500000000001 ms\n",
            "Fittest individual-> SCORE -119.1178924664481 | INDIVIDUAL[ -7.6403925  -22.92617514  19.56912993  12.23388663 -12.66451503\n",
            "  29.74383381  26.08809522  30.37381182  29.61531472  28.06197281]\n",
            "Accuracy -> 85.08420890460579 %\n",
            "#####################################\n",
            "RUN  13\n",
            "Time taken-> 77.11999999999999 ms\n",
            "Fittest individual-> SCORE -118.98064016805196 | INDIVIDUAL[-5.52200741  6.56425494 -8.58263728 -7.90573592  6.00510729 -4.54820413\n",
            " -1.39121797  1.86806846 16.41339204 23.75855731]\n",
            "Accuracy -> 84.98617154860855 %\n",
            "#####################################\n",
            "RUN  14\n",
            "Time taken-> 93.816 ms\n",
            "Fittest individual-> SCORE -119.2959909445738 | INDIVIDUAL[  4.45821255  -7.23538753 -20.29695343 -14.95081378  -4.64777523\n",
            "  17.6642597  -26.53382678 -26.41231637  31.8589374   18.44569347]\n",
            "Accuracy -> 85.211422103267 %\n",
            "#####################################\n",
            "RUN  15\n",
            "Time taken-> 75.501 ms\n",
            "Fittest individual-> SCORE -119.37797314177851 | INDIVIDUAL[  8.55033775  16.67469836  -8.87625363 -14.50796048   7.86087977\n",
            " -25.11044727  -5.34824996  -5.75031002 -14.30054629   8.90361455]\n",
            "Accuracy -> 85.26998081555608 %\n",
            "#####################################\n",
            "RUN  16\n",
            "Time taken-> 74.68299999999999 ms\n",
            "Fittest individual-> SCORE -119.12253764368708 | INDIVIDUAL[  8.31917207 -17.35522038  14.69493007 -13.42005295 -24.40365146\n",
            "  25.14405616  27.26430594  22.24862147 -10.44659426  25.00676795]\n",
            "Accuracy -> 85.08752688834792 %\n",
            "#####################################\n",
            "RUN  17\n",
            "Time taken-> 80.943 ms\n",
            "Fittest individual-> SCORE -119.00616371509307 | INDIVIDUAL[  3.86736557 -19.97529634  31.41363861 -26.26475326   7.16388984\n",
            " -11.74524212  27.75234334   9.53340067  18.19531658  20.19034993]\n",
            "Accuracy -> 85.0044026536379 %\n",
            "#####################################\n",
            "RUN  18\n",
            "Time taken-> 81.931 ms\n",
            "Fittest individual-> SCORE -118.93687020716283 | INDIVIDUAL[-16.57999363  20.95768089   6.78698122   5.23875882  15.04556293\n",
            "   1.40214229  25.36028495   7.04459446  17.03467817  19.36009515]\n",
            "Accuracy -> 84.95490729083059 %\n",
            "#####################################\n",
            "RUN  19\n",
            "Time taken-> 76.346 ms\n",
            "Fittest individual-> SCORE -118.99818710710349 | INDIVIDUAL[ -2.96297439  14.2865035  -13.74815103  15.23536923 -22.95744123\n",
            "  14.87739243 -12.53202028 -11.59803315  -8.07838574  20.24488063]\n",
            "Accuracy -> 84.99870507650249 %\n",
            "#####################################\n",
            "RUN  20\n",
            "Time taken-> 120.7 ms\n",
            "Fittest individual-> SCORE -119.26035223063774 | INDIVIDUAL[ -4.69950175  27.69469681  24.81176641  15.56484312  23.57246231\n",
            " -19.34291127 -23.13605292  19.30001185  16.61999278 -19.4921819 ]\n",
            "Accuracy -> 85.18596587902695 %\n",
            "#####################################\n",
            "RUN  21\n",
            "Time taken-> 80.023 ms\n",
            "Fittest individual-> SCORE -119.14789033788426 | INDIVIDUAL[-26.61758638   0.46968411 -17.04954949  22.69512532  10.41636673\n",
            "  -4.29387705 -27.44427665  18.87698993 -15.81618277  -7.64539825]\n",
            "Accuracy -> 85.10563595563163 %\n",
            "#####################################\n",
            "RUN  22\n",
            "Time taken-> 79.729 ms\n",
            "Fittest individual-> SCORE -119.01253922940646 | INDIVIDUAL[ 14.41227367 -25.69004522 -25.47804295  -0.18339018  13.25845553\n",
            "  30.8004109   -8.38480466  -6.69536185 -24.8135788   15.80576129]\n",
            "Accuracy -> 85.00895659243318 %\n",
            "#####################################\n",
            "RUN  23\n",
            "Time taken-> 88.88300000000001 ms\n",
            "Fittest individual-> SCORE -119.11752583733549 | INDIVIDUAL[ 19.32958357 -26.29407224 -25.96062637   1.09587211  29.78174851\n",
            "  -7.93973813  18.30203485  26.12579723  13.37064911  -0.51287134]\n",
            "Accuracy -> 85.0839470266682 %\n",
            "#####################################\n",
            "RUN  24\n",
            "Time taken-> 82.176 ms\n",
            "Fittest individual-> SCORE -119.06260290716358 | INDIVIDUAL[-30.7676115    3.84725422  18.63160251   4.57272455  -4.53129506\n",
            " -19.4066089  -20.04152055 -17.42446986  -4.58048043 -20.91017325]\n",
            "Accuracy -> 85.04471636225969 %\n",
            "#####################################\n",
            "RUN  25\n",
            "Time taken-> 77.16499999999999 ms\n",
            "Fittest individual-> SCORE -118.9606434220343 | INDIVIDUAL[-26.34582436 -21.62583457  -5.75330731 -21.60114516   2.77210129\n",
            "  30.02423098  28.04492511   2.45647834  16.66396291   6.24591444]\n",
            "Accuracy -> 84.97188815859592 %\n",
            "#####################################\n"
          ]
        }
      ]
    },
    {
      "cell_type": "markdown",
      "source": [
        "## Analysis"
      ],
      "metadata": {
        "id": "zgOmf9f82qQ6"
      }
    },
    {
      "cell_type": "markdown",
      "source": [
        "### F1, F4 ,F8"
      ],
      "metadata": {
        "id": "IkdlZyZE2s-s"
      }
    },
    {
      "cell_type": "code",
      "source": [
        "x_axis = [i for i in range(experiment_runs)]\n",
        "plt.plot(x_axis, exp_f1['accuracies'])\n",
        "plt.plot(x_axis, exp_f4['accuracies'])\n",
        "plt.plot(x_axis, exp_f8['accuracies'])\n",
        "\n",
        "plt.title('Accuracy vs Runs')\n",
        "plt.xlabel('Runs')\n",
        "plt.ylabel('Accuracy(%)')\n",
        "plt.legend(['F1', 'F4','F8'])\n",
        "plt.show()"
      ],
      "metadata": {
        "colab": {
          "base_uri": "https://localhost:8080/"
        },
        "id": "haOBOttMD8Ix",
        "outputId": "301ca1db-47e4-4a34-a6b9-852d5ebf2e2b"
      },
      "execution_count": null,
      "outputs": [
        {
          "output_type": "display_data",
          "data": {
            "text/plain": [
              "<Figure size 432x288 with 1 Axes>"
            ],
            "image/png": "[encoded data removed]"
          },
          "metadata": {
            "needs_background": "light"
          }
        }
      ]
    },
    {
      "cell_type": "markdown",
      "source": [
        "### F1"
      ],
      "metadata": {
        "id": "TiMelcwW2vlW"
      }
    },
    {
      "cell_type": "code",
      "source": [
        "## F1 Convergence Single Run\n",
        "x_axis = [i for i in range(len(exp_f1['runs'][0]))]\n",
        "plt.plot(x_axis, exp_f1['runs'][0])\n",
        "plt.title('Convergence')\n",
        "plt.xlabel('Number of iterations')\n",
        "plt.ylabel('Fitness')\n",
        "plt.show()"
      ],
      "metadata": {
        "colab": {
          "base_uri": "https://localhost:8080/"
        },
        "id": "Cvxh5MdijDoi",
        "outputId": "8556fafd-6b65-455d-cd77-2a6bc530c5d5"
      },
      "execution_count": null,
      "outputs": [
        {
          "output_type": "display_data",
          "data": {
            "text/plain": [
              "<Figure size 432x288 with 1 Axes>"
            ],
            "image/png": "[encoded data removed]"
          },
          "metadata": {
            "needs_background": "light"
          }
        }
      ]
    },
    {
      "cell_type": "markdown",
      "source": [
        "### F4"
      ],
      "metadata": {
        "id": "IpALQBS22wgC"
      }
    },
    {
      "cell_type": "code",
      "source": [
        "## F4 Convergence Single Run\n",
        "x_axis = [i for i in range(len(exp_f4['runs'][0]))]\n",
        "plt.plot(x_axis, exp_f4['runs'][0])\n",
        "plt.title('Convergence')\n",
        "plt.xlabel('Number of iterations')\n",
        "plt.ylabel('Fitness')\n",
        "plt.show()"
      ],
      "metadata": {
        "colab": {
          "base_uri": "https://localhost:8080/"
        },
        "id": "NV3fKt18lel_",
        "outputId": "a98b04c4-e552-41c8-cb4e-b9750f6fd968"
      },
      "execution_count": null,
      "outputs": [
        {
          "output_type": "display_data",
          "data": {
            "text/plain": [
              "<Figure size 432x288 with 1 Axes>"
            ],
            "image/png": "[encoded data removed]"
          },
          "metadata": {
            "needs_background": "light"
          }
        }
      ]
    },
    {
      "cell_type": "markdown",
      "source": [
        "### F8"
      ],
      "metadata": {
        "id": "r2iDh_Ll2xze"
      }
    },
    {
      "cell_type": "code",
      "source": [
        "## F8 Convergence Single Run\n",
        "x_axis = [i for i in range(len(exp_f8['runs'][0]))]\n",
        "plt.plot(x_axis, exp_f8['runs'][0])\n",
        "plt.title('Convergence')\n",
        "plt.xlabel('Number of iterations')\n",
        "plt.ylabel('Fitness')\n",
        "plt.show()"
      ],
      "metadata": {
        "colab": {
          "base_uri": "https://localhost:8080/"
        },
        "id": "O_Tx0LBjljdt",
        "outputId": "15cbb6d4-da34-4db8-e2b0-e5a1c9bd2e1a"
      },
      "execution_count": null,
      "outputs": [
        {
          "output_type": "display_data",
          "data": {
            "text/plain": [
              "<Figure size 432x288 with 1 Axes>"
            ],
            "image/png": "[encoded data removed]"
          },
          "metadata": {
            "needs_background": "light"
          }
        }
      ]
    },
    {
      "cell_type": "code",
      "source": [
        "best_exp_f1 = np.max(exp_f1['accuracies'])\n",
        "print('Best F1 Accuracy->',best_exp_f1)\n",
        "best_exp_f4 = np.max(exp_f4['accuracies'])\n",
        "print('Best F4 Accuracy->',best_exp_f4)\n",
        "best_exp_f8 = np.max(exp_f8['accuracies'])\n",
        "print('Best F8 Accuracy->',best_exp_f8)"
      ],
      "metadata": {
        "colab": {
          "base_uri": "https://localhost:8080/"
        },
        "id": "oYuqVFClcujS",
        "outputId": "144cc138-c822-4dd0-96aa-98c9a403ded2"
      },
      "execution_count": null,
      "outputs": [
        {
          "output_type": "stream",
          "name": "stdout",
          "text": [
            "Best F1 Accuracy-> 99.454110789436\n",
            "Best F4 Accuracy-> 99.20313852972869\n",
            "Best F8 Accuracy-> 85.26998081555608\n"
          ]
        }
      ]
    },
    {
      "cell_type": "code",
      "source": [
        "worst_exp_f1 = np.min(exp_f1['accuracies'])\n",
        "print('Worst F1 Accuracy->',worst_exp_f1)\n",
        "worst_exp_f4 = np.min(exp_f4['accuracies'])\n",
        "print('Worst F4 Accuracy->',worst_exp_f4)\n",
        "worst_exp_f8 = np.min(exp_f8['accuracies'])\n",
        "print('Worst F8 Accuracy->',worst_exp_f8)"
      ],
      "metadata": {
        "colab": {
          "base_uri": "https://localhost:8080/"
        },
        "id": "IoX1PdIXcvtd",
        "outputId": "9e2f2e4a-fd13-44e3-d971-df709087d424"
      },
      "execution_count": null,
      "outputs": [
        {
          "output_type": "stream",
          "name": "stdout",
          "text": [
            "Worst F1 Accuracy-> 98.87307643096736\n",
            "Worst F4 Accuracy-> 92.82778722275651\n",
            "Worst F8 Accuracy-> 84.95490729083059\n"
          ]
        }
      ]
    },
    {
      "cell_type": "code",
      "source": [
        "median_exp_f1 = np.median(exp_f1['accuracies'])\n",
        "print('median F1 Accuracy->',median_exp_f1)\n",
        "median_exp_f4 = np.median(exp_f4['accuracies'])\n",
        "print('median F4 Accuracy->',median_exp_f4)\n",
        "median_exp_f8 = np.median(exp_f8['accuracies'])\n",
        "print('median F8 Accuracy->',median_exp_f8)"
      ],
      "metadata": {
        "colab": {
          "base_uri": "https://localhost:8080/"
        },
        "id": "MhDAw_ctcxJK",
        "outputId": "97206d24-66cf-4e25-907e-d2f83195cdc5"
      },
      "execution_count": null,
      "outputs": [
        {
          "output_type": "stream",
          "name": "stdout",
          "text": [
            "median F1 Accuracy-> 99.01187359880737\n",
            "median F4 Accuracy-> 98.89330820851589\n",
            "median F8 Accuracy-> 85.05442074737238\n"
          ]
        }
      ]
    },
    {
      "cell_type": "code",
      "source": [
        "reliability_exp_f1 = mean(exp_f1['accuracies'])\n",
        "accuracy_exp_f1 = mean(exp_f1['accuracies'][0:20])\n",
        "efficiency_exp_f1 = mean(exp_f1['timedRuns'])\n",
        "\n",
        "print(\"Reliability\",reliability_exp_f1)\n",
        "print(\"Accuracy\",accuracy_exp_f1)\n",
        "print(\"Efficiency\",efficiency_exp_f1)"
      ],
      "metadata": {
        "id": "7nSaBfB_Osze",
        "colab": {
          "base_uri": "https://localhost:8080/"
        },
        "outputId": "1aa2a55d-851b-4e15-dd66-1e4f8764c693"
      },
      "execution_count": null,
      "outputs": [
        {
          "output_type": "stream",
          "name": "stdout",
          "text": [
            "Reliability 99.06114338328211\n",
            "Accuracy 99.05121919079588\n",
            "Efficiency 970.32\n"
          ]
        }
      ]
    },
    {
      "cell_type": "code",
      "source": [
        "reliability_exp_f4 = mean(exp_f4['accuracies'])\n",
        "accuracy_exp_f4 = mean(exp_f4['accuracies'][0:20])\n",
        "efficiency_exp_f4 = mean(exp_f4['timedRuns'])\n",
        "\n",
        "print(\"Reliability\",reliability_exp_f4)\n",
        "print(\"Accuracy\",accuracy_exp_f4)\n",
        "print(\"Efficiency\",efficiency_exp_f4)"
      ],
      "metadata": {
        "colab": {
          "base_uri": "https://localhost:8080/"
        },
        "outputId": "fc56b719-4fc5-4128-95ae-e333243e913e",
        "id": "RAgTd17QOz3L"
      },
      "execution_count": null,
      "outputs": [
        {
          "output_type": "stream",
          "name": "stdout",
          "text": [
            "Reliability 98.081396239842\n",
            "Accuracy 98.05871507889755\n",
            "Efficiency 10457.63532\n"
          ]
        }
      ]
    },
    {
      "cell_type": "code",
      "source": [
        "reliability_exp_f8 = mean(exp_f8['accuracies'])\n",
        "accuracy_exp_f8 = mean(exp_f8['accuracies'][0:20])\n",
        "efficiency_exp_f8 = mean(exp_f8['timedRuns'])\n",
        "\n",
        "print(\"Reliability\",reliability_exp_f8)\n",
        "print(\"Accuracy\",accuracy_exp_f8)\n",
        "print(\"Efficiency\",efficiency_exp_f8)"
      ],
      "metadata": {
        "colab": {
          "base_uri": "https://localhost:8080/"
        },
        "outputId": "cf5c66e2-75c6-4fec-fac5-c7bda9204720",
        "id": "skOon52TOz3N"
      },
      "execution_count": null,
      "outputs": [
        {
          "output_type": "stream",
          "name": "stdout",
          "text": [
            "Reliability 85.06462315775482\n",
            "Accuracy 85.0700217424141\n",
            "Efficiency 85.9144\n"
          ]
        }
      ]
    },
    {
      "cell_type": "markdown",
      "source": [
        "## Experiment 2"
      ],
      "metadata": {
        "id": "qcGKYUlE20nQ"
      }
    },
    {
      "cell_type": "markdown",
      "source": [
        "### F1"
      ],
      "metadata": {
        "id": "rSFMVYya4VbA"
      }
    },
    {
      "cell_type": "code",
      "source": [
        "## Running Experiment F1\n",
        "## Hyperparameters\n",
        "VECTOR_LENGTH = 10\n",
        "GENERATION_ITER = 250\n",
        "POPULATION_LENGTH = 10\n",
        "BOUNDS = [-100,100]\n",
        "ELITE_RATE = 0.5\n",
        "OBJECTIVE_FUNC=f1\n",
        "exp2_f1 = run_experiment(OBJECTIVE_FUNC,VECTOR_LENGTH,GENERATION_ITER,POPULATION_LENGTH,BOUNDS,ELITE_RATE,experiment_runs)"
      ],
      "metadata": {
        "colab": {
          "base_uri": "https://localhost:8080/"
        },
        "id": "Rhcdyte94fn4",
        "outputId": "6fc57f6c-d62e-46a2-f218-a5a1f5f6670d"
      },
      "execution_count": null,
      "outputs": [
        {
          "output_type": "stream",
          "name": "stdout",
          "text": [
            "RUN  1\n",
            "Time taken-> 233.89 ms\n",
            "Fittest individual-> SCORE -405.4835652202593 | INDIVIDUAL[-38.16670298  55.5135617  -44.57319601 -73.5835817  -13.63744252\n",
            " -79.90329529 -11.50836376  21.91838559  88.39999124   6.89552459]\n",
            "Accuracy -> 90.1074589378354 %\n",
            "#####################################\n",
            "RUN  2\n",
            "Time taken-> 201.85 ms\n",
            "Fittest individual-> SCORE -386.8700335399885 | INDIVIDUAL[-40.16260126  57.56653088 -45.82003302 -76.08847021 -22.36845901\n",
            " -81.49036708 -11.22379763  22.42227446  93.80679007  11.05391004]\n",
            "Accuracy -> 85.9711185644419 %\n",
            "#####################################\n",
            "RUN  3\n",
            "Time taken-> 220.611 ms\n",
            "Fittest individual-> SCORE -429.03670189193986 | INDIVIDUAL[-36.63745638  57.09034883 -46.22120854 -76.03591007 -17.8674839\n",
            " -80.79847672  -9.84137882  22.49440039  89.35867133   8.41690062]\n",
            "Accuracy -> 95.34148930931997 %\n",
            "#####################################\n",
            "RUN  4\n",
            "Time taken-> 237.154 ms\n",
            "Fittest individual-> SCORE -388.6469357466658 | INDIVIDUAL[-38.87726787  63.56089435 -42.857388   -76.53630767 -13.78557226\n",
            " -77.1852243   -9.88895881  26.64256989  89.39785367   9.26524266]\n",
            "Accuracy -> 86.36598572148128 %\n",
            "#####################################\n",
            "RUN  5\n",
            "Time taken-> 218.351 ms\n",
            "Fittest individual-> SCORE -409.6795576574704 | INDIVIDUAL[-41.97332921  56.30361438 -45.66642598 -74.35601468 -18.82118082\n",
            " -84.21392931  -9.05440211  26.79186865  90.19794171  10.72602763]\n",
            "Accuracy -> 91.03990170166009 %\n",
            "#####################################\n",
            "RUN  6\n",
            "Time taken-> 193.11700000000002 ms\n",
            "Fittest individual-> SCORE -401.69108997891766 | INDIVIDUAL[-40.69860481  59.507978   -44.91919977 -74.78341211 -12.59184719\n",
            " -79.66406668  -9.79780637  26.73710978  92.48331905  12.95843381]\n",
            "Accuracy -> 89.26468666198171 %\n",
            "#####################################\n",
            "RUN  7\n",
            "Time taken-> 220.932 ms\n",
            "Fittest individual-> SCORE -407.5476546753008 | INDIVIDUAL[-39.63330053  58.15296492 -46.71793146 -70.0601318  -13.83027797\n",
            " -78.80847634 -12.98461481  23.27371417  89.50190778   9.2466732 ]\n",
            "Accuracy -> 90.56614548340019 %\n",
            "#####################################\n",
            "RUN  8\n",
            "Time taken-> 229.023 ms\n",
            "Fittest individual-> SCORE -394.3260636271846 | INDIVIDUAL[-40.71000094  59.56480266 -48.19413524 -68.84123504 -15.16575389\n",
            " -77.4801738   -8.61779318  25.02955545  89.75316184   8.90487937]\n",
            "Accuracy -> 87.62801413937437 %\n",
            "#####################################\n",
            "RUN  9\n",
            "Time taken-> 191.163 ms\n",
            "Fittest individual-> SCORE -419.34532784705675 | INDIVIDUAL[-39.69526473  59.24897229 -41.67572105 -73.13000835 -17.37492151\n",
            " -81.40307271 -10.45909345  25.28586206  87.95059277   7.79715796]\n",
            "Accuracy -> 93.18785063267929 %\n",
            "#####################################\n",
            "RUN  10\n",
            "Time taken-> 208.187 ms\n",
            "Fittest individual-> SCORE -329.57554911088994 | INDIVIDUAL[-35.51418966  59.08055347 -43.22619265 -72.2569855  -13.26991165\n",
            " -82.02146742  -4.23909141  19.05553283  89.04709375   8.94310296]\n",
            "Accuracy -> 73.2390109135311 %\n",
            "#####################################\n",
            "RUN  11\n",
            "Time taken-> 207.75199999999998 ms\n",
            "Fittest individual-> SCORE -346.585829415691 | INDIVIDUAL[-38.3974215   58.38810344 -41.49336272 -75.12945696 -17.19649582\n",
            " -86.66806844 -11.08618379  27.71251626  94.80600961   6.16861709]\n",
            "Accuracy -> 77.0190732034869 %\n",
            "#####################################\n",
            "RUN  12\n",
            "Time taken-> 236.733 ms\n",
            "Fittest individual-> SCORE -424.6123254766822 | INDIVIDUAL[-39.85033244  58.60494359 -45.64023918 -75.55305771 -13.82450649\n",
            " -82.15258095  -9.16479827  24.40207859  88.66941378   6.18545887]\n",
            "Accuracy -> 94.35829455037383 %\n",
            "#####################################\n",
            "RUN  13\n",
            "Time taken-> 205.08100000000002 ms\n",
            "Fittest individual-> SCORE -384.64464994358036 | INDIVIDUAL[-38.59656412  61.14784735 -43.19353393 -75.49125386 -16.48925657\n",
            " -81.55677574 -12.32678101  25.52380704  83.82646395   6.15919016]\n",
            "Accuracy -> 85.47658887635119 %\n",
            "#####################################\n",
            "RUN  14\n",
            "Time taken-> 214.841 ms\n",
            "Fittest individual-> SCORE -364.0556783096431 | INDIVIDUAL[-33.08492478  60.98821651 -49.44933438 -73.09204147 -20.56244122\n",
            " -83.23664115 -12.59070872  26.34343446  91.62080404   8.74226636]\n",
            "Accuracy -> 80.90126184658736 %\n",
            "#####################################\n",
            "RUN  15\n",
            "Time taken-> 193.282 ms\n",
            "Fittest individual-> SCORE -398.1903561639271 | INDIVIDUAL[-39.05377757  62.91373085 -45.25365287 -73.07286941 -13.64411947\n",
            " -79.03732877  -7.8052292   26.19149721  86.64585921   8.55553398]\n",
            "Accuracy -> 88.48674581420603 %\n",
            "#####################################\n",
            "RUN  16\n",
            "Time taken-> 212.26 ms\n",
            "Fittest individual-> SCORE -405.3342000837705 | INDIVIDUAL[-36.56520394  58.61356055 -43.6006065  -71.02503042 -19.57020523\n",
            " -81.77438773  -8.10523817  24.95328881  89.96656487   8.07142457]\n",
            "Accuracy -> 90.07426668528234 %\n",
            "#####################################\n",
            "RUN  17\n",
            "Time taken-> 222.869 ms\n",
            "Fittest individual-> SCORE -401.45229246707345 | INDIVIDUAL[-34.70504009  58.99840985 -43.81955317 -74.25105777 -20.05102127\n",
            " -79.24915893 -10.33178645  26.4765594   90.22440367  11.59247739]\n",
            "Accuracy -> 89.21162054823854 %\n",
            "#####################################\n",
            "RUN  18\n",
            "Time taken-> 203.41600000000003 ms\n",
            "Fittest individual-> SCORE -429.9012808926789 | INDIVIDUAL[-39.34952244  58.4526084  -48.6981903  -73.39343052 -16.85906767\n",
            " -81.20165805 -12.27343596  24.06266545  88.07347542  11.45174984]\n",
            "Accuracy -> 95.53361797615088 %\n",
            "#####################################\n",
            "RUN  19\n",
            "Time taken-> 206.758 ms\n",
            "Fittest individual-> SCORE -428.337493271549 | INDIVIDUAL[-39.51254093  59.07064121 -47.95872501 -77.60274173 -15.99749126\n",
            " -81.2759309   -9.09492251  23.80801107  87.70032602  10.03962607]\n",
            "Accuracy -> 95.18610961589978 %\n",
            "#####################################\n",
            "RUN  20\n",
            "Time taken-> 214.446 ms\n",
            "Fittest individual-> SCORE -407.9220249905795 | INDIVIDUAL[-35.49232285  59.24443702 -46.98919408 -77.36853457 -17.2323382\n",
            " -79.45928968  -7.76574065  23.90137568  87.86779352   6.84055008]\n",
            "Accuracy -> 90.64933888679543 %\n",
            "#####################################\n",
            "RUN  21\n",
            "Time taken-> 208.12 ms\n",
            "Fittest individual-> SCORE -424.8372738841335 | INDIVIDUAL[-38.18402718  57.75073804 -46.59836183 -74.46710804 -17.70499127\n",
            " -78.70049926  -7.69717977  27.29099017  87.73882179   9.34600272]\n",
            "Accuracy -> 94.408283085363 %\n",
            "#####################################\n",
            "RUN  22\n",
            "Time taken-> 194.655 ms\n",
            "Fittest individual-> SCORE -426.7082785319751 | INDIVIDUAL[-42.18248256  56.81708201 -47.44131154 -74.63037542 -16.30683443\n",
            " -78.82505051  -8.45637124  25.34811485  90.38918442  10.22938905]\n",
            "Accuracy -> 94.82406189599448 %\n",
            "#####################################\n",
            "RUN  23\n",
            "Time taken-> 217.67600000000002 ms\n",
            "Fittest individual-> SCORE -343.0703527040172 | INDIVIDUAL[-37.65511177  56.09718503 -45.86698137 -76.52290035 -23.99642886\n",
            " -79.29839294 -12.9103417   23.93441719  94.05507263   5.23169664]\n",
            "Accuracy -> 76.23785615644826 %\n",
            "#####################################\n",
            "RUN  24\n",
            "Time taken-> 199.637 ms\n",
            "Fittest individual-> SCORE -405.87102015168654 | INDIVIDUAL[-40.10143323  57.86061209 -46.58557208 -76.39559142 -14.95035401\n",
            " -83.75916163  -9.187275    29.50687177  91.49822432   9.59825978]\n",
            "Accuracy -> 90.19356003370812 %\n",
            "#####################################\n",
            "RUN  25\n",
            "Time taken-> 203.496 ms\n",
            "Fittest individual-> SCORE -414.3135326571417 | INDIVIDUAL[-42.49705361  57.57701523 -43.56693478 -73.04912369 -15.80028416\n",
            " -82.2751598  -11.56606409  25.05789791  91.48246787   6.6667069 ]\n",
            "Accuracy -> 92.06967392380928 %\n",
            "#####################################\n"
          ]
        }
      ]
    },
    {
      "cell_type": "markdown",
      "source": [
        "### F4"
      ],
      "metadata": {
        "id": "Nt3YHeeB42wT"
      }
    },
    {
      "cell_type": "code",
      "source": [
        "## Running Experiment F4\n",
        "## Hyperparameters\n",
        "VECTOR_LENGTH = 10\n",
        "GENERATION_ITER = 250\n",
        "POPULATION_LENGTH = 10\n",
        "BOUNDS = [-100,100]\n",
        "ELITE_RATE = 0.5\n",
        "OBJECTIVE_FUNC=f4\n",
        "exp2_f4 = run_experiment(OBJECTIVE_FUNC,VECTOR_LENGTH,GENERATION_ITER,POPULATION_LENGTH,BOUNDS,ELITE_RATE,experiment_runs)"
      ],
      "metadata": {
        "colab": {
          "base_uri": "https://localhost:8080/"
        },
        "id": "ek6v_qfe43i0",
        "outputId": "ad8388e5-d5a5-4a3c-e31e-ffaade4c6db4"
      },
      "execution_count": null,
      "outputs": [
        {
          "output_type": "stream",
          "name": "stdout",
          "text": [
            "RUN  1\n",
            "Time taken-> 233.67 ms\n",
            "Fittest individual-> SCORE 1387.5736838748478 | INDIVIDUAL[ 22.17675001 -67.79363432 -21.45278462 -58.91894534  90.34396522\n",
            "  14.63112425 -98.36246339   8.48155491  58.10587171 -38.01627406]\n",
            "Accuracy -> -308.349707527744 %\n",
            "#####################################\n",
            "RUN  2\n",
            "Time taken-> 232.12 ms\n",
            "Fittest individual-> SCORE 669.2163621519869 | INDIVIDUAL[ 31.18835702 -63.50160086 -42.10069367 -72.30879481  88.53807168\n",
            "  23.7214281  -67.42605391 -24.48704577  72.34149987 -37.73762149]\n",
            "Accuracy -> -148.71474714488596 %\n",
            "#####################################\n",
            "RUN  3\n",
            "Time taken-> 231.958 ms\n",
            "Fittest individual-> SCORE 4584.084769663237 | INDIVIDUAL[  5.40530208 -31.51483725 -46.33330721 -35.45745048  73.63622437\n",
            "  -9.79062104 -46.5652306  -34.03171096  69.26387955 -12.54142396]\n",
            "Accuracy -> -1018.6855043696082 %\n",
            "#####################################\n",
            "RUN  4\n",
            "Time taken-> 227.27100000000002 ms\n",
            "Fittest individual-> SCORE 354.13871393673605 | INDIVIDUAL[ 23.96969843 -84.01566787   3.70492314 -96.98688968  97.46201577\n",
            "  39.73269337 -69.11341502 -46.18129265  74.78358219 -36.86079595]\n",
            "Accuracy -> -78.69749198594135 %\n",
            "#####################################\n",
            "RUN  5\n",
            "Time taken-> 229.843 ms\n",
            "Fittest individual-> SCORE 1410.7161274477603 | INDIVIDUAL[ 37.02441172 -90.14070609 -30.01957281 -40.07528905  72.18524421\n",
            "  20.42902912 -64.27391622 -39.67283741  74.37321959 -19.04820822]\n",
            "Accuracy -> -313.49247276616893 %\n",
            "#####################################\n",
            "RUN  6\n",
            "Time taken-> 246.659 ms\n",
            "Fittest individual-> SCORE 1131.8396935227363 | INDIVIDUAL[ 25.15614245 -43.53536604 -45.6747997  -61.27581109  62.74339288\n",
            "  49.8518163  -76.91175522 -34.91171194  82.97815556 -43.50785145]\n",
            "Accuracy -> -251.5199318939414 %\n",
            "#####################################\n",
            "RUN  7\n",
            "Time taken-> 223.11 ms\n",
            "Fittest individual-> SCORE 2412.376152672942 | INDIVIDUAL[  4.263575   -22.57870578 -42.83145361 -75.10619028  85.66371729\n",
            "  21.06036589 -70.07485384 -27.8306327   82.2744465  -52.7257875 ]\n",
            "Accuracy -> -536.083589482876 %\n",
            "#####################################\n",
            "RUN  8\n",
            "Time taken-> 225.849 ms\n",
            "Fittest individual-> SCORE 1187.737747087539 | INDIVIDUAL[ 35.81621735 -91.11469784 -16.72979389 -40.53394483  39.46004591\n",
            "  62.04041821 -94.85446605 -16.74614132  71.59677573 -26.42067453]\n",
            "Accuracy -> -263.94172157500867 %\n",
            "#####################################\n",
            "RUN  9\n",
            "Time taken-> 227.522 ms\n",
            "Fittest individual-> SCORE 4080.8904650486184 | INDIVIDUAL[-11.21355477  -3.91762289 -59.04001256 -47.50183812  59.22442521\n",
            "  34.48557061 -74.97012698 -13.66715628  74.22752884 -39.43321638]\n",
            "Accuracy -> -906.8645477885818 %\n",
            "#####################################\n",
            "RUN  10\n",
            "Time taken-> 228.273 ms\n",
            "Fittest individual-> SCORE 422.21121526000707 | INDIVIDUAL[ 19.50155278 -57.13388665 -25.39745106 -68.16251594  78.71324278\n",
            "  28.65839393 -85.33217922 -21.27360076  78.13291268 -40.89856471]\n",
            "Accuracy -> -93.8247145022238 %\n",
            "#####################################\n",
            "RUN  11\n",
            "Time taken-> 234.227 ms\n",
            "Fittest individual-> SCORE 1750.1419238751628 | INDIVIDUAL[ 14.37921462 -78.5944291   17.87906802 -95.78494584  98.0173617\n",
            "  12.09915611 -68.95936596  -9.08574646  55.94209901 -33.30490485]\n",
            "Accuracy -> -388.9204275278139 %\n",
            "#####################################\n",
            "RUN  12\n",
            "Time taken-> 224.42000000000002 ms\n",
            "Fittest individual-> SCORE 6345.353824079178 | INDIVIDUAL[  3.53988819  -0.56536569 -81.08888089 -70.13278779  86.61175383\n",
            "  28.02847473 -93.4331987    9.97424765  32.54048463  -7.19319179]\n",
            "Accuracy -> -1410.0786275731507 %\n",
            "#####################################\n",
            "RUN  13\n",
            "Time taken-> 220.477 ms\n",
            "Fittest individual-> SCORE 3983.2396636782423 | INDIVIDUAL[ 39.77245121 -91.93696811  19.32363107 -66.08170531  12.34110874\n",
            "  67.38602257 -65.81275966 -41.83408562  82.92719188 -26.40663949]\n",
            "Accuracy -> -885.164369706276 %\n",
            "#####################################\n",
            "RUN  14\n",
            "Time taken-> 266.00600000000003 ms\n",
            "Fittest individual-> SCORE 3256.491081695674 | INDIVIDUAL[ 25.7974075  -66.30074687 -39.03496111 -23.6028016   24.34643865\n",
            "  50.56952429 -61.60878318 -35.76175202  77.10517867 -54.73229113]\n",
            "Accuracy -> -723.664684821261 %\n",
            "#####################################\n",
            "RUN  15\n",
            "Time taken-> 218.621 ms\n",
            "Fittest individual-> SCORE 3512.7948004956647 | INDIVIDUAL[ -4.79450403 -13.67614293 -34.40891493 -66.76633045  44.42431349\n",
            "  48.90319154 -84.2154732  -16.480634    62.23989762 -32.14726708]\n",
            "Accuracy -> -780.6210667768144 %\n",
            "#####################################\n",
            "RUN  16\n",
            "Time taken-> 220.62599999999998 ms\n",
            "Fittest individual-> SCORE 3229.114788429399 | INDIVIDUAL[  8.27795455 -73.48268993   7.36705354 -47.25405561  57.04888325\n",
            "  26.30388346 -90.55543345 -29.5669025   99.95377958 -36.78264683]\n",
            "Accuracy -> -717.5810640954221 %\n",
            "#####################################\n",
            "RUN  17\n",
            "Time taken-> 221.774 ms\n",
            "Fittest individual-> SCORE 1759.79471492308 | INDIVIDUAL[ 10.49097912 -84.17567968  15.60856326 -75.76748436  83.17117355\n",
            "  21.32042226 -71.89365063 -35.32639613  76.9793656  -26.12515691]\n",
            "Accuracy -> -391.06549220512886 %\n",
            "#####################################\n",
            "RUN  18\n",
            "Time taken-> 230.58200000000002 ms\n",
            "Fittest individual-> SCORE 11426.897440582681 | INDIVIDUAL[-44.43592761   9.99105222 -44.49420014 -26.93679563  24.63002022\n",
            "  68.72941272 -57.4166459  -30.22905659  34.71504747 -42.32794607]\n",
            "Accuracy -> -2539.310542351707 %\n",
            "#####################################\n",
            "RUN  19\n",
            "Time taken-> 227.535 ms\n",
            "Fittest individual-> SCORE 4966.022607315498 | INDIVIDUAL[ 22.20824384 -57.68441462 -67.20002915 -17.11204712  22.58960723\n",
            "  87.84703104 -77.3357701  -55.14216407  66.71331543 -27.33048352]\n",
            "Accuracy -> -1103.560579403444 %\n",
            "#####################################\n",
            "RUN  20\n",
            "Time taken-> 230.75300000000001 ms\n",
            "Fittest individual-> SCORE 2217.3079106870196 | INDIVIDUAL[ -2.54985869 -44.26081049  -8.65578913 -76.89712573  61.42718763\n",
            "  33.47716671 -65.54172508 -25.84557826  85.02564834 -60.09652338]\n",
            "Accuracy -> -492.7350912637821 %\n",
            "#####################################\n",
            "RUN  21\n",
            "Time taken-> 236.068 ms\n",
            "Fittest individual-> SCORE 606.2259940587257 | INDIVIDUAL[ 48.12996837 -75.14545405 -20.2096392  -96.6244468   76.78575035\n",
            "  45.44599043 -80.78601492 -21.80616234  69.86465189 -48.92642843]\n",
            "Accuracy -> -134.71688756860573 %\n",
            "#####################################\n",
            "RUN  22\n",
            "Time taken-> 231.197 ms\n",
            "Fittest individual-> SCORE 1205.1607364135102 | INDIVIDUAL[ 33.9082275  -82.14699694 -28.09235799 -38.81374651  52.07549265\n",
            "  49.61060548 -90.6384262  -12.00169826  47.62636344 -16.21768315]\n",
            "Accuracy -> -267.81349698078003 %\n",
            "#####################################\n",
            "RUN  23\n",
            "Time taken-> 249.302 ms\n",
            "Fittest individual-> SCORE 1341.2724559894461 | INDIVIDUAL[ 15.46657519 -44.93735062 -18.47531094 -85.76353254  50.63656837\n",
            "  63.55159478 -75.97037852 -28.32752141  70.81054722 -32.6386212 ]\n",
            "Accuracy -> -298.0605457754325 %\n",
            "#####################################\n",
            "RUN  24\n",
            "Time taken-> 218.038 ms\n",
            "Fittest individual-> SCORE 2525.2380804468567 | INDIVIDUAL[  5.88993164 -76.34159419  32.207705   -96.79310711  78.54604856\n",
            "  19.36118858 -59.70959216 -37.64873252  83.64354356 -53.7327939 ]\n",
            "Accuracy -> -561.1640178770792 %\n",
            "#####################################\n",
            "RUN  25\n",
            "Time taken-> 217.172 ms\n",
            "Fittest individual-> SCORE 912.3463275120544 | INDIVIDUAL[ 33.12078108 -84.5971354  -12.90673258 -55.25365384  48.58428689\n",
            "  48.61375521 -75.59636662 -30.30115964  57.95703753 -29.66285261]\n",
            "Accuracy -> -202.74362833601208 %\n",
            "#####################################\n"
          ]
        }
      ]
    },
    {
      "cell_type": "markdown",
      "source": [
        "### F8"
      ],
      "metadata": {
        "id": "t_JnkHv85DJt"
      }
    },
    {
      "cell_type": "code",
      "source": [
        "## Running Experiment F8\n",
        "## Hyperparameters\n",
        "VECTOR_LENGTH = 10\n",
        "GENERATION_ITER = 250\n",
        "POPULATION_LENGTH = 6\n",
        "BOUNDS = [-32,32]\n",
        "ELITE_RATE = 0.5\n",
        "OBJECTIVE_FUNC = f8\n",
        "exp2_f8 = run_experiment(OBJECTIVE_FUNC,VECTOR_LENGTH,GENERATION_ITER,POPULATION_LENGTH,BOUNDS,ELITE_RATE,experiment_runs)\n"
      ],
      "metadata": {
        "colab": {
          "base_uri": "https://localhost:8080/"
        },
        "id": "0ojj_T5x5EA0",
        "outputId": "8b948fcd-4a0a-4aba-9621-1a305a275bb4"
      },
      "execution_count": null,
      "outputs": [
        {
          "output_type": "stream",
          "name": "stdout",
          "text": [
            "RUN  1\n",
            "Time taken-> 205.231 ms\n",
            "Fittest individual-> SCORE -119.22005508746334 | INDIVIDUAL[-18.80006786 -10.37383301  11.26126943 -13.26438095  -8.86382691\n",
            "  28.99414501  -4.70937793   6.86611268  27.74225514  19.21561753]\n",
            "Accuracy -> 85.15718220533095 %\n",
            "#####################################\n",
            "RUN  2\n",
            "Time taken-> 223.748 ms\n",
            "Fittest individual-> SCORE -119.2927092015405 | INDIVIDUAL[-24.51511502  29.71014612 -26.39079296 -17.54698255 -28.32855016\n",
            "  -0.13290934   4.48639305   0.346715    28.14766484 -11.99107531]\n",
            "Accuracy -> 85.20907800110035 %\n",
            "#####################################\n",
            "RUN  3\n",
            "Time taken-> 198.063 ms\n",
            "Fittest individual-> SCORE -119.18851802927355 | INDIVIDUAL[ 18.61853637 -24.16944752   4.06752859  15.41957886 -18.75292352\n",
            "  11.1708501   25.54422372 -11.1693541  -12.80237918  15.50368398]\n",
            "Accuracy -> 85.1346557351954 %\n",
            "#####################################\n",
            "RUN  4\n",
            "Time taken-> 229.47400000000002 ms\n",
            "Fittest individual-> SCORE -119.19712326168923 | INDIVIDUAL[  1.66363306  22.74736654  -0.41110247  23.53563511 -25.06596333\n",
            "  -6.2753739   16.97587291  -9.01908191  26.17276765  28.39057545]\n",
            "Accuracy -> 85.14080232977803 %\n",
            "#####################################\n",
            "RUN  5\n",
            "Time taken-> 195.417 ms\n",
            "Fittest individual-> SCORE -119.1612037780238 | INDIVIDUAL[-26.70540481  18.75472416  25.17595233  26.99744949  -7.41397235\n",
            "  27.47110927   6.45880745 -19.474248    11.55843536  -3.54914315]\n",
            "Accuracy -> 85.11514555573129 %\n",
            "#####################################\n",
            "RUN  6\n",
            "Time taken-> 195.88 ms\n",
            "Fittest individual-> SCORE -119.300790125514 | INDIVIDUAL[-25.30847259 -14.8595256   19.14790736  22.92917636  -4.95740371\n",
            "  15.74330381 -27.1678577    8.33056711 -25.69538505   9.47710598]\n",
            "Accuracy -> 85.21485008965286 %\n",
            "#####################################\n",
            "RUN  7\n",
            "Time taken-> 246.424 ms\n",
            "Fittest individual-> SCORE -119.16244506370353 | INDIVIDUAL[ 26.62574953 -31.57506357  11.23659521   0.84453155 -15.35214942\n",
            "  29.08556698  27.50366281 -25.85062798  -2.55460594 -17.90444755]\n",
            "Accuracy -> 85.11603218835967 %\n",
            "#####################################\n",
            "RUN  8\n",
            "Time taken-> 198.595 ms\n",
            "Fittest individual-> SCORE -119.01803895411827 | INDIVIDUAL[-22.09952267  16.69270798   1.86603972 -19.82150182  27.94972518\n",
            " -18.30170791  17.66241385  -9.33938798  -3.80673621  -6.79972013]\n",
            "Accuracy -> 85.01288496722734 %\n",
            "#####################################\n",
            "RUN  9\n",
            "Time taken-> 193.215 ms\n",
            "Fittest individual-> SCORE -119.27742211930489 | INDIVIDUAL[-31.41863169   8.40370672 -30.60122873 -16.74922542  10.86811912\n",
            "   0.34831722   0.8472418  -24.60093696  23.88164082 -28.54048896]\n",
            "Accuracy -> 85.19815865664636 %\n",
            "#####################################\n",
            "RUN  10\n",
            "Time taken-> 204.604 ms\n",
            "Fittest individual-> SCORE -119.4990054832058 | INDIVIDUAL[ 17.93534716  -7.58352293  21.86746458  11.67281866  -2.24924872\n",
            " -21.71319791 -14.42006804 -19.25874159 -16.10048316   9.63074365]\n",
            "Accuracy -> 85.35643248800415 %\n",
            "#####################################\n",
            "RUN  11\n",
            "Time taken-> 232.49800000000002 ms\n",
            "Fittest individual-> SCORE -119.07069128478267 | INDIVIDUAL[  7.75785542  -6.58351826  -9.30963266  14.88185501   9.40396753\n",
            " -25.41527517  27.64370474  30.01948438  21.94080056  -2.79377634]\n",
            "Accuracy -> 85.05049377484475 %\n",
            "#####################################\n",
            "RUN  12\n",
            "Time taken-> 197.238 ms\n",
            "Fittest individual-> SCORE -119.19385951803193 | INDIVIDUAL[ 0.1509478   7.42318203 23.99577391 28.42176738 22.50149118  5.76738154\n",
            " -3.78035794 20.91954956 -7.14564087 26.27642647]\n",
            "Accuracy -> 85.13847108430852 %\n",
            "#####################################\n",
            "RUN  13\n",
            "Time taken-> 198.192 ms\n",
            "Fittest individual-> SCORE -119.40496324507885 | INDIVIDUAL[ 13.9504499   29.11416996  19.98298674 -11.46866069  -9.67010159\n",
            " -21.03317816   3.26940393  24.87975177 -25.13561037 -26.70246274]\n",
            "Accuracy -> 85.28925946077061 %\n",
            "#####################################\n",
            "RUN  14\n",
            "Time taken-> 188.35299999999998 ms\n",
            "Fittest individual-> SCORE -119.15885892142772 | INDIVIDUAL[-14.60966029 -29.70911249  -6.73358568 -28.29536718 -25.44868367\n",
            " -24.1046691  -11.11874594  24.26566646   8.83270748  15.08375735]\n",
            "Accuracy -> 85.11347065816265 %\n",
            "#####################################\n",
            "RUN  15\n",
            "Time taken-> 191.18699999999998 ms\n",
            "Fittest individual-> SCORE -119.23106014363057 | INDIVIDUAL[  0.74917368  25.22441104   8.25787913  -4.83697723  13.61534771\n",
            "   3.67099608  14.57342535 -30.90968154 -19.55288468   2.42533657]\n",
            "Accuracy -> 85.16504295973613 %\n",
            "#####################################\n",
            "RUN  16\n",
            "Time taken-> 233.037 ms\n",
            "Fittest individual-> SCORE -119.41168921266478 | INDIVIDUAL[15.99889972 14.88777026 14.0315357  17.79458536  2.80877351  0.55595241\n",
            " 19.29603298 27.85803079 23.3296215  26.75832661]\n",
            "Accuracy -> 85.29406372333199 %\n",
            "#####################################\n",
            "RUN  17\n",
            "Time taken-> 193.95499999999998 ms\n",
            "Fittest individual-> SCORE -119.32683509020372 | INDIVIDUAL[-16.63060644  21.14173082 -20.91813118 -17.24501007   2.92639502\n",
            "   3.91766417  22.36141746  -7.27804439  24.79872755 -22.23591151]\n",
            "Accuracy -> 85.2334536358598 %\n",
            "#####################################\n",
            "RUN  18\n",
            "Time taken-> 194.897 ms\n",
            "Fittest individual-> SCORE -119.0869001082272 | INDIVIDUAL[ 20.56065692 -11.94993943 -10.9311159   22.73771202   2.06968103\n",
            " -28.20694962 -22.83871193 -25.59514061  15.01433829 -22.98782087]\n",
            "Accuracy -> 85.06207150587657 %\n",
            "#####################################\n",
            "RUN  19\n",
            "Time taken-> 232.808 ms\n",
            "Fittest individual-> SCORE -119.46327430784027 | INDIVIDUAL[ 25.42299667  16.68387212  -2.29942251  -2.48108481  -9.28050937\n",
            " -30.27939792 -31.07313976 -28.32033778  -0.78656054 -10.01561775]\n",
            "Accuracy -> 85.33091021988591 %\n",
            "#####################################\n",
            "RUN  20\n",
            "Time taken-> 192.532 ms\n",
            "Fittest individual-> SCORE -119.22071889808765 | INDIVIDUAL[-29.39042939  20.69733666 -24.91595232  21.07353925 -21.8113271\n",
            "   5.15637238  10.04258651  12.9179296  -21.62236421 -20.2121238 ]\n",
            "Accuracy -> 85.15765635577691 %\n",
            "#####################################\n",
            "RUN  21\n",
            "Time taken-> 226.332 ms\n",
            "Fittest individual-> SCORE -119.23796064702879 | INDIVIDUAL[ -4.19235177 -31.65060164  -6.47256524  29.64039441 -11.51307687\n",
            " -15.32225129  24.14206445  22.09570707 -16.40107857 -26.64054882]\n",
            "Accuracy -> 85.16997189073484 %\n",
            "#####################################\n",
            "RUN  22\n",
            "Time taken-> 234.86599999999999 ms\n",
            "Fittest individual-> SCORE -119.19143928420564 | INDIVIDUAL[ -5.30584431  29.77763651 -27.15419508 -30.14003309  10.81981057\n",
            "  -8.15081743  -2.72884006  26.38211978  25.21124454  25.44565064]\n",
            "Accuracy -> 85.13674234586117 %\n",
            "#####################################\n",
            "RUN  23\n",
            "Time taken-> 221.184 ms\n",
            "Fittest individual-> SCORE -119.42844961119988 | INDIVIDUAL[  6.38563361   5.55359004 -22.87387434 -20.10754319   4.83288338\n",
            " -12.67044023 -25.16147096  10.45787246  12.61135969  -2.49473816]\n",
            "Accuracy -> 85.30603543657135 %\n",
            "#####################################\n",
            "RUN  24\n",
            "Time taken-> 197.741 ms\n",
            "Fittest individual-> SCORE -119.2815003672812 | INDIVIDUAL[ -4.43973371   2.0672554   20.25452015  -2.35820324  18.31625786\n",
            "   9.37911214   1.59875524 -27.99271715 -23.98555726   2.58989262]\n",
            "Accuracy -> 85.20107169091514 %\n",
            "#####################################\n",
            "RUN  25\n",
            "Time taken-> 233.646 ms\n",
            "Fittest individual-> SCORE -119.05740529241092 | INDIVIDUAL[-16.38236751  26.77138973  -4.22468366   2.48392291   9.86602213\n",
            "  -4.94535747  16.20777338  11.83212516  26.76942202  20.98175675]\n",
            "Accuracy -> 85.04100378029351 %\n",
            "#####################################\n"
          ]
        }
      ]
    },
    {
      "cell_type": "markdown",
      "source": [
        "## Analysis"
      ],
      "metadata": {
        "id": "y6uEWC4s5Q0A"
      }
    },
    {
      "cell_type": "markdown",
      "source": [
        "### F1, F4 ,F8"
      ],
      "metadata": {
        "id": "p2ChBmqU5Q0B"
      }
    },
    {
      "cell_type": "code",
      "source": [
        "x_axis = [i for i in range(experiment_runs)]\n",
        "plt.plot(x_axis, exp2_f1['accuracies'])\n",
        "plt.plot(x_axis, exp2_f4['accuracies'])\n",
        "plt.plot(x_axis, exp2_f8['accuracies'])\n",
        "\n",
        "plt.title('Accuracy vs Runs')\n",
        "plt.xlabel('Runs')\n",
        "plt.ylabel('Accuracy(%)')\n",
        "plt.legend(['F1', 'F4','F8'])\n",
        "plt.show()"
      ],
      "metadata": {
        "colab": {
          "base_uri": "https://localhost:8080/"
        },
        "outputId": "9f1975c7-8d89-4108-f4aa-7a99dbd17728",
        "id": "_a4pOFAl5Q0B"
      },
      "execution_count": null,
      "outputs": [
        {
          "output_type": "display_data",
          "data": {
            "text/plain": [
              "<Figure size 432x288 with 1 Axes>"
            ],
            "image/png": "[encoded data removed]"
          },
          "metadata": {
            "needs_background": "light"
          }
        }
      ]
    },
    {
      "cell_type": "markdown",
      "source": [
        "### F1"
      ],
      "metadata": {
        "id": "vlkuVrJi5Q0B"
      }
    },
    {
      "cell_type": "code",
      "source": [
        "## F1 Convergence Single Run\n",
        "x_axis = [i for i in range(len(exp2_f1['runs'][0]))]\n",
        "plt.plot(x_axis, exp2_f1['runs'][0])\n",
        "plt.title('Convergence')\n",
        "plt.xlabel('Number of iterations')\n",
        "plt.ylabel('Fitness')\n",
        "plt.show()"
      ],
      "metadata": {
        "colab": {
          "base_uri": "https://localhost:8080/"
        },
        "outputId": "956e7210-a5e3-4990-bfbe-07a563929c31",
        "id": "wfZOYYTZ5Q0B"
      },
      "execution_count": null,
      "outputs": [
        {
          "output_type": "display_data",
          "data": {
            "text/plain": [
              "<Figure size 432x288 with 1 Axes>"
            ],
            "image/png": "[encoded data removed]"
          },
          "metadata": {
            "needs_background": "light"
          }
        }
      ]
    },
    {
      "cell_type": "markdown",
      "source": [
        "### F4"
      ],
      "metadata": {
        "id": "eYFxP3o75Q0B"
      }
    },
    {
      "cell_type": "code",
      "source": [
        "## F4 Convergence Single Run\n",
        "x_axis = [i for i in range(len(exp2_f4['runs'][0]))]\n",
        "plt.plot(x_axis, exp2_f4['runs'][0])\n",
        "plt.title('Convergence')\n",
        "plt.xlabel('Number of iterations')\n",
        "plt.ylabel('Fitness')\n",
        "plt.show()"
      ],
      "metadata": {
        "colab": {
          "base_uri": "https://localhost:8080/"
        },
        "outputId": "f3d94d96-df6c-4f02-df5a-97ed0af89b50",
        "id": "Pf5D_kAT5Q0B"
      },
      "execution_count": null,
      "outputs": [
        {
          "output_type": "display_data",
          "data": {
            "text/plain": [
              "<Figure size 432x288 with 1 Axes>"
            ],
            "image/png": "[encoded data removed]"
          },
          "metadata": {
            "needs_background": "light"
          }
        }
      ]
    },
    {
      "cell_type": "markdown",
      "source": [
        "### F8"
      ],
      "metadata": {
        "id": "6V-Ap6BA5Q0B"
      }
    },
    {
      "cell_type": "code",
      "source": [
        "## F8 Convergence Single Run\n",
        "x_axis = [i for i in range(len(exp2_f8['runs'][0]))]\n",
        "plt.plot(x_axis, exp2_f8['runs'][0])\n",
        "plt.title('Convergence')\n",
        "plt.xlabel('Number of iterations')\n",
        "plt.ylabel('Fitness')\n",
        "plt.show()"
      ],
      "metadata": {
        "colab": {
          "base_uri": "https://localhost:8080/"
        },
        "outputId": "03b7e302-8034-4a86-f66d-a8f239299589",
        "id": "Mpfz08zf5Q0B"
      },
      "execution_count": null,
      "outputs": [
        {
          "output_type": "display_data",
          "data": {
            "text/plain": [
              "<Figure size 432x288 with 1 Axes>"
            ],
            "image/png": "[encoded data removed]"
          },
          "metadata": {
            "needs_background": "light"
          }
        }
      ]
    },
    {
      "cell_type": "code",
      "source": [
        "best_exp2_f1 = np.max(exp2_f1['accuracies'])\n",
        "print('Best F1 Accuracy->',best_exp2_f1)\n",
        "best_exp2_f4 = np.max(exp2_f4['accuracies'])\n",
        "print('Best F4 Accuracy->',best_exp2_f4)\n",
        "best_exp2_f8 = np.max(exp2_f8['accuracies'])\n",
        "print('Best F8 Accuracy->',best_exp2_f8)"
      ],
      "metadata": {
        "colab": {
          "base_uri": "https://localhost:8080/"
        },
        "outputId": "1f62b6df-22e6-4cc7-dc46-eee8b443e524",
        "id": "bZHMyhq35Q0B"
      },
      "execution_count": null,
      "outputs": [
        {
          "output_type": "stream",
          "name": "stdout",
          "text": [
            "Best F1 Accuracy-> 95.53361797615088\n",
            "Best F4 Accuracy-> -78.69749198594135\n",
            "Best F8 Accuracy-> 85.35643248800415\n"
          ]
        }
      ]
    },
    {
      "cell_type": "code",
      "source": [
        "worst_exp2_f1 = np.min(exp2_f1['accuracies'])\n",
        "print('Worst F1 Accuracy->',worst_exp2_f1)\n",
        "worst_exp2_f4 = np.min(exp2_f4['accuracies'])\n",
        "print('Worst F4 Accuracy->',worst_exp2_f4)\n",
        "worst_exp2_f8 = np.min(exp2_f8['accuracies'])\n",
        "print('Worst F8 Accuracy->',worst_exp2_f8)"
      ],
      "metadata": {
        "colab": {
          "base_uri": "https://localhost:8080/"
        },
        "outputId": "6b148671-c3eb-4b5c-fb4d-0da048673929",
        "id": "KXTJN2CY5Q0C"
      },
      "execution_count": null,
      "outputs": [
        {
          "output_type": "stream",
          "name": "stdout",
          "text": [
            "Worst F1 Accuracy-> 73.2390109135311\n",
            "Worst F4 Accuracy-> -2539.310542351707\n",
            "Worst F8 Accuracy-> 85.01288496722734\n"
          ]
        }
      ]
    },
    {
      "cell_type": "code",
      "source": [
        "median_exp2_f1 = np.median(exp2_f1['accuracies'])\n",
        "print('median F1 Accuracy->',median_exp2_f1)\n",
        "median_exp2_f4 = np.median(exp2_f4['accuracies'])\n",
        "print('median F4 Accuracy->',median_exp2_f4)\n",
        "median_exp2_f8 = np.median(exp2_f8['accuracies'])\n",
        "print('median F8 Accuracy->',median_exp2_f8)"
      ],
      "metadata": {
        "colab": {
          "base_uri": "https://localhost:8080/"
        },
        "outputId": "8bffcb0a-d2ef-447b-d3b3-ea2654a27fcb",
        "id": "WrFAkJKV5Q0C"
      },
      "execution_count": null,
      "outputs": [
        {
          "output_type": "stream",
          "name": "stdout",
          "text": [
            "median F1 Accuracy-> 90.1074589378354\n",
            "median F4 Accuracy-> -391.06549220512886\n",
            "median F8 Accuracy-> 85.15765635577691\n"
          ]
        }
      ]
    },
    {
      "cell_type": "code",
      "source": [
        "reliability_exp2_f1 = mean(exp2_f1['accuracies'])\n",
        "accuracy_exp2_f1 = mean(exp2_f1['accuracies'][0:20])\n",
        "efficiency_exp2_f1 = mean(exp2_f1['timedRuns'])\n",
        "\n",
        "print(\"Reliability\",reliability_exp2_f1)\n",
        "print(\"Accuracy\",accuracy_exp2_f1)\n",
        "print(\"Efficiency\",efficiency_exp2_f1)"
      ],
      "metadata": {
        "colab": {
          "base_uri": "https://localhost:8080/"
        },
        "id": "Fdm6jksZ6cmf",
        "outputId": "94e2f3cb-bbad-4435-bec1-ea45789305ef"
      },
      "execution_count": null,
      "outputs": [
        {
          "output_type": "stream",
          "name": "stdout",
          "text": [
            "Reliability 88.69368060657602\n",
            "Accuracy 88.48042900345388\n",
            "Efficiency 211.812\n"
          ]
        }
      ]
    },
    {
      "cell_type": "code",
      "source": [
        "reliability_exp2_f4 = mean(exp2_f4['accuracies'])\n",
        "accuracy_exp2_f4 = mean(exp2_f4['accuracies'][0:20])\n",
        "efficiency_exp2_f4 = mean(exp2_f4['timedRuns'])\n",
        "\n",
        "print(\"Reliability\",reliability_exp2_f4)\n",
        "print(\"Accuracy\",accuracy_exp2_f4)\n",
        "print(\"Efficiency\",efficiency_exp2_f4)"
      ],
      "metadata": {
        "colab": {
          "base_uri": "https://localhost:8080/"
        },
        "id": "rqtY9p74649J",
        "outputId": "b8d9e0e8-ab20-4ee3-a423-9011d729d787"
      },
      "execution_count": null,
      "outputs": [
        {
          "output_type": "stream",
          "name": "stdout",
          "text": [
            "Reliability -592.6949980519876\n",
            "Accuracy -667.6438187380891\n",
            "Efficiency 230.12292\n"
          ]
        }
      ]
    },
    {
      "cell_type": "code",
      "source": [
        "reliability_exp2_f8 = mean(exp2_f8['accuracies'])\n",
        "accuracy_exp2_f8 = mean(exp2_f8['accuracies'][0:20])\n",
        "efficiency_exp2_f8 = mean(exp2_f8['timedRuns'])\n",
        "\n",
        "print(\"Reliability\",reliability_exp2_f8)\n",
        "print(\"Accuracy\",accuracy_exp2_f8)\n",
        "print(\"Efficiency\",efficiency_exp2_f8)"
      ],
      "metadata": {
        "colab": {
          "base_uri": "https://localhost:8080/"
        },
        "id": "uCYnt7SV7Dvh",
        "outputId": "064b6187-8d80-45f3-c64a-fea0e1a31f95"
      },
      "execution_count": null,
      "outputs": [
        {
          "output_type": "stream",
          "name": "stdout",
          "text": [
            "Reliability 85.17379762959825\n",
            "Accuracy 85.17450577977901\n",
            "Efficiency 210.36468\n"
          ]
        }
      ]
    }
  ]
}